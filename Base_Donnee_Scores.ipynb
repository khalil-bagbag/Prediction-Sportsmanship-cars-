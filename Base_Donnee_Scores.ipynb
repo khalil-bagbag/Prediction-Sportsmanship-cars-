{
  "nbformat": 4,
  "nbformat_minor": 0,
  "metadata": {
    "colab": {
      "name": "Base_Donnee_Scores.ipynb",
      "provenance": [],
      "collapsed_sections": []
    },
    "kernelspec": {
      "name": "python3",
      "display_name": "Python 3"
    },
    "language_info": {
      "name": "python"
    }
  },
  "cells": [
    {
      "cell_type": "code",
      "metadata": {
        "id": "jrG5y4MVffXN"
      },
      "source": [
        "import pandas as pd"
      ],
      "execution_count": null,
      "outputs": []
    },
    {
      "cell_type": "code",
      "metadata": {
        "id": "BlRVaWbBfsJT"
      },
      "source": [
        "resultat_alpha_audi={'ALFA ROMEO 159': 10.376559, 'ALFA ROMEO 4C': 14.831973, 'ALFA ROMEO AR8C SPIDER': 16.997547, 'ALFA ROMEO BRERA ': 13.123381, 'ALFA ROMEO GIULIETTA ': 15.250566, 'ALFA ROMEO MITO ': 20.782114, 'ALFA ROMEO SPIDER ': 13.698536, 'AUDI A1': 13.070835, 'AUDI S1': 14.704817, 'AUDI A1 SPORTBACK': 11.494576, 'AUDI S1 SPORTBACK': 14.6290455, 'AUDI A3': 12.202611, 'AUDI S3': 13.899887, 'AUDI A3 CABRIOLET': 17.024063, 'AUDI S3 CABRIOLET': 11.427822, 'AUDI A3 LIMOUSINE': 17.592258, 'AUDI S3 LIMOUSINE': 13.663857, 'AUDI A3 SPORTBACK': 12.575362, 'AUDI S3 SPORTBACK': 15.34195, 'AUDI A3 SPORTBACK E-TRON': 13.0824, 'AUDI RS 3 SPORTBACK': 15.906243, 'AUDI A4 AVANT': 15.978995, 'AUDI S4 AVANT': 14.233163, 'AUDI A4 ALLROAD QUATTRO': 11.446545, 'AUDI A4 LIMOUSINE': 10.945161, 'AUDI S4 LIMOUSINE': 15.13072, 'AUDI A5 COUPE': 15.654849, 'AUDI S5 COUPE': 14.206305, 'AUDI A5 CABRIOLET': 13.671553, 'AUDI S5 CABRIOLET': 19.236305, 'AUDI A5 SPORTBACK': 15.691305, 'AUDI S5 SPORTBACK': 10.581042, 'AUDI A6 AVANT': 10.787785, 'AUDI S6 AVANT': 13.64428, 'AUDI RS 6 AVANT': 14.197757, 'AUDI A6 ALLROAD QUATTRO': 10.174195, 'AUDI A6 LIMOUSINE': 9.957563, 'AUDI S6 LIMOUSINE': 15.734896, 'AUDI A7 SPORTBACK': 13.237353, 'AUDI S7 SPORTBACK': 17.846588, 'AUDI RS 7 SPORTBACK': 13.237353, 'AUDI A8L': 10.373586, 'AUDI A8LW12': 12.118509, 'AUDI A8': 10.373586, 'AUDI S8': 10.643647, 'AUDI Q3': 8.377413, 'AUDI Q5': 12.246614, 'AUDI SQ5 TDI': 11.582212, 'AUDI Q7': 9.223952, 'AUDI R8 COUPE': 18.469847, 'AUDI R8 SPYDER': 17.733513, 'AUDI TT COUPE ': 12.733743, 'AUDI TT ROADSTER ': 12.991097, 'AUDI TTS ROADSTER ': 12.433792}"
      ],
      "execution_count": null,
      "outputs": []
    },
    {
      "cell_type": "code",
      "metadata": {
        "id": "a5PePXUIfsMy"
      },
      "source": [
        "resultat_Bently_Citroen={'BENTLEY CONTINENTAL GT SPEED ': 17.184042, 'BENTLEY CONTINENTAL GT ': 14.640736, 'BENTLEY CONTINENTAL GT V8': 15.022977, 'BENTLEY CONTINENTAL GT V8 S': 12.632848, 'BENTLEY CONTINENTAL GT3-R': 14.848703, 'BENTLEY CONTINENTAL GT SPEED CONV ': 18.810688, 'BENTLEY CONTINENTAL GT CONV ': 15.574291, 'BENTLEY CONTINENTAL GT V8 CONV': 12.87875, 'BENTLEY CONTINENTAL GT V8 S CONV': 15.980573, 'BENTLEY FLYING SPUR W12': 10.21747, 'BENTLEY FLYING SPUR V8': 19.52326, 'BENTLEY MULSANNE ': 10.453824, 'BENTLEY MULSANNE SPEED ': 11.911858, 'BMW SERIE 1': 10.340026, 'BMW SERIE 2': 13.912762, 'BMW SERIE 3': 14.4522295, 'BMW SERIE 4': 18.626026, 'BMW SERIE 5': 16.956501, 'BMW SERIE 6': 14.464093, 'BMW SERIE 7': 12.999398, 'BMW M3': 14.554123, 'BMW M4': 18.015924, 'BMW M5': 15.073245, 'BMW SERIE X ': 9.406727, 'BMW SERIE Z ': 16.449146, 'BMW I SERIE I ': 10.203457, 'CADILLAC ATS ': 13.483189, 'CADILLAC CTS ': 14.539122, 'CADILLAC ESCALADE ': 6.8295455, 'CADILLAC SRX ': 0, 'CHEVROLET CAMARO ': 18.064613, 'CHEVROLET CORVETTE ': 19.571651, 'CITROEN BERLINGO ': 11.200632, 'CITROEN C-ZERO ': 0, 'CITROEN C1': 11.790014, 'CITROEN C3': 8.219314, 'CITROEN C3 PICASSO': 10.472655, 'CITROEN C4': 8.379906, 'CITROEN C4 AIRCROSS': 11.887551, 'CITROEN C4 CACTUS': 7.907484, 'CITROEN C4 PICASSO': 9.037332, 'CITROEN C5': 9.434932, 'CITROEN C8': 0, 'CITROEN DS3': 14.6051445, 'CITROEN DS4': 9.28043, 'CITROEN DS5': 9.713765, 'CITROEN JUMPER ': 0, 'CITROEN JUMPY ': 8.555829, 'CITROEN NEMO ': 8.161078}"
      ],
      "execution_count": null,
      "outputs": []
    },
    {
      "cell_type": "code",
      "metadata": {
        "id": "47ADybJjfsPs"
      },
      "source": [
        "resultat_Dacia_Hyndia={'DANGEL BERLINGO ': 0, 'DANGEL JUMPER 4X4': 0, 'DANGEL JUMPY 4x4': 0, 'DANGEL NEMO TREK ': 0, 'DANGEL DUCATO 4x4': 0, 'DANGEL SCUDO 4x4': 0, 'DANGEL BIPPER TREK ': 11.272973, 'DANGEL BOXER 4X4': 0, 'DANGEL EXPERT 4x4': 0, 'DANGEL PARTNER ': 13.142806, 'DACIA DOKKER ': 0, 'DACIA DUSTER ': 0, 'DACIA LODGY ': 0, 'DACIA LOGAN ': 8.86528, 'DACIA SANDERO ': 9.532442, 'FERRARI 458': 17.532059, 'FERRARI CALIFORNIA ': 18.099144, 'FERRARI 12': 20.947376, 'FERRARI FF ': 13.946455, 'FERRARI LAFERRARI ': 22.412098, 'FIAT 500': 13.037354, 'FIAT 500C': 15.950784, 'FIAT 500 ABARTH': 12.118115, 'FIAT 500C ABARTH': 8.715285, 'FIAT 500L': 10.549083, 'FIAT BRAVO ': 11.166266, 'FIAT DOBLO ': 0, 'FIAT DUCATO ': 0, 'FIAT FIORINO ': 8.153634, 'FIAT FREEMONT ': 14.115106, 'FIAT PANDA ': 12.701095, 'FIAT PUNTO ': 11.269648, 'FIAT SCUDO ': 0, 'FIAT SEDICI ': 0, 'FORD B-MAX ': 10.634874, 'FORD GRAND C-MAX ': 8.965445, 'FORD C-MAX ': 8.269832, 'FORD ECOSPORT ': 11.955466, 'FORD FIESTA ': 10.199815, 'FORD FOCUS ': 15.305152, 'FORD KA ': 12.24943, 'FORD KUGA ': 15.055075, 'FORD MONDEO ': 11.213454, 'FORD S-MAX ': 11.386514, 'FORD TOURNEO ': 0, 'FORD TOURNEO COURIER ': 11.205654, 'FORD TOURNEO CUSTOM ': 0, 'FORD TRANSIT ': 0, 'FORD TRANSIT CUSTOM ': 0, 'FORD-CNG-TECHNIK MONDEO HYBRID ': 17.451982, 'HONDA ACCORD ': 12.916486, 'HONDA CIVIC ': 12.785089, 'HONDA CR-V ': 11.140395, 'HONDA CR-Z ': 11.935406, 'HONDA INSIGHT ': 9.0046625, 'HONDA JAZZ ': 12.84994, 'HONDA JAZZ HYBRID ': 9.121473, 'HYUNDAI GENESIS ': 14.624572, 'HYUNDAI I 10': 14.154625, 'HYUNDAI I 20': 12.106484, 'HYUNDAI I 30': 12.721966, 'HYUNDAI I40': 13.83507, 'HYUNDAI IX20': 10.405546, 'HYUNDAI IX 35': 9.628035, 'HYUNDAI SANTA FE ': 11.691709, 'HYUNDAI VELOSTER ': 14.502788}"
      ],
      "execution_count": null,
      "outputs": []
    },
    {
      "cell_type": "code",
      "metadata": {
        "id": "9Dkp3KySgIW1"
      },
      "source": [
        "resultat_Infifnity_LandRover={'INFINITI Q50': 14.993926, 'INFINITI Q60': 15.45472, 'INFINITI Q70': 15.480587, 'INFINITI QX50': 12.913082, 'INFINITI QX70': 11.018745, 'JAGUAR F-TYPE ': 17.910227, 'JAGUAR XF ': 11.475313, 'JAGUAR XF SPORTBRAKE ': 13.530283, 'JAGUAR XJ ': 13.10983, 'JEEP CHEROKEE ': 0, 'JEEP COMPASS ': 9.461135, 'JEEP GRAND CHEROKEE ': 14.845713, 'JEEP GRAND CHEROKEE SRT8': 12.397548, 'JEEP WRANGLER ': 0, 'JEEP WRANGLER UNLIMITED ': 0, 'KIA CARENS ': 11.747878, \"KIA CEE'D \": 9.746482, 'KIA OPTIMA ': 17.375856, 'KIA PICANTO ': 12.926582, 'KIA RIO ': 9.2249155, 'KIA SORENTO ': 11.384877, 'KIA SOUL ': 9.509423, 'KIA SPORTAGE ': 13.260007, 'KIA VENGA ': 11.353968, 'LADA 4X4': 8.191124, 'LAMBORGHINI AVENTADOR ': 16.398157, 'LAMBORGHINI GALLARDO ': 16.292963, 'LAMBORGHINI HURACAN ': 20.404951, 'LANCIA DELTA ': 12.737686, 'LANCIA FLAVIA ': 11.448386, 'LANCIA MUSA ': 8.930084, 'LANCIA THEMA ': 10.545906, 'LANCIA VOYAGER ': 11.853029, 'LANCIA YPSILON ': 11.0707855, 'LAND ROVER DISCOVERY ': 9.464237, 'LAND ROVER DISCOVERY SPORT ': 12.264362, 'LAND ROVER FREELANDER ': 9.235557, 'RANGE ROVER ': 11.816732, 'RANGE ROVER EVOQUE ': 18.814426, 'RANGE ROVER SPORT ': 10.528304}"
      ],
      "execution_count": null,
      "outputs": []
    },
    {
      "cell_type": "code",
      "metadata": {
        "id": "RG2E728ygIZo"
      },
      "source": [
        "resultat_Lexus_Mercedes={'LEXUS CT200H': 10.912318, 'LEXUS GS450': 12.098097, 'LEXUS GS300': 9.572818, 'LEXUS GS250': 13.606593, 'LEXUS IS F ': 12.016998, 'LEXUS IS220': 12.923829, 'LEXUS IS200': 14.905552, 'LEXUS IS300H': 16.833502, 'LEXUS IS250': 17.464722, 'LEXUS LEXUS LFA ': 17.24971, 'LEXUS LS460': 14.577887, 'LEXUS LS600': 12.175249, 'LEXUS NX200T': 12.523384, 'LEXUS NX300H': 16.280209, 'LEXUS LEXUS RC F ': 19.68581, 'LEXUS RX350': 11.66918, 'LEXUS RX450H': 18.873453, 'MASERATI GHIBLI S ': 14.001314, 'MASERATI GHIBLI S Q4': 13.238889, 'MASERATI GHIBLI ': 19.983189, 'MASERATI GHIBLI DIESEL ': 16.052813, 'MASERATI GRANCABRIO ': 12.465559, 'MASERATI GRANCABRIO SPORT ': 13.646898, 'MASERATI GRANCABRIO MC ': 14.147495, 'MASERATI GRANTURISMO ': 20.471859, 'MASERATI GRANTURISMO SPORT ': 21.062035, 'MASERATI QUATTROPORTE GTS ': 13.887167, 'MASERATI QUATTROPORTE ': 13.876429, 'MASERATI QUATTROPORTE S ': 11.745634, 'MASERATI QUATTROPORTE S Q4': 7.9793625, 'MASERATI QUATTROPORTE DIESEL ': 14.599355, 'MAZDA MAZDA 2': 13.011833, 'MAZDA MAZDA 3': 13.753514, 'MAZDA MAZDA 5': 14.311469, 'MAZDA MAZDA 6': 14.399532, 'MAZDA MAZDA CX-5': 14.311469, 'MAZDA MX-5': 19.869251, 'MERCEDES CLASSE A ': 14.135773, 'MERCEDES GT ': 20.089434, 'MERCEDES CLASSE B ': 8.056934, 'MERCEDES CLASSE C ': 12.077814, 'MERCEDES CITAN ': 0, 'MERCEDES CLASSE CL ': 13.066196, 'MERCEDES CLASSE CLA ': 16.727411, 'MERCEDES CLASSE V ': 10.444625, 'MERCEDES CLASSE CLS ': 13.947634, 'MERCEDES CLASSE E ': 15.095927, 'MERCEDES CLASSE G ': 9.017655, 'MERCEDES CLASSE GL ': 11.327351, 'MERCEDES CLASSE M ': 10.114692, 'MERCEDES CLASSE GLA ': 11.527395, 'MERCEDES CLASSE S ': 10.238022, 'MERCEDES S63 AMG': 10.87719, 'MERCEDES S65 AMG': 19.309439, 'MERCEDES CLASSE SL ': 18.249819, 'MERCEDES CLASSE SLK ': 14.026109, 'MERCEDES SLS AMG ': 15.007809, 'MERCEDES SPRINTER ': 0, 'MERCEDES VITO ': 9.708964}"
      ],
      "execution_count": null,
      "outputs": []
    },
    {
      "cell_type": "code",
      "metadata": {
        "id": "ERzHwtJUgIcJ"
      },
      "source": [
        "resultat_Mini_Peugeot={'MINI MINI ': 13.294758, 'MITSUBISHI ASX ': 16.47491, 'MITSUBISHI I-MIEV ': 8.568532, 'MITSUBISHI OUTLANDER ': 13.241561, 'MITSUBISHI PAJERO ': 18.387987, 'MITSUBISHI SPACE STAR ': 11.510229, 'NISSAN 370Z': 13.748858, 'NISSAN 370Z ROADSTER': 13.748858, 'NISSAN GT-R ': 15.198308, 'NISSAN JUKE ': 16.230776, 'NISSAN LEAF ': 10.627826, 'NISSAN MICRA ': 14.881414, 'NISSAN MURANO ': 14.12509, 'NISSAN NOTE ': 8.594523, 'NISSAN NV200': 0, 'NISSAN E-NV200': 0, 'NISSAN NV300': 9.111602, 'NISSAN NV400': 0, 'NISSAN PULSAR ': 10.265837, 'NISSAN QASHQAI ': 15.988812, 'NISSAN X-TRAIL ': 9.433926, 'OPEL ADAM ': 11.733893, 'OPEL AGILA ': 12.203449, 'OPEL AMPERA ': 13.5043745, 'OPEL ANTARA ': 0, 'OPEL ASTRA GTC ': 15.57448, 'OPEL ASTRA SPORTS TOURER ': 9.876941, 'OPEL ASTRA ': 10.228082, 'OPEL CASCADA ': 26.73579, 'OPEL COMBO ': 0, 'OPEL CORSA ': 15.095334, 'OPEL INSIGNIA ': 15.23494, 'OPEL MERIVA ': 12.419812, 'OPEL MOKKA ': 12.370312, 'OPEL MOVANO ': 0, 'OPEL VIVARO ': 7.2132297, 'OPEL ZAFIRA TOURER ': 10.792505, 'PEUGEOT 108': 10.855825, 'PEUGEOT 2008': 15.917138, 'PEUGEOT 207': 11.40547, 'PEUGEOT 208': 15.68458, 'PEUGEOT 3008': 13.606207, 'PEUGEOT 308': 13.036921, 'PEUGEOT 4008': 10.189456, 'PEUGEOT 5008': 15.472451, 'PEUGEOT 508': 14.689935, 'PEUGEOT BIPPER ': 0, 'PEUGEOT BIPPER TREK ': 11.272973, 'PEUGEOT BOXER 4X4': 0, 'PEUGEOT BOXER ': 0, 'PEUGEOT EXPERT 4x4': 0, 'PEUGEOT EXPERT ': 0, 'PEUGEOT ION ': 9.166283, 'PEUGEOT PARTNER ': 8.186521, 'PEUGEOT RCZ ': 17.685207}"
      ],
      "execution_count": null,
      "outputs": []
    },
    {
      "cell_type": "code",
      "metadata": {
        "id": "S2gwjIcNgivC"
      },
      "source": [
        "resultat_Porche_Skoda={'PORSCHE 911': 15.552532, 'PORSCHE 911 GT3 RS': 11.6944275, 'PORSCHE 911 TURBO': 17.907602, 'PORSCHE 911 TURBO S': 15.143225, 'PORSCHE 918 SPYDER': 17.817728, 'PORSCHE BOXSTER ': 20.11393, 'PORSCHE BOXSTER S ': 14.886269, 'PORSCHE BOXSTER GTS ': 14.848888, 'PORSCHE CAYENNE ': 12.048587, 'PORSCHE CAYENNE DIESEL ': 11.097528, 'PORSCHE CAYENNE S DIESEL ': 10.92107, 'PORSCHE CAYENNE S ': 13.459955, 'PORSCHE CAYENNE TURBO ': 11.913914, 'PORSCHE CAYENNE GTS ': 9.861058, 'PORSCHE CAYENNE S E-HYBRID ': 14.441405, 'PORSCHE CAYMAN ': 14.864591, 'PORSCHE CAYMAN S ': 15.306742, 'PORSCHE CAYMAN GTS ': 17.339888, 'PORSCHE MACAN S ': 7.5418077, 'PORSCHE MACAN TURBO ': 12.837037, 'PORSCHE MACAN S DIESEL ': 16.10678, 'PORSCHE PANAMERA ': 13.134773, 'PORSCHE PANAMERA 4': 13.621759, 'PORSCHE PANAMERA S ': 16.011396, 'PORSCHE PANAMERA 4S': 17.825016, 'PORSCHE PANAMERA TURBO ': 14.241129, 'PORSCHE PANAMERA TURBO S ': 13.730783, 'PORSCHE PANAMERA GTS ': 14.758581, 'PORSCHE PANAMERA DIESEL ': 10.842545, 'PORSCHE PANAMERA S E-HYBRID ': 13.26183, 'RENAULT CAPTUR ': 12.6281805, 'RENAULT CLIO ': 17.10837, 'RENAULT ESPACE ': 11.708909, 'RENAULT KANGOO ': 0, 'RENAULT KOLEOS ': 7.6188564, 'RENAULT LAGUNA ': 8.078411, 'RENAULT LATITUDE ': 9.121569, 'RENAULT MASTER ': 0, 'RENAULT MEGANE ': 10.583999, 'RENAULT MEGANE SCENIC ': 9.844272, 'RENAULT TRAFIC ': 6.594412, 'RENAULT TWINGO ': 9.3776455, 'RENAULT ZOE ': 13.326799, 'ROLLS ROYCE GHOST ': 11.68263, 'ROLLS ROYCE PHANTOM ': 12.751983, 'ROLLS ROYCE PHANTOM COUPE ': 12.938082, 'ROLLS ROYCE PHANTOM DROPHEAD COUPE ': 13.973478, 'ROLLS ROYCE WRAITH ': 10.272389, 'SEAT ALHAMBRA ': 10.898079, 'SEAT ALTEA XL ': 10.984633, 'SEAT ALTEA ': 7.549727, 'SEAT IBIZA ': 9.547657, 'SEAT IBIZA ST ': 10.566839, 'SEAT LEON ': 12.5296135, 'SEAT LEON SC ': 13.686207, 'SEAT LEON ST ': 8.3329935, 'SEAT LEON X-PERIENCE ': 0, 'SEAT MII ': 0, 'SEAT TOLEDO ': 7.5649137, 'SKODA CITIGO ': 0, 'SKODA FABIA ': 12.924513, 'SKODA OCTAVIA ': 11.535574, 'SKODA RAPID ': 15.159609, 'SKODA ROOMSTER ': 7.755013, 'SKODA SUPERB ': 14.494593, 'SKODA YETI ': 13.104462}"
      ],
      "execution_count": null,
      "outputs": []
    },
    {
      "cell_type": "code",
      "metadata": {
        "id": "TuL0Tk6Ngix1"
      },
      "source": [
        "resultat_Smart_Volvo={'SMART FORFOUR ': 16.755281, 'SMART FORTWO ': 15.614614, 'SSANGYONG KORANDO ': 12.471124, 'SSANGYONG REXTON ': 12.160463, 'SSANGYONG RODIUS ': 8.584515, 'SUBARU BRZ ': 12.272608, 'SUBARU FORESTER ': 10.8666115, 'SUBARU WRX ': 14.988398, 'SUBARU SUBARU XV ': 10.006526, 'SUZUKI CELERIO ': 11.421181, 'SUZUKI JIMNY ': 0, 'SUZUKI SWIFT ': 16.139866, 'SUZUKI SWIFT SPORT ': 17.015526, 'SUZUKI SX4': 12.937935, 'SUZUKI VITARA ': 8.194678, 'TESLA MODEL S ': 13.740893, 'TOYOTA AURIS ': 12.75496, 'TOYOTA AVENSIS ': 10.337845, 'TOYOTA AYGO ': 10.552433, 'TOYOTA 86': 19.474072, 'TOYOTA IQ ': 14.963542, 'TOYOTA LAND CRUISER 150': 0, 'TOYOTA LAND CRUISER ': 0, 'TOYOTA PRIUS ': 14.029686, 'TOYOTA PRIUS PLUS ': 11.76405, 'TOYOTA RAV4': 12.136996, 'TOYOTA VERSO ': 11.291167, 'TOYOTA VERSO S ': 11.264598, 'TOYOTA YARIS ': 11.249686, 'TOYOTA YARIS HYBRID ': 9.9763975, 'VOLKSWAGEN CC ': 14.142168, 'VOLKSWAGEN BEETLE ': 14.038847, 'VOLKSWAGEN CRAFTER ': 0, 'VOLKSWAGEN EOS ': 12.606484, 'VOLKSWAGEN GOLF ': 11.701199, 'VOLKSWAGEN GOLF SPORTSVAN ': 8.809007, 'VOLKSWAGEN JETTA ': 11.4616, 'VOLKSWAGEN PASSAT ': 15.506525, 'VOLKSWAGEN PHAETON ': 12.109754, 'VOLKSWAGEN POLO ': 10.302527, 'VOLKSWAGEN SCIROCCO ': 18.014091, 'VOLKSWAGEN SHARAN ': 0, 'VOLKSWAGEN TIGUAN ': 13.440063, 'VOLKSWAGEN TOUAREG ': 12.980075, 'VOLKSWAGEN TOURAN ': 10.22341, 'VOLKSWAGEN UP! ': 0, 'VOLVO S60': 13.6968355, 'VOLVO S80': 11.6312685, 'VOLVO V40': 12.6486435, 'VOLVO V40 CROSS COUNTRY': 12.92247, 'VOLVO V60': 13.201442, 'VOLVO V60 HYBRID': 13.822271, 'VOLVO V70': 12.0949745, 'VOLVO XC60': 15.348769, 'VOLVO XC70': 0, 'VOLVO XC90': 11.96579}"
      ],
      "execution_count": null,
      "outputs": []
    },
    {
      "cell_type": "code",
      "metadata": {
        "id": "GopuTZhbgi05"
      },
      "source": [
        "global_dictionnary = dict(resultat_alpha_audi)\n",
        "global_dictionnary.update(resultat_Bently_Citroen)\n",
        "global_dictionnary.update(resultat_Dacia_Hyndia)\n",
        "global_dictionnary.update(resultat_Infifnity_LandRover)\n",
        "global_dictionnary.update(resultat_Lexus_Mercedes)\n",
        "global_dictionnary.update(resultat_Mini_Peugeot)\n",
        "global_dictionnary.update(resultat_Porche_Skoda)\n",
        "global_dictionnary.update(resultat_Smart_Volvo)"
      ],
      "execution_count": null,
      "outputs": []
    },
    {
      "cell_type": "code",
      "metadata": {
        "colab": {
          "base_uri": "https://localhost:8080/"
        },
        "id": "iC6nMpw5jS11",
        "outputId": "8856b861-ff30-4e07-f7d6-0c1867b0eae9"
      },
      "source": [
        "print(global_dictionnary)"
      ],
      "execution_count": null,
      "outputs": [
        {
          "output_type": "stream",
          "text": [
            "{'ALFA ROMEO 159': 10.376559, 'ALFA ROMEO 4C': 14.831973, 'ALFA ROMEO AR8C SPIDER': 16.997547, 'ALFA ROMEO BRERA ': 13.123381, 'ALFA ROMEO GIULIETTA ': 15.250566, 'ALFA ROMEO MITO ': 20.782114, 'ALFA ROMEO SPIDER ': 13.698536, 'AUDI A1': 13.070835, 'AUDI S1': 14.704817, 'AUDI A1 SPORTBACK': 11.494576, 'AUDI S1 SPORTBACK': 14.6290455, 'AUDI A3': 12.202611, 'AUDI S3': 13.899887, 'AUDI A3 CABRIOLET': 17.024063, 'AUDI S3 CABRIOLET': 11.427822, 'AUDI A3 LIMOUSINE': 17.592258, 'AUDI S3 LIMOUSINE': 13.663857, 'AUDI A3 SPORTBACK': 12.575362, 'AUDI S3 SPORTBACK': 15.34195, 'AUDI A3 SPORTBACK E-TRON': 13.0824, 'AUDI RS 3 SPORTBACK': 15.906243, 'AUDI A4 AVANT': 15.978995, 'AUDI S4 AVANT': 14.233163, 'AUDI A4 ALLROAD QUATTRO': 11.446545, 'AUDI A4 LIMOUSINE': 10.945161, 'AUDI S4 LIMOUSINE': 15.13072, 'AUDI A5 COUPE': 15.654849, 'AUDI S5 COUPE': 14.206305, 'AUDI A5 CABRIOLET': 13.671553, 'AUDI S5 CABRIOLET': 19.236305, 'AUDI A5 SPORTBACK': 15.691305, 'AUDI S5 SPORTBACK': 10.581042, 'AUDI A6 AVANT': 10.787785, 'AUDI S6 AVANT': 13.64428, 'AUDI RS 6 AVANT': 14.197757, 'AUDI A6 ALLROAD QUATTRO': 10.174195, 'AUDI A6 LIMOUSINE': 9.957563, 'AUDI S6 LIMOUSINE': 15.734896, 'AUDI A7 SPORTBACK': 13.237353, 'AUDI S7 SPORTBACK': 17.846588, 'AUDI RS 7 SPORTBACK': 13.237353, 'AUDI A8L': 10.373586, 'AUDI A8LW12': 12.118509, 'AUDI A8': 10.373586, 'AUDI S8': 10.643647, 'AUDI Q3': 8.377413, 'AUDI Q5': 12.246614, 'AUDI SQ5 TDI': 11.582212, 'AUDI Q7': 9.223952, 'AUDI R8 COUPE': 18.469847, 'AUDI R8 SPYDER': 17.733513, 'AUDI TT COUPE ': 12.733743, 'AUDI TT ROADSTER ': 12.991097, 'AUDI TTS ROADSTER ': 12.433792, 'BENTLEY CONTINENTAL GT SPEED ': 17.184042, 'BENTLEY CONTINENTAL GT ': 14.640736, 'BENTLEY CONTINENTAL GT V8': 15.022977, 'BENTLEY CONTINENTAL GT V8 S': 12.632848, 'BENTLEY CONTINENTAL GT3-R': 14.848703, 'BENTLEY CONTINENTAL GT SPEED CONV ': 18.810688, 'BENTLEY CONTINENTAL GT CONV ': 15.574291, 'BENTLEY CONTINENTAL GT V8 CONV': 12.87875, 'BENTLEY CONTINENTAL GT V8 S CONV': 15.980573, 'BENTLEY FLYING SPUR W12': 10.21747, 'BENTLEY FLYING SPUR V8': 19.52326, 'BENTLEY MULSANNE ': 10.453824, 'BENTLEY MULSANNE SPEED ': 11.911858, 'BMW SERIE 1': 10.340026, 'BMW SERIE 2': 13.912762, 'BMW SERIE 3': 14.4522295, 'BMW SERIE 4': 18.626026, 'BMW SERIE 5': 16.956501, 'BMW SERIE 6': 14.464093, 'BMW SERIE 7': 12.999398, 'BMW M3': 14.554123, 'BMW M4': 18.015924, 'BMW M5': 15.073245, 'BMW SERIE X ': 9.406727, 'BMW SERIE Z ': 16.449146, 'BMW I SERIE I ': 10.203457, 'CADILLAC ATS ': 13.483189, 'CADILLAC CTS ': 14.539122, 'CADILLAC ESCALADE ': 6.8295455, 'CADILLAC SRX ': 0, 'CHEVROLET CAMARO ': 18.064613, 'CHEVROLET CORVETTE ': 19.571651, 'CITROEN BERLINGO ': 11.200632, 'CITROEN C-ZERO ': 0, 'CITROEN C1': 11.790014, 'CITROEN C3': 8.219314, 'CITROEN C3 PICASSO': 10.472655, 'CITROEN C4': 8.379906, 'CITROEN C4 AIRCROSS': 11.887551, 'CITROEN C4 CACTUS': 7.907484, 'CITROEN C4 PICASSO': 9.037332, 'CITROEN C5': 9.434932, 'CITROEN C8': 0, 'CITROEN DS3': 14.6051445, 'CITROEN DS4': 9.28043, 'CITROEN DS5': 9.713765, 'CITROEN JUMPER ': 0, 'CITROEN JUMPY ': 8.555829, 'CITROEN NEMO ': 8.161078, 'DANGEL BERLINGO ': 0, 'DANGEL JUMPER 4X4': 0, 'DANGEL JUMPY 4x4': 0, 'DANGEL NEMO TREK ': 0, 'DANGEL DUCATO 4x4': 0, 'DANGEL SCUDO 4x4': 0, 'DANGEL BIPPER TREK ': 11.272973, 'DANGEL BOXER 4X4': 0, 'DANGEL EXPERT 4x4': 0, 'DANGEL PARTNER ': 13.142806, 'DACIA DOKKER ': 0, 'DACIA DUSTER ': 0, 'DACIA LODGY ': 0, 'DACIA LOGAN ': 8.86528, 'DACIA SANDERO ': 9.532442, 'FERRARI 458': 17.532059, 'FERRARI CALIFORNIA ': 18.099144, 'FERRARI 12': 20.947376, 'FERRARI FF ': 13.946455, 'FERRARI LAFERRARI ': 22.412098, 'FIAT 500': 13.037354, 'FIAT 500C': 15.950784, 'FIAT 500 ABARTH': 12.118115, 'FIAT 500C ABARTH': 8.715285, 'FIAT 500L': 10.549083, 'FIAT BRAVO ': 11.166266, 'FIAT DOBLO ': 0, 'FIAT DUCATO ': 0, 'FIAT FIORINO ': 8.153634, 'FIAT FREEMONT ': 14.115106, 'FIAT PANDA ': 12.701095, 'FIAT PUNTO ': 11.269648, 'FIAT SCUDO ': 0, 'FIAT SEDICI ': 0, 'FORD B-MAX ': 10.634874, 'FORD GRAND C-MAX ': 8.965445, 'FORD C-MAX ': 8.269832, 'FORD ECOSPORT ': 11.955466, 'FORD FIESTA ': 10.199815, 'FORD FOCUS ': 15.305152, 'FORD KA ': 12.24943, 'FORD KUGA ': 15.055075, 'FORD MONDEO ': 11.213454, 'FORD S-MAX ': 11.386514, 'FORD TOURNEO ': 0, 'FORD TOURNEO COURIER ': 11.205654, 'FORD TOURNEO CUSTOM ': 0, 'FORD TRANSIT ': 0, 'FORD TRANSIT CUSTOM ': 0, 'FORD-CNG-TECHNIK MONDEO HYBRID ': 17.451982, 'HONDA ACCORD ': 12.916486, 'HONDA CIVIC ': 12.785089, 'HONDA CR-V ': 11.140395, 'HONDA CR-Z ': 11.935406, 'HONDA INSIGHT ': 9.0046625, 'HONDA JAZZ ': 12.84994, 'HONDA JAZZ HYBRID ': 9.121473, 'HYUNDAI GENESIS ': 14.624572, 'HYUNDAI I 10': 14.154625, 'HYUNDAI I 20': 12.106484, 'HYUNDAI I 30': 12.721966, 'HYUNDAI I40': 13.83507, 'HYUNDAI IX20': 10.405546, 'HYUNDAI IX 35': 9.628035, 'HYUNDAI SANTA FE ': 11.691709, 'HYUNDAI VELOSTER ': 14.502788, 'INFINITI Q50': 14.993926, 'INFINITI Q60': 15.45472, 'INFINITI Q70': 15.480587, 'INFINITI QX50': 12.913082, 'INFINITI QX70': 11.018745, 'JAGUAR F-TYPE ': 17.910227, 'JAGUAR XF ': 11.475313, 'JAGUAR XF SPORTBRAKE ': 13.530283, 'JAGUAR XJ ': 13.10983, 'JEEP CHEROKEE ': 0, 'JEEP COMPASS ': 9.461135, 'JEEP GRAND CHEROKEE ': 14.845713, 'JEEP GRAND CHEROKEE SRT8': 12.397548, 'JEEP WRANGLER ': 0, 'JEEP WRANGLER UNLIMITED ': 0, 'KIA CARENS ': 11.747878, \"KIA CEE'D \": 9.746482, 'KIA OPTIMA ': 17.375856, 'KIA PICANTO ': 12.926582, 'KIA RIO ': 9.2249155, 'KIA SORENTO ': 11.384877, 'KIA SOUL ': 9.509423, 'KIA SPORTAGE ': 13.260007, 'KIA VENGA ': 11.353968, 'LADA 4X4': 8.191124, 'LAMBORGHINI AVENTADOR ': 16.398157, 'LAMBORGHINI GALLARDO ': 16.292963, 'LAMBORGHINI HURACAN ': 20.404951, 'LANCIA DELTA ': 12.737686, 'LANCIA FLAVIA ': 11.448386, 'LANCIA MUSA ': 8.930084, 'LANCIA THEMA ': 10.545906, 'LANCIA VOYAGER ': 11.853029, 'LANCIA YPSILON ': 11.0707855, 'LAND ROVER DISCOVERY ': 9.464237, 'LAND ROVER DISCOVERY SPORT ': 12.264362, 'LAND ROVER FREELANDER ': 9.235557, 'RANGE ROVER ': 11.816732, 'RANGE ROVER EVOQUE ': 18.814426, 'RANGE ROVER SPORT ': 10.528304, 'LEXUS CT200H': 10.912318, 'LEXUS GS450': 12.098097, 'LEXUS GS300': 9.572818, 'LEXUS GS250': 13.606593, 'LEXUS IS F ': 12.016998, 'LEXUS IS220': 12.923829, 'LEXUS IS200': 14.905552, 'LEXUS IS300H': 16.833502, 'LEXUS IS250': 17.464722, 'LEXUS LEXUS LFA ': 17.24971, 'LEXUS LS460': 14.577887, 'LEXUS LS600': 12.175249, 'LEXUS NX200T': 12.523384, 'LEXUS NX300H': 16.280209, 'LEXUS LEXUS RC F ': 19.68581, 'LEXUS RX350': 11.66918, 'LEXUS RX450H': 18.873453, 'MASERATI GHIBLI S ': 14.001314, 'MASERATI GHIBLI S Q4': 13.238889, 'MASERATI GHIBLI ': 19.983189, 'MASERATI GHIBLI DIESEL ': 16.052813, 'MASERATI GRANCABRIO ': 12.465559, 'MASERATI GRANCABRIO SPORT ': 13.646898, 'MASERATI GRANCABRIO MC ': 14.147495, 'MASERATI GRANTURISMO ': 20.471859, 'MASERATI GRANTURISMO SPORT ': 21.062035, 'MASERATI QUATTROPORTE GTS ': 13.887167, 'MASERATI QUATTROPORTE ': 13.876429, 'MASERATI QUATTROPORTE S ': 11.745634, 'MASERATI QUATTROPORTE S Q4': 7.9793625, 'MASERATI QUATTROPORTE DIESEL ': 14.599355, 'MAZDA MAZDA 2': 13.011833, 'MAZDA MAZDA 3': 13.753514, 'MAZDA MAZDA 5': 14.311469, 'MAZDA MAZDA 6': 14.399532, 'MAZDA MAZDA CX-5': 14.311469, 'MAZDA MX-5': 19.869251, 'MERCEDES CLASSE A ': 14.135773, 'MERCEDES GT ': 20.089434, 'MERCEDES CLASSE B ': 8.056934, 'MERCEDES CLASSE C ': 12.077814, 'MERCEDES CITAN ': 0, 'MERCEDES CLASSE CL ': 13.066196, 'MERCEDES CLASSE CLA ': 16.727411, 'MERCEDES CLASSE V ': 10.444625, 'MERCEDES CLASSE CLS ': 13.947634, 'MERCEDES CLASSE E ': 15.095927, 'MERCEDES CLASSE G ': 9.017655, 'MERCEDES CLASSE GL ': 11.327351, 'MERCEDES CLASSE M ': 10.114692, 'MERCEDES CLASSE GLA ': 11.527395, 'MERCEDES CLASSE S ': 10.238022, 'MERCEDES S63 AMG': 10.87719, 'MERCEDES S65 AMG': 19.309439, 'MERCEDES CLASSE SL ': 18.249819, 'MERCEDES CLASSE SLK ': 14.026109, 'MERCEDES SLS AMG ': 15.007809, 'MERCEDES SPRINTER ': 0, 'MERCEDES VITO ': 9.708964, 'MINI MINI ': 13.294758, 'MITSUBISHI ASX ': 16.47491, 'MITSUBISHI I-MIEV ': 8.568532, 'MITSUBISHI OUTLANDER ': 13.241561, 'MITSUBISHI PAJERO ': 18.387987, 'MITSUBISHI SPACE STAR ': 11.510229, 'NISSAN 370Z': 13.748858, 'NISSAN 370Z ROADSTER': 13.748858, 'NISSAN GT-R ': 15.198308, 'NISSAN JUKE ': 16.230776, 'NISSAN LEAF ': 10.627826, 'NISSAN MICRA ': 14.881414, 'NISSAN MURANO ': 14.12509, 'NISSAN NOTE ': 8.594523, 'NISSAN NV200': 0, 'NISSAN E-NV200': 0, 'NISSAN NV300': 9.111602, 'NISSAN NV400': 0, 'NISSAN PULSAR ': 10.265837, 'NISSAN QASHQAI ': 15.988812, 'NISSAN X-TRAIL ': 9.433926, 'OPEL ADAM ': 11.733893, 'OPEL AGILA ': 12.203449, 'OPEL AMPERA ': 13.5043745, 'OPEL ANTARA ': 0, 'OPEL ASTRA GTC ': 15.57448, 'OPEL ASTRA SPORTS TOURER ': 9.876941, 'OPEL ASTRA ': 10.228082, 'OPEL CASCADA ': 26.73579, 'OPEL COMBO ': 0, 'OPEL CORSA ': 15.095334, 'OPEL INSIGNIA ': 15.23494, 'OPEL MERIVA ': 12.419812, 'OPEL MOKKA ': 12.370312, 'OPEL MOVANO ': 0, 'OPEL VIVARO ': 7.2132297, 'OPEL ZAFIRA TOURER ': 10.792505, 'PEUGEOT 108': 10.855825, 'PEUGEOT 2008': 15.917138, 'PEUGEOT 207': 11.40547, 'PEUGEOT 208': 15.68458, 'PEUGEOT 3008': 13.606207, 'PEUGEOT 308': 13.036921, 'PEUGEOT 4008': 10.189456, 'PEUGEOT 5008': 15.472451, 'PEUGEOT 508': 14.689935, 'PEUGEOT BIPPER ': 0, 'PEUGEOT BIPPER TREK ': 11.272973, 'PEUGEOT BOXER 4X4': 0, 'PEUGEOT BOXER ': 0, 'PEUGEOT EXPERT 4x4': 0, 'PEUGEOT EXPERT ': 0, 'PEUGEOT ION ': 9.166283, 'PEUGEOT PARTNER ': 8.186521, 'PEUGEOT RCZ ': 17.685207, 'PORSCHE 911': 15.552532, 'PORSCHE 911 GT3 RS': 11.6944275, 'PORSCHE 911 TURBO': 17.907602, 'PORSCHE 911 TURBO S': 15.143225, 'PORSCHE 918 SPYDER': 17.817728, 'PORSCHE BOXSTER ': 20.11393, 'PORSCHE BOXSTER S ': 14.886269, 'PORSCHE BOXSTER GTS ': 14.848888, 'PORSCHE CAYENNE ': 12.048587, 'PORSCHE CAYENNE DIESEL ': 11.097528, 'PORSCHE CAYENNE S DIESEL ': 10.92107, 'PORSCHE CAYENNE S ': 13.459955, 'PORSCHE CAYENNE TURBO ': 11.913914, 'PORSCHE CAYENNE GTS ': 9.861058, 'PORSCHE CAYENNE S E-HYBRID ': 14.441405, 'PORSCHE CAYMAN ': 14.864591, 'PORSCHE CAYMAN S ': 15.306742, 'PORSCHE CAYMAN GTS ': 17.339888, 'PORSCHE MACAN S ': 7.5418077, 'PORSCHE MACAN TURBO ': 12.837037, 'PORSCHE MACAN S DIESEL ': 16.10678, 'PORSCHE PANAMERA ': 13.134773, 'PORSCHE PANAMERA 4': 13.621759, 'PORSCHE PANAMERA S ': 16.011396, 'PORSCHE PANAMERA 4S': 17.825016, 'PORSCHE PANAMERA TURBO ': 14.241129, 'PORSCHE PANAMERA TURBO S ': 13.730783, 'PORSCHE PANAMERA GTS ': 14.758581, 'PORSCHE PANAMERA DIESEL ': 10.842545, 'PORSCHE PANAMERA S E-HYBRID ': 13.26183, 'RENAULT CAPTUR ': 12.6281805, 'RENAULT CLIO ': 17.10837, 'RENAULT ESPACE ': 11.708909, 'RENAULT KANGOO ': 0, 'RENAULT KOLEOS ': 7.6188564, 'RENAULT LAGUNA ': 8.078411, 'RENAULT LATITUDE ': 9.121569, 'RENAULT MASTER ': 0, 'RENAULT MEGANE ': 10.583999, 'RENAULT MEGANE SCENIC ': 9.844272, 'RENAULT TRAFIC ': 6.594412, 'RENAULT TWINGO ': 9.3776455, 'RENAULT ZOE ': 13.326799, 'ROLLS ROYCE GHOST ': 11.68263, 'ROLLS ROYCE PHANTOM ': 12.751983, 'ROLLS ROYCE PHANTOM COUPE ': 12.938082, 'ROLLS ROYCE PHANTOM DROPHEAD COUPE ': 13.973478, 'ROLLS ROYCE WRAITH ': 10.272389, 'SEAT ALHAMBRA ': 10.898079, 'SEAT ALTEA XL ': 10.984633, 'SEAT ALTEA ': 7.549727, 'SEAT IBIZA ': 9.547657, 'SEAT IBIZA ST ': 10.566839, 'SEAT LEON ': 12.5296135, 'SEAT LEON SC ': 13.686207, 'SEAT LEON ST ': 8.3329935, 'SEAT LEON X-PERIENCE ': 0, 'SEAT MII ': 0, 'SEAT TOLEDO ': 7.5649137, 'SKODA CITIGO ': 0, 'SKODA FABIA ': 12.924513, 'SKODA OCTAVIA ': 11.535574, 'SKODA RAPID ': 15.159609, 'SKODA ROOMSTER ': 7.755013, 'SKODA SUPERB ': 14.494593, 'SKODA YETI ': 13.104462, 'SMART FORFOUR ': 16.755281, 'SMART FORTWO ': 15.614614, 'SSANGYONG KORANDO ': 12.471124, 'SSANGYONG REXTON ': 12.160463, 'SSANGYONG RODIUS ': 8.584515, 'SUBARU BRZ ': 12.272608, 'SUBARU FORESTER ': 10.8666115, 'SUBARU WRX ': 14.988398, 'SUBARU SUBARU XV ': 10.006526, 'SUZUKI CELERIO ': 11.421181, 'SUZUKI JIMNY ': 0, 'SUZUKI SWIFT ': 16.139866, 'SUZUKI SWIFT SPORT ': 17.015526, 'SUZUKI SX4': 12.937935, 'SUZUKI VITARA ': 8.194678, 'TESLA MODEL S ': 13.740893, 'TOYOTA AURIS ': 12.75496, 'TOYOTA AVENSIS ': 10.337845, 'TOYOTA AYGO ': 10.552433, 'TOYOTA 86': 19.474072, 'TOYOTA IQ ': 14.963542, 'TOYOTA LAND CRUISER 150': 0, 'TOYOTA LAND CRUISER ': 0, 'TOYOTA PRIUS ': 14.029686, 'TOYOTA PRIUS PLUS ': 11.76405, 'TOYOTA RAV4': 12.136996, 'TOYOTA VERSO ': 11.291167, 'TOYOTA VERSO S ': 11.264598, 'TOYOTA YARIS ': 11.249686, 'TOYOTA YARIS HYBRID ': 9.9763975, 'VOLKSWAGEN CC ': 14.142168, 'VOLKSWAGEN BEETLE ': 14.038847, 'VOLKSWAGEN CRAFTER ': 0, 'VOLKSWAGEN EOS ': 12.606484, 'VOLKSWAGEN GOLF ': 11.701199, 'VOLKSWAGEN GOLF SPORTSVAN ': 8.809007, 'VOLKSWAGEN JETTA ': 11.4616, 'VOLKSWAGEN PASSAT ': 15.506525, 'VOLKSWAGEN PHAETON ': 12.109754, 'VOLKSWAGEN POLO ': 10.302527, 'VOLKSWAGEN SCIROCCO ': 18.014091, 'VOLKSWAGEN SHARAN ': 0, 'VOLKSWAGEN TIGUAN ': 13.440063, 'VOLKSWAGEN TOUAREG ': 12.980075, 'VOLKSWAGEN TOURAN ': 10.22341, 'VOLKSWAGEN UP! ': 0, 'VOLVO S60': 13.6968355, 'VOLVO S80': 11.6312685, 'VOLVO V40': 12.6486435, 'VOLVO V40 CROSS COUNTRY': 12.92247, 'VOLVO V60': 13.201442, 'VOLVO V60 HYBRID': 13.822271, 'VOLVO V70': 12.0949745, 'VOLVO XC60': 15.348769, 'VOLVO XC70': 0, 'VOLVO XC90': 11.96579}\n"
          ],
          "name": "stdout"
        }
      ]
    },
    {
      "cell_type": "code",
      "metadata": {
        "id": "U0ziB143gi3V"
      },
      "source": [
        "Data_frame_scores=pd.DataFrame(global_dictionnary.items(), columns=['Modele', 'Scores'])"
      ],
      "execution_count": null,
      "outputs": []
    },
    {
      "cell_type": "code",
      "metadata": {
        "colab": {
          "base_uri": "https://localhost:8080/",
          "height": 1000
        },
        "id": "kTfbI3GghOh8",
        "outputId": "91a122d2-f7cd-4c66-deaf-080dbcbe85fb"
      },
      "source": [
        "Data_frame_scores.tail(50)"
      ],
      "execution_count": null,
      "outputs": [
        {
          "output_type": "execute_result",
          "data": {
            "text/html": [
              "<div>\n",
              "<style scoped>\n",
              "    .dataframe tbody tr th:only-of-type {\n",
              "        vertical-align: middle;\n",
              "    }\n",
              "\n",
              "    .dataframe tbody tr th {\n",
              "        vertical-align: top;\n",
              "    }\n",
              "\n",
              "    .dataframe thead th {\n",
              "        text-align: right;\n",
              "    }\n",
              "</style>\n",
              "<table border=\"1\" class=\"dataframe\">\n",
              "  <thead>\n",
              "    <tr style=\"text-align: right;\">\n",
              "      <th></th>\n",
              "      <th>Modele</th>\n",
              "      <th>Scores</th>\n",
              "    </tr>\n",
              "  </thead>\n",
              "  <tbody>\n",
              "    <tr>\n",
              "      <th>395</th>\n",
              "      <td>SUBARU FORESTER</td>\n",
              "      <td>10.866611</td>\n",
              "    </tr>\n",
              "    <tr>\n",
              "      <th>396</th>\n",
              "      <td>SUBARU WRX</td>\n",
              "      <td>14.988398</td>\n",
              "    </tr>\n",
              "    <tr>\n",
              "      <th>397</th>\n",
              "      <td>SUBARU SUBARU XV</td>\n",
              "      <td>10.006526</td>\n",
              "    </tr>\n",
              "    <tr>\n",
              "      <th>398</th>\n",
              "      <td>SUZUKI CELERIO</td>\n",
              "      <td>11.421181</td>\n",
              "    </tr>\n",
              "    <tr>\n",
              "      <th>399</th>\n",
              "      <td>SUZUKI JIMNY</td>\n",
              "      <td>0.000000</td>\n",
              "    </tr>\n",
              "    <tr>\n",
              "      <th>400</th>\n",
              "      <td>SUZUKI SWIFT</td>\n",
              "      <td>16.139866</td>\n",
              "    </tr>\n",
              "    <tr>\n",
              "      <th>401</th>\n",
              "      <td>SUZUKI SWIFT SPORT</td>\n",
              "      <td>17.015526</td>\n",
              "    </tr>\n",
              "    <tr>\n",
              "      <th>402</th>\n",
              "      <td>SUZUKI SX4</td>\n",
              "      <td>12.937935</td>\n",
              "    </tr>\n",
              "    <tr>\n",
              "      <th>403</th>\n",
              "      <td>SUZUKI VITARA</td>\n",
              "      <td>8.194678</td>\n",
              "    </tr>\n",
              "    <tr>\n",
              "      <th>404</th>\n",
              "      <td>TESLA MODEL S</td>\n",
              "      <td>13.740893</td>\n",
              "    </tr>\n",
              "    <tr>\n",
              "      <th>405</th>\n",
              "      <td>TOYOTA AURIS</td>\n",
              "      <td>12.754960</td>\n",
              "    </tr>\n",
              "    <tr>\n",
              "      <th>406</th>\n",
              "      <td>TOYOTA AVENSIS</td>\n",
              "      <td>10.337845</td>\n",
              "    </tr>\n",
              "    <tr>\n",
              "      <th>407</th>\n",
              "      <td>TOYOTA AYGO</td>\n",
              "      <td>10.552433</td>\n",
              "    </tr>\n",
              "    <tr>\n",
              "      <th>408</th>\n",
              "      <td>TOYOTA 86</td>\n",
              "      <td>19.474072</td>\n",
              "    </tr>\n",
              "    <tr>\n",
              "      <th>409</th>\n",
              "      <td>TOYOTA IQ</td>\n",
              "      <td>14.963542</td>\n",
              "    </tr>\n",
              "    <tr>\n",
              "      <th>410</th>\n",
              "      <td>TOYOTA LAND CRUISER 150</td>\n",
              "      <td>0.000000</td>\n",
              "    </tr>\n",
              "    <tr>\n",
              "      <th>411</th>\n",
              "      <td>TOYOTA LAND CRUISER</td>\n",
              "      <td>0.000000</td>\n",
              "    </tr>\n",
              "    <tr>\n",
              "      <th>412</th>\n",
              "      <td>TOYOTA PRIUS</td>\n",
              "      <td>14.029686</td>\n",
              "    </tr>\n",
              "    <tr>\n",
              "      <th>413</th>\n",
              "      <td>TOYOTA PRIUS PLUS</td>\n",
              "      <td>11.764050</td>\n",
              "    </tr>\n",
              "    <tr>\n",
              "      <th>414</th>\n",
              "      <td>TOYOTA RAV4</td>\n",
              "      <td>12.136996</td>\n",
              "    </tr>\n",
              "    <tr>\n",
              "      <th>415</th>\n",
              "      <td>TOYOTA VERSO</td>\n",
              "      <td>11.291167</td>\n",
              "    </tr>\n",
              "    <tr>\n",
              "      <th>416</th>\n",
              "      <td>TOYOTA VERSO S</td>\n",
              "      <td>11.264598</td>\n",
              "    </tr>\n",
              "    <tr>\n",
              "      <th>417</th>\n",
              "      <td>TOYOTA YARIS</td>\n",
              "      <td>11.249686</td>\n",
              "    </tr>\n",
              "    <tr>\n",
              "      <th>418</th>\n",
              "      <td>TOYOTA YARIS HYBRID</td>\n",
              "      <td>9.976397</td>\n",
              "    </tr>\n",
              "    <tr>\n",
              "      <th>419</th>\n",
              "      <td>VOLKSWAGEN CC</td>\n",
              "      <td>14.142168</td>\n",
              "    </tr>\n",
              "    <tr>\n",
              "      <th>420</th>\n",
              "      <td>VOLKSWAGEN BEETLE</td>\n",
              "      <td>14.038847</td>\n",
              "    </tr>\n",
              "    <tr>\n",
              "      <th>421</th>\n",
              "      <td>VOLKSWAGEN CRAFTER</td>\n",
              "      <td>0.000000</td>\n",
              "    </tr>\n",
              "    <tr>\n",
              "      <th>422</th>\n",
              "      <td>VOLKSWAGEN EOS</td>\n",
              "      <td>12.606484</td>\n",
              "    </tr>\n",
              "    <tr>\n",
              "      <th>423</th>\n",
              "      <td>VOLKSWAGEN GOLF</td>\n",
              "      <td>11.701199</td>\n",
              "    </tr>\n",
              "    <tr>\n",
              "      <th>424</th>\n",
              "      <td>VOLKSWAGEN GOLF SPORTSVAN</td>\n",
              "      <td>8.809007</td>\n",
              "    </tr>\n",
              "    <tr>\n",
              "      <th>425</th>\n",
              "      <td>VOLKSWAGEN JETTA</td>\n",
              "      <td>11.461600</td>\n",
              "    </tr>\n",
              "    <tr>\n",
              "      <th>426</th>\n",
              "      <td>VOLKSWAGEN PASSAT</td>\n",
              "      <td>15.506525</td>\n",
              "    </tr>\n",
              "    <tr>\n",
              "      <th>427</th>\n",
              "      <td>VOLKSWAGEN PHAETON</td>\n",
              "      <td>12.109754</td>\n",
              "    </tr>\n",
              "    <tr>\n",
              "      <th>428</th>\n",
              "      <td>VOLKSWAGEN POLO</td>\n",
              "      <td>10.302527</td>\n",
              "    </tr>\n",
              "    <tr>\n",
              "      <th>429</th>\n",
              "      <td>VOLKSWAGEN SCIROCCO</td>\n",
              "      <td>18.014091</td>\n",
              "    </tr>\n",
              "    <tr>\n",
              "      <th>430</th>\n",
              "      <td>VOLKSWAGEN SHARAN</td>\n",
              "      <td>0.000000</td>\n",
              "    </tr>\n",
              "    <tr>\n",
              "      <th>431</th>\n",
              "      <td>VOLKSWAGEN TIGUAN</td>\n",
              "      <td>13.440063</td>\n",
              "    </tr>\n",
              "    <tr>\n",
              "      <th>432</th>\n",
              "      <td>VOLKSWAGEN TOUAREG</td>\n",
              "      <td>12.980075</td>\n",
              "    </tr>\n",
              "    <tr>\n",
              "      <th>433</th>\n",
              "      <td>VOLKSWAGEN TOURAN</td>\n",
              "      <td>10.223410</td>\n",
              "    </tr>\n",
              "    <tr>\n",
              "      <th>434</th>\n",
              "      <td>VOLKSWAGEN UP!</td>\n",
              "      <td>0.000000</td>\n",
              "    </tr>\n",
              "    <tr>\n",
              "      <th>435</th>\n",
              "      <td>VOLVO S60</td>\n",
              "      <td>13.696836</td>\n",
              "    </tr>\n",
              "    <tr>\n",
              "      <th>436</th>\n",
              "      <td>VOLVO S80</td>\n",
              "      <td>11.631268</td>\n",
              "    </tr>\n",
              "    <tr>\n",
              "      <th>437</th>\n",
              "      <td>VOLVO V40</td>\n",
              "      <td>12.648644</td>\n",
              "    </tr>\n",
              "    <tr>\n",
              "      <th>438</th>\n",
              "      <td>VOLVO V40 CROSS COUNTRY</td>\n",
              "      <td>12.922470</td>\n",
              "    </tr>\n",
              "    <tr>\n",
              "      <th>439</th>\n",
              "      <td>VOLVO V60</td>\n",
              "      <td>13.201442</td>\n",
              "    </tr>\n",
              "    <tr>\n",
              "      <th>440</th>\n",
              "      <td>VOLVO V60 HYBRID</td>\n",
              "      <td>13.822271</td>\n",
              "    </tr>\n",
              "    <tr>\n",
              "      <th>441</th>\n",
              "      <td>VOLVO V70</td>\n",
              "      <td>12.094974</td>\n",
              "    </tr>\n",
              "    <tr>\n",
              "      <th>442</th>\n",
              "      <td>VOLVO XC60</td>\n",
              "      <td>15.348769</td>\n",
              "    </tr>\n",
              "    <tr>\n",
              "      <th>443</th>\n",
              "      <td>VOLVO XC70</td>\n",
              "      <td>0.000000</td>\n",
              "    </tr>\n",
              "    <tr>\n",
              "      <th>444</th>\n",
              "      <td>VOLVO XC90</td>\n",
              "      <td>11.965790</td>\n",
              "    </tr>\n",
              "  </tbody>\n",
              "</table>\n",
              "</div>"
            ],
            "text/plain": [
              "                         Modele     Scores\n",
              "395            SUBARU FORESTER   10.866611\n",
              "396                 SUBARU WRX   14.988398\n",
              "397           SUBARU SUBARU XV   10.006526\n",
              "398             SUZUKI CELERIO   11.421181\n",
              "399               SUZUKI JIMNY    0.000000\n",
              "400               SUZUKI SWIFT   16.139866\n",
              "401         SUZUKI SWIFT SPORT   17.015526\n",
              "402                  SUZUKI SX4  12.937935\n",
              "403              SUZUKI VITARA    8.194678\n",
              "404              TESLA MODEL S   13.740893\n",
              "405               TOYOTA AURIS   12.754960\n",
              "406             TOYOTA AVENSIS   10.337845\n",
              "407                TOYOTA AYGO   10.552433\n",
              "408                   TOYOTA 86  19.474072\n",
              "409                  TOYOTA IQ   14.963542\n",
              "410     TOYOTA LAND CRUISER 150   0.000000\n",
              "411        TOYOTA LAND CRUISER    0.000000\n",
              "412               TOYOTA PRIUS   14.029686\n",
              "413          TOYOTA PRIUS PLUS   11.764050\n",
              "414                 TOYOTA RAV4  12.136996\n",
              "415               TOYOTA VERSO   11.291167\n",
              "416             TOYOTA VERSO S   11.264598\n",
              "417               TOYOTA YARIS   11.249686\n",
              "418        TOYOTA YARIS HYBRID    9.976397\n",
              "419              VOLKSWAGEN CC   14.142168\n",
              "420          VOLKSWAGEN BEETLE   14.038847\n",
              "421         VOLKSWAGEN CRAFTER    0.000000\n",
              "422             VOLKSWAGEN EOS   12.606484\n",
              "423            VOLKSWAGEN GOLF   11.701199\n",
              "424  VOLKSWAGEN GOLF SPORTSVAN    8.809007\n",
              "425           VOLKSWAGEN JETTA   11.461600\n",
              "426          VOLKSWAGEN PASSAT   15.506525\n",
              "427         VOLKSWAGEN PHAETON   12.109754\n",
              "428            VOLKSWAGEN POLO   10.302527\n",
              "429        VOLKSWAGEN SCIROCCO   18.014091\n",
              "430          VOLKSWAGEN SHARAN    0.000000\n",
              "431          VOLKSWAGEN TIGUAN   13.440063\n",
              "432         VOLKSWAGEN TOUAREG   12.980075\n",
              "433          VOLKSWAGEN TOURAN   10.223410\n",
              "434             VOLKSWAGEN UP!    0.000000\n",
              "435                   VOLVO S60  13.696836\n",
              "436                   VOLVO S80  11.631268\n",
              "437                   VOLVO V40  12.648644\n",
              "438     VOLVO V40 CROSS COUNTRY  12.922470\n",
              "439                   VOLVO V60  13.201442\n",
              "440            VOLVO V60 HYBRID  13.822271\n",
              "441                   VOLVO V70  12.094974\n",
              "442                  VOLVO XC60  15.348769\n",
              "443                  VOLVO XC70   0.000000\n",
              "444                  VOLVO XC90  11.965790"
            ]
          },
          "metadata": {
            "tags": []
          },
          "execution_count": 15
        }
      ]
    }
  ]
}