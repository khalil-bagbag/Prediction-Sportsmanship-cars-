{
  "nbformat": 4,
  "nbformat_minor": 0,
  "metadata": {
    "colab": {
      "name": "Argus_Pdf.ipynb",
      "provenance": [],
      "collapsed_sections": [],
      "authorship_tag": "ABX9TyOlLFsSJfcapmqkdxjgb3t7",
      "include_colab_link": true
    },
    "kernelspec": {
      "name": "python3",
      "display_name": "Python 3"
    },
    "language_info": {
      "name": "python"
    }
  },
  "cells": [
    {
      "cell_type": "markdown",
      "metadata": {
        "id": "view-in-github",
        "colab_type": "text"
      },
      "source": [
        "<a href=\"https://colab.research.google.com/github/khalil-bagbag/Prediction-Sportsmanship-cars-/blob/main/Argus_Pdf.ipynb\" target=\"_parent\"><img src=\"https://colab.research.google.com/assets/colab-badge.svg\" alt=\"Open In Colab\"/></a>"
      ]
    },
    {
      "cell_type": "code",
      "metadata": {
        "id": "AwSGd3SLoql0"
      },
      "source": [
        "ABARTH=['ABARTH Spider' ]"
      ],
      "execution_count": null,
      "outputs": []
    },
    {
      "cell_type": "code",
      "metadata": {
        "id": "h80u8gTLpJJj"
      },
      "source": [
        "# argus recupéré du pdf argus et l'autre liste c'est la liste d'origine\n",
        "ALFA_ROMEO_argus=['ALFA ROMEO MiTo' ,'ALFA ROMEO Giulietta' ,'ALFA ROMEO Giulia' ,'ALFA ROMEO Stelvio' ]\n",
        "Alfa_romeao=['ALFA ROMEO 159', 'ALFA ROMEO 4C', 'ALFA ROMEO AR8C SPIDER', 'ALFA ROMEO BRERA ', 'ALFA ROMEO GIULIETTA ', 'ALFA ROMEO Mito', 'ALFA ROMEO SPIDER ']"
      ],
      "execution_count": null,
      "outputs": []
    },
    {
      "cell_type": "code",
      "metadata": {
        "colab": {
          "base_uri": "https://localhost:8080/"
        },
        "id": "wFCB8AA5n3y2",
        "outputId": "baae0503-1ec4-4e11-85d4-76a0ed75709d"
      },
      "source": [
        "ALFA_ROMEO_argus = [each_string.upper() for each_string in ALFA_ROMEO_argus]\n",
        "Alfa_romeao = [each_string.upper() for each_string in Alfa_romeao]\n",
        "test_str1 = ALFA_ROMEO_argus\n",
        "test_str2 = Alfa_romeao\n",
        "  \n",
        "# using join() to\n",
        "# get string intersection\n",
        "res = ''.join(sorted(set(test_str1) &\n",
        "         set(test_str2), key = test_str1.index))\n",
        "print(res)"
      ],
      "execution_count": null,
      "outputs": [
        {
          "output_type": "stream",
          "text": [
            "ALFA ROMEO MITO\n"
          ],
          "name": "stdout"
        }
      ]
    },
    {
      "cell_type": "code",
      "metadata": {
        "id": "ye50VYWbdIjz"
      },
      "source": [
        "ALFA_ROMEO_aj=['ALFA ROMEO Giulietta' ,'ALFA ROMEO Giulia' ,'ALFA ROMEO Stelvio']"
      ],
      "execution_count": null,
      "outputs": []
    },
    {
      "cell_type": "code",
      "metadata": {
        "id": "eKSB0mnUpliI"
      },
      "source": [
        "AUDI_argus=['AUDI A1','AUDI A1 Sportback' ,'AUDI S1' , 'AUDI A3' ,'AUDI A3 Sportback' ,'AUDI A3 Cabriolet','AUDI S3 Sportback', 'AUDI RS3 Sportback' ,\n",
        "      'AUDI A4','AUDI A4 Avant ','AUDI A4 Allroad','AUDI S4', 'AUDI A5' ,'AUDI A5 Sportback', 'AUDI A5 Cabriolet','AUDI S5 Sportback','AUDI A6' ,'AUDI A6 Avant'\n",
        "     'AUDI A6 Allroad','AUDI Q2','AUDI Q3' 'AUDI RS Q3' 'AUDI Q5' 'AUDI SQ5' 'AUDI Q7' 'AUDI TT' 'AUDI TT Roadster' 'AUDI TT RS' ]\n",
        "Audi=['AUDI A1', 'AUDI S1', 'AUDI A1 SPORTBACK', 'AUDI S1 SPORTBACK', 'AUDI A3', 'AUDI S3', 'AUDI A3 CABRIOLET', 'AUDI S3 CABRIOLET',\n",
        "      'AUDI A3 LIMOUSINE', 'AUDI S3 LIMOUSINE', 'AUDI A3 SPORTBACK', 'AUDI S3 SPORTBACK', 'AUDI A3 SPORTBACK E-TRON', 'AUDI RS 3 SPORTBACK', \n",
        "      'AUDI A4 AVANT', 'AUDI S4 AVANT', 'AUDI A4 ALLROAD QUATTRO', 'AUDI A4 LIMOUSINE', 'AUDI S4 LIMOUSINE', 'AUDI A5 COUPE', 'AUDI S5 COUPE', \n",
        "      'AUDI A5 CABRIOLET', 'AUDI S5 CABRIOLET', 'AUDI A5 SPORTBACK', 'AUDI S5 SPORTBACK', 'AUDI A6 AVANT', 'AUDI S6 AVANT', 'AUDI RS 6 AVANT', \n",
        "      'AUDI A6 ALLROAD QUATTRO', 'AUDI A6 LIMOUSINE', 'AUDI S6 LIMOUSINE', 'AUDI A7 SPORTBACK', 'AUDI S7 SPORTBACK', 'AUDI RS 7 SPORTBACK', 'AUDI A8L', 'AUDI A8LW12', 'AUDI A8', 'AUDI S8', 'AUDI Q3', 'AUDI Q5', 'AUDI SQ5 TDI', 'AUDI Q7', 'AUDI R8 COUPE', 'AUDI R8 SPYDER', 'AUDI TT COUPE', 'AUDI TT ROADSTER', 'AUDI TTS ROADSTER']"
      ],
      "execution_count": null,
      "outputs": []
    },
    {
      "cell_type": "code",
      "metadata": {
        "colab": {
          "base_uri": "https://localhost:8080/"
        },
        "id": "5aSduVEluOBZ",
        "outputId": "f17f7723-6d6d-417b-b39b-3fe8f5322346"
      },
      "source": [
        "test_str1 = [each_string.upper() for each_string in AUDI_argus]\n",
        "test_str2 = [each_string.upper() for each_string in Audi]\n",
        "\n",
        "# using join() to\n",
        "# get string intersection\n",
        "res = ' ,'.join(sorted(set(test_str1) &\n",
        "         set(test_str2), key = test_str1.index))\n",
        "print(res)"
      ],
      "execution_count": null,
      "outputs": [
        {
          "output_type": "stream",
          "text": [
            "AUDI A1 ,AUDI A1 SPORTBACK ,AUDI S1 ,AUDI A3 ,AUDI A3 SPORTBACK ,AUDI A3 CABRIOLET ,AUDI S3 SPORTBACK ,AUDI A5 SPORTBACK ,AUDI A5 CABRIOLET ,AUDI S5 SPORTBACK\n"
          ],
          "name": "stdout"
        }
      ]
    },
    {
      "cell_type": "code",
      "metadata": {
        "id": "j3NN63PcdZ_u"
      },
      "source": [
        "AUDI_aj=[ 'AUDI RS3 Sportback' ,'AUDI A4','AUDI A4 Avant ','AUDI A4 Allroad','AUDI S4', 'AUDI A5','AUDI A6' ,'AUDI A6 Avant'\n",
        "     ,'AUDI A6 Allroad','AUDI Q2','AUDI Q3','AUDI RS Q3','AUDI Q5','AUDI SQ5','AUDI Q7','AUDI TT','AUDI TT Roadster','AUDI TT RS' ]"
      ],
      "execution_count": null,
      "outputs": []
    },
    {
      "cell_type": "code",
      "metadata": {
        "id": "QVvD1Xtltf_J"
      },
      "source": [
        "BMW_argus=['BMW Serie 1','BMW Serie 2 Coupe' ,'BMW Serie 2 Cabriolet','BMW M2 Coupe' ,'BMW Serie 3',\n",
        "'BMW Serie 3 Touring','BMW Serie 3 Gran Turismo','BMW Serie 4 Coupe','BMW Serie 4 Cabriolet','BMW Serie 4 Gran Coupe','BMW Serie 5','BMW Serie 5 Touring' \n",
        ",'BMW Serie 6 Gran Turismo','BMW X1','BMW X3','BMW X4','BMW X5 Sport','BMW X5 Lounge Plus','BMW X6 xDrive' ]\n",
        "BMW=['BMW SERIE 1', 'BMW SERIE 2', 'BMW SERIE 3', 'BMW SERIE 4', 'BMW SERIE 5', 'BMW SERIE 6', 'BMW SERIE 7', 'BMW SERIE I ', 'BMW M3', 'BMW M4', 'BMW M5',\n",
        "     'BMW SERIE X', 'BMW SERIE Z']"
      ],
      "execution_count": null,
      "outputs": []
    },
    {
      "cell_type": "code",
      "metadata": {
        "colab": {
          "base_uri": "https://localhost:8080/",
          "height": 36
        },
        "id": "p_5iLLZOvBLz",
        "outputId": "3dd0385c-0542-4749-ec58-23291e7a65fc"
      },
      "source": [
        "test_str1 = [each_string.upper() for each_string in BMW_argus]\n",
        "test_str2 = [each_string.upper() for each_string in BMW]  \n",
        "# using join() to\n",
        "# get string intersection\n",
        "res = ' ,'.join(sorted(set(test_str1) &\n",
        "         set(test_str2), key = test_str1.index))\n",
        "res"
      ],
      "execution_count": null,
      "outputs": [
        {
          "output_type": "execute_result",
          "data": {
            "application/vnd.google.colaboratory.intrinsic+json": {
              "type": "string"
            },
            "text/plain": [
              "'BMW SERIE 1 ,BMW SERIE 3 ,BMW SERIE 5'"
            ]
          },
          "metadata": {
            "tags": []
          },
          "execution_count": 14
        }
      ]
    },
    {
      "cell_type": "code",
      "metadata": {
        "id": "u1o7O0hHeCIy"
      },
      "source": [
        "BMW_aj=['BMW Serie 2 Coupe' ,'BMW Serie 2 Cabriolet','BMW Serie 2 ActiveTourer' ,'BMW Serie 2 Gran Tourer' ,'BMW M2 Coupe',\n",
        "'BMW Serie 3 Touring','BMW Serie 3 Gran Turismo','BMW Serie 4 Coupe','BMW Serie 4 Cabriolet','BMW Serie 4 Gran Coupe','BMW Serie 5 Touring' \n",
        ",'BMW Serie 6 Gran Turismo','BMW X1','BMW X3','BMW X4','BMW X5 Sport','BMW X5 Lounge Plus','BMW X6 xDrive' ]"
      ],
      "execution_count": null,
      "outputs": []
    },
    {
      "cell_type": "code",
      "metadata": {
        "id": "iqvksiMuPete"
      },
      "source": [
        "CITROEN_argus=[ 'CITROEN C1' ,'CITROEN C3','CITROEN C3 Aircross' ,'CITROEN C-Elysee' ,'CITROEN C4' ,'CITROEN C4 Picasso'\n",
        ",'CITROEN Grand C4 Picasso','CITROEN Berlingo','CITROEN SpaceTourer XS' ,'CITROEN SpaceTourer M' ]\n",
        "CITROEN=['CITROEN BERLINGO', 'CITROEN C-ZERO', 'CITROEN C1', 'CITROEN C3', 'CITROEN C3 PICASSO', 'CITROEN C4', \n",
        "         'CITROEN C4 AIRCROSS', 'CITROEN C4 CACTUS', 'CITROEN C4 PICASSO', 'CITROEN C5', 'CITROEN C8', 'CITROEN DS3', \n",
        "         'CITROEN DS4', 'CITROEN DS5', 'CITROEN JUMPER 4X4', 'CITROEN JUMPER', 'CITROEN JUMPY 4x4', 'CITROEN JUMPY', \n",
        "         'CITROEN NEMO', 'CITROEN NEMO TREK']"
      ],
      "execution_count": null,
      "outputs": []
    },
    {
      "cell_type": "code",
      "metadata": {
        "colab": {
          "base_uri": "https://localhost:8080/",
          "height": 36
        },
        "id": "FlIMEm3mwmRq",
        "outputId": "52a935e9-2862-4581-fc61-85309356c5a3"
      },
      "source": [
        "test_str1 = [each_string.upper() for each_string in CITROEN_argus]\n",
        "test_str2 = [each_string.upper() for each_string in CITROEN]  \n",
        "# using join() to\n",
        "# get string intersection\n",
        "res = ' ,'.join(sorted(set(test_str1) &\n",
        "         set(test_str2), key = test_str1.index))\n",
        "res"
      ],
      "execution_count": null,
      "outputs": [
        {
          "output_type": "execute_result",
          "data": {
            "application/vnd.google.colaboratory.intrinsic+json": {
              "type": "string"
            },
            "text/plain": [
              "'CITROEN C1 ,CITROEN C3 ,CITROEN C4 ,CITROEN C4 PICASSO ,CITROEN BERLINGO'"
            ]
          },
          "metadata": {
            "tags": []
          },
          "execution_count": 17
        }
      ]
    },
    {
      "cell_type": "code",
      "metadata": {
        "id": "-q7l5T5UefC6"
      },
      "source": [
        "CITROEN_aj=[ 'CITROEN C3 Aircross' ,'CITROEN C-Elysee','CITROEN Grand C4 Picasso','CITROEN SpaceTourer XS' ,'CITROEN SpaceTourer M' ]"
      ],
      "execution_count": null,
      "outputs": []
    },
    {
      "cell_type": "code",
      "metadata": {
        "id": "yD2zjbulQCak"
      },
      "source": [
        "DACIA_argus=['DACIA Sandero', 'DACIA Sandero', 'DACIA Logan', 'DACIA Logan MCV','DACIA Lodgy 5 places',\n",
        "'DACIA Lodgy 7 places', 'DACIA Lodgy 7 places', 'DACIA Dokker', 'DACIA Duster 4X2',\n",
        "'DACIA Duster 4X4']\n",
        "Dacia=['DACIA DOKKER', 'DACIA DUSTER', 'DACIA LODGY', 'DACIA LOGAN', 'DACIA SANDERO']"
      ],
      "execution_count": null,
      "outputs": []
    },
    {
      "cell_type": "code",
      "metadata": {
        "colab": {
          "base_uri": "https://localhost:8080/",
          "height": 36
        },
        "id": "taVLAdB1y4aL",
        "outputId": "c7ff656b-b90f-4fed-8655-6abea8f2e47c"
      },
      "source": [
        "test_str1 = [each_string.upper() for each_string in DACIA_argus]\n",
        "test_str2 = [each_string.upper() for each_string in Dacia]  \n",
        "# using join() to\n",
        "# get string intersection\n",
        "res = ' ,'.join(sorted(set(test_str1) &\n",
        "         set(test_str2), key = test_str1.index))\n",
        "res"
      ],
      "execution_count": null,
      "outputs": [
        {
          "output_type": "execute_result",
          "data": {
            "application/vnd.google.colaboratory.intrinsic+json": {
              "type": "string"
            },
            "text/plain": [
              "'DACIA SANDERO ,DACIA LOGAN ,DACIA DOKKER'"
            ]
          },
          "metadata": {
            "tags": []
          },
          "execution_count": 20
        }
      ]
    },
    {
      "cell_type": "code",
      "metadata": {
        "id": "GY5m822VetX6"
      },
      "source": [
        "DACIA_aj=['DACIA Logan MCV','DACIA Lodgy 5 places','DACIA Lodgy 7 places', 'DACIA Lodgy 7 places', 'DACIA Duster 4X2',\n",
        "'DACIA Duster 4X4']"
      ],
      "execution_count": null,
      "outputs": []
    },
    {
      "cell_type": "code",
      "metadata": {
        "id": "64g1o8IxR2Y0"
      },
      "source": [
        "DS_aj=['DS 3','DS 3 Cabrio','DS 4','DS 4','DS 4' ,'DS 4 Crossback' ,'DS 5 ','DS 5','DS 7 Crossback']"
      ],
      "execution_count": null,
      "outputs": []
    },
    {
      "cell_type": "code",
      "metadata": {
        "id": "g9cqkIYvSPxm"
      },
      "source": [
        "FIAT_argus=['FIAT Panda ','FIAT 500' ,'FIAT 500C' ,'FIAT 500L'  ,'FIAT 500X E-torQ' ,'FIAT 500X MultiAir' ,\n",
        "      'FIAT Punto','FIAT Tipo','FIAT 124 Spider' ,'FIAT Doblo Multijet' ]\n",
        "Fiat=['FIAT 500', 'FIAT 500C', 'FIAT 500 ABARTH', 'FIAT 500C ABARTH', 'FIAT 500L', 'FIAT BRAVO', 'FIAT DOBLO', 'FIAT DUCATO', 'FIAT DUCATO 4x4', 'FIAT FIORINO', 'FIAT FREEMONT', 'FIAT PANDA', 'FIAT PUNTO', 'FIAT SCUDO', 'FIAT SCUDO 4x4', 'FIAT SEDICI']"
      ],
      "execution_count": null,
      "outputs": []
    },
    {
      "cell_type": "code",
      "metadata": {
        "colab": {
          "base_uri": "https://localhost:8080/",
          "height": 36
        },
        "id": "0YNi45eJ1RUn",
        "outputId": "1e30a83a-6f75-495e-cceb-81c9ea682a1a"
      },
      "source": [
        "test_str1 = [each_string.upper() for each_string in FIAT_argus]\n",
        "test_str2 = [each_string.upper() for each_string in Fiat]  \n",
        "# using join() to\n",
        "# get string intersection\n",
        "res = ' ,'.join(sorted(set(test_str1) &\n",
        "         set(test_str2), key = test_str1.index))\n",
        "res"
      ],
      "execution_count": null,
      "outputs": [
        {
          "output_type": "execute_result",
          "data": {
            "application/vnd.google.colaboratory.intrinsic+json": {
              "type": "string"
            },
            "text/plain": [
              "'FIAT 500 ,FIAT 500C ,FIAT 500L ,FIAT PUNTO'"
            ]
          },
          "metadata": {
            "tags": []
          },
          "execution_count": 25
        }
      ]
    },
    {
      "cell_type": "code",
      "metadata": {
        "id": "gLl2sPL8e8Kr"
      },
      "source": [
        "FIAT_aj=['FIAT Panda ','FIAT 500X E-torQ' ,'FIAT 500X MultiAir','FIAT Tipo','FIAT 124 Spider' ,'FIAT Doblo Multijet' ]"
      ],
      "execution_count": null,
      "outputs": []
    },
    {
      "cell_type": "code",
      "metadata": {
        "id": "A2BiX5RAS6rj"
      },
      "source": [
        "FORD_argus=['FORD Ka+','FORD Fiesta','FORD EcoSport','FORD B-MAX','FORD Focus','FORD C-MAX','FORD Grand C-MAX','FORD Mondeo HYBRID' \n",
        ",'FORD Mustang Fastback','FORD S-MAX','FORD Galaxy','FORD Kuga 4x2','FORD Kuga 4x4','FORD Edge']\n",
        "Ford=['FORD B-MAX', 'FORD GRAND C-MAX', 'FORD C-MAX', 'FORD ECOSPORT', 'FORD FIESTA', 'FORD FOCUS ELECTRIC', 'FORD FOCUS',\n",
        "      'FORD KA', 'FORD KUGA', 'FORD MONDEO HYBRID', 'FORD MONDEO', 'FORD S-MAX', 'FORD TOURNEO', 'FORD TOURNEO COURIER', \n",
        "      'FORD TOURNEO CUSTOM', 'FORD TRANSIT', 'FORD TRANSIT CUSTOM']"
      ],
      "execution_count": null,
      "outputs": []
    },
    {
      "cell_type": "code",
      "metadata": {
        "colab": {
          "base_uri": "https://localhost:8080/",
          "height": 36
        },
        "id": "FYYjb6zy2ZH5",
        "outputId": "0af2d00c-9532-493f-e796-415eb81f9b4d"
      },
      "source": [
        "test_str1 = [each_string.upper() for each_string in FORD_argus]\n",
        "test_str2 = [each_string.upper() for each_string in Ford]  \n",
        "# using join() to\n",
        "# get string intersection\n",
        "res = ' ,'.join(sorted(set(test_str1) &\n",
        "         set(test_str2), key = test_str1.index))\n",
        "res"
      ],
      "execution_count": null,
      "outputs": [
        {
          "output_type": "execute_result",
          "data": {
            "application/vnd.google.colaboratory.intrinsic+json": {
              "type": "string"
            },
            "text/plain": [
              "'FORD FIESTA ,FORD ECOSPORT ,FORD B-MAX ,FORD FOCUS ,FORD C-MAX ,FORD GRAND C-MAX ,FORD MONDEO HYBRID ,FORD S-MAX'"
            ]
          },
          "metadata": {
            "tags": []
          },
          "execution_count": 32
        }
      ]
    },
    {
      "cell_type": "code",
      "metadata": {
        "id": "U8XIEu05fJfv"
      },
      "source": [
        "FORD_aj=['FORD Ka+','FORD Mustang Fastback','FORD Galaxy','FORD Kuga 4x2','FORD Kuga 4x4','FORD Edge']"
      ],
      "execution_count": null,
      "outputs": []
    },
    {
      "cell_type": "code",
      "metadata": {
        "colab": {
          "base_uri": "https://localhost:8080/",
          "height": 36
        },
        "id": "Jl4hk9VrU6pD",
        "outputId": "326a73d8-b92f-4cda-b438-9b593ff9d917"
      },
      "source": [
        "HONDA_argus=['HONDA Jazz','HONDA Civic','HONDA Civic Sport','HONDA HR-V','HONDA CR-V']\n",
        "honda=['HONDA ACCORD', 'HONDA CIVIC', 'HONDA CR-V', 'HONDA CR-Z', 'HONDA INSIGHT', 'HONDA JAZZ', 'HONDA JAZZ HYBRID']\n",
        "test_str1 = [each_string.upper() for each_string in HONDA_argus]\n",
        "test_str2 = [each_string.upper() for each_string in honda]  \n",
        "# using join() to\n",
        "# get string intersection\n",
        "res = ' ,'.join(sorted(set(test_str1) &\n",
        "         set(test_str2), key = test_str1.index))\n",
        "res"
      ],
      "execution_count": null,
      "outputs": [
        {
          "output_type": "execute_result",
          "data": {
            "application/vnd.google.colaboratory.intrinsic+json": {
              "type": "string"
            },
            "text/plain": [
              "'HONDA JAZZ ,HONDA CIVIC ,HONDA CR-V'"
            ]
          },
          "metadata": {
            "tags": []
          },
          "execution_count": 33
        }
      ]
    },
    {
      "cell_type": "code",
      "metadata": {
        "id": "z6qkMsBrfwcb"
      },
      "source": [
        "HONDA_aj=['HONDA Civic Sport','HONDA HR-V']"
      ],
      "execution_count": null,
      "outputs": []
    },
    {
      "cell_type": "code",
      "metadata": {
        "colab": {
          "base_uri": "https://localhost:8080/",
          "height": 36
        },
        "id": "nROt6enlVGGn",
        "outputId": "d33df2f3-aadf-4d35-dc45-d5714f239c0e"
      },
      "source": [
        "HYUNDAI_argus=['HYUNDAI i10','HYUNDAI i20','HYUNDAI i30','HYUNDAI Kona','HYUNDAI i40','HYUNDAI Ioniq','HYUNDAI Tucson','HYUNDAI Santa']\n",
        "HYUNDAI=['HYUNDAI GENESIS', 'HYUNDAI I10', 'HYUNDAI I20', 'HYUNDAI I30', 'HYUNDAI I40', 'HYUNDAI IX20', 'HYUNDAI IX 35', 'HYUNDAI SANTA FE',\n",
        "         'HYUNDAI VELOSTER']\n",
        "test_str1 = [each_string.upper() for each_string in HYUNDAI_argus]\n",
        "test_str2 = [each_string.upper() for each_string in HYUNDAI]  \n",
        "# using join() to\n",
        "# get string intersection\n",
        "res = ' ,'.join(sorted(set(test_str1) &\n",
        "         set(test_str2), key = test_str1.index))\n",
        "res"
      ],
      "execution_count": null,
      "outputs": [
        {
          "output_type": "execute_result",
          "data": {
            "application/vnd.google.colaboratory.intrinsic+json": {
              "type": "string"
            },
            "text/plain": [
              "'HYUNDAI I10 ,HYUNDAI I20 ,HYUNDAI I30 ,HYUNDAI I40'"
            ]
          },
          "metadata": {
            "tags": []
          },
          "execution_count": 35
        }
      ]
    },
    {
      "cell_type": "code",
      "metadata": {
        "id": "-wvqc043f2Oc"
      },
      "source": [
        "HYUNDAI_aj=['HYUNDAI Kona','HYUNDAI Ioniq','HYUNDAI Tucson','HYUNDAI Santa']"
      ],
      "execution_count": null,
      "outputs": []
    },
    {
      "cell_type": "code",
      "metadata": {
        "colab": {
          "base_uri": "https://localhost:8080/",
          "height": 36
        },
        "id": "Gbnm1iPGVlVP",
        "outputId": "adba7e8f-0c44-41e0-fd93-1e655178c800"
      },
      "source": [
        "INFINITI_argus=['INFINITI Q30','INFINITI Q50 Sport','INFINITI Q50','INFINITI Q60 Coupé','INFINITI Q70','INFINITI QX30','INFINITI QX70']\n",
        "infiniti=['INFINITI Q50', 'INFINITI Q60', 'INFINITI Q70', 'INFINITI QX50', 'INFINITI QX70']\n",
        "test_str1 = [each_string.upper() for each_string in INFINITI_argus]\n",
        "test_str2 = [each_string.upper() for each_string in infiniti]  \n",
        "# using join() to\n",
        "# get string intersection\n",
        "res = ' ,'.join(sorted(set(test_str1) &\n",
        "         set(test_str2), key = test_str1.index))\n",
        "res"
      ],
      "execution_count": null,
      "outputs": [
        {
          "output_type": "execute_result",
          "data": {
            "application/vnd.google.colaboratory.intrinsic+json": {
              "type": "string"
            },
            "text/plain": [
              "'INFINITI Q50 ,INFINITI Q70 ,INFINITI QX70'"
            ]
          },
          "metadata": {
            "tags": []
          },
          "execution_count": 37
        }
      ]
    },
    {
      "cell_type": "code",
      "metadata": {
        "id": "pFN2zir3gE88"
      },
      "source": [
        "INFINITI_aj=['INFINITI Q30','INFINITI Q50 Sport','INFINITI Q60 Coupé','INFINITI QX30']"
      ],
      "execution_count": null,
      "outputs": []
    },
    {
      "cell_type": "code",
      "metadata": {
        "colab": {
          "base_uri": "https://localhost:8080/",
          "height": 36
        },
        "id": "YeUwDFg1V0MS",
        "outputId": "f5156ce7-4465-4553-d421-e099aede9830"
      },
      "source": [
        "JAGUAR_argus=['JAGUAR XE Prestige','JAGUAR XE R-Sport','JAGUAR XF Sportbrake','JAGUAR F-Type Coupe','JAGUAR E-Pace','JAGUAR F-Pace 4x4','JAGUAR F-Pace 4x2'\n",
        ",'JAGUAR F-Pace 4x4','JAGUAR F-Pace V6'] \n",
        "Jaguar=['JAGUAR F-TYPE', 'JAGUAR XF', 'JAGUAR XF SPORTBRAKE', 'JAGUAR XJ']\n",
        "test_str1 = [each_string.upper() for each_string in JAGUAR_argus]\n",
        "test_str2 = [each_string.upper() for each_string in Jaguar]  \n",
        "# using join() to\n",
        "# get string intersection\n",
        "res = ' ,'.join(sorted(set(test_str1) &\n",
        "         set(test_str2), key = test_str1.index))\n",
        "res"
      ],
      "execution_count": null,
      "outputs": [
        {
          "output_type": "execute_result",
          "data": {
            "application/vnd.google.colaboratory.intrinsic+json": {
              "type": "string"
            },
            "text/plain": [
              "'JAGUAR XF SPORTBRAKE'"
            ]
          },
          "metadata": {
            "tags": []
          },
          "execution_count": 39
        }
      ]
    },
    {
      "cell_type": "code",
      "metadata": {
        "id": "fHZ2m12ogL41"
      },
      "source": [
        "JAGUAR_aj=['JAGUAR XE Prestige','JAGUAR XE R-Sport','JAGUAR F-Type Coupe','JAGUAR E-Pace','JAGUAR F-Pace 4x4','JAGUAR F-Pace 4x2','JAGUAR F-Pace 4x4','JAGUAR F-Pace V6'] "
      ],
      "execution_count": null,
      "outputs": []
    },
    {
      "cell_type": "code",
      "metadata": {
        "colab": {
          "base_uri": "https://localhost:8080/",
          "height": 36
        },
        "id": "QG7Ul0IfWPpc",
        "outputId": "95fe5754-946b-4f4d-d03d-3a31ddf763b1"
      },
      "source": [
        "JEEP_argus=['JEEP Renegade','JEEP Renegade 4x4','JEEP Compass','JEEP Compass 4x4','JEEP Cherokee','JEEP Grand Cherokee']\n",
        "jeep=['JEEP CHEROKEE', 'JEEP COMPASS', 'JEEP GRAND CHEROKEE', 'JEEP GRAND CHEROKEE SRT8', 'JEEP WRANGLER', 'JEEP WRANGLER UNLIMITED']\n",
        "test_str1 = [each_string.upper() for each_string in JEEP_argus]\n",
        "test_str2 = [each_string.upper() for each_string in jeep]  \n",
        "# using join() to\n",
        "# get string intersection\n",
        "res = ' ,'.join(sorted(set(test_str1) &\n",
        "         set(test_str2), key = test_str1.index))\n",
        "res"
      ],
      "execution_count": null,
      "outputs": [
        {
          "output_type": "execute_result",
          "data": {
            "application/vnd.google.colaboratory.intrinsic+json": {
              "type": "string"
            },
            "text/plain": [
              "'JEEP COMPASS ,JEEP CHEROKEE ,JEEP GRAND CHEROKEE'"
            ]
          },
          "metadata": {
            "tags": []
          },
          "execution_count": 42
        }
      ]
    },
    {
      "cell_type": "code",
      "metadata": {
        "id": "9Csq2Km6gWPQ"
      },
      "source": [
        "JEEP_aj=['JEEP Renegade','JEEP Renegade 4x4','JEEP Compass 4x4']"
      ],
      "execution_count": null,
      "outputs": []
    },
    {
      "cell_type": "code",
      "metadata": {
        "colab": {
          "base_uri": "https://localhost:8080/",
          "height": 36
        },
        "id": "K3o2KHnhWnUA",
        "outputId": "0d256622-27e4-45fc-cfd6-258acfd4d991"
      },
      "source": [
        "KIA_argus=['KIA Rio','KIA Venga','KIA Soul','KIA Pro Cee’d GT Line','KIA Cee’d','KIA Optima','KIA Stinger','KIA Carens','KIA Niro','KIA Stonic' \n",
        ",'KIA Sportage 4x2','KIA Sportage GT Line 4x4']\n",
        "kia=['KIA CARENS', \"KIA CEE'D\", 'KIA OPTIMA', 'KIA PICANTO', 'KIA RIO', 'KIA SORENTO','KIA SOUL', 'KIA SPORTAGE','KIA VENGA']\n",
        "test_str1 = [each_string.upper() for each_string in KIA_argus]\n",
        "test_str2 = [each_string.upper() for each_string in kia]  \n",
        "# using join() to\n",
        "# get string intersection\n",
        "res = ' ,'.join(sorted(set(test_str1) &\n",
        "         set(test_str2), key = test_str1.index))\n",
        "res"
      ],
      "execution_count": null,
      "outputs": [
        {
          "output_type": "execute_result",
          "data": {
            "application/vnd.google.colaboratory.intrinsic+json": {
              "type": "string"
            },
            "text/plain": [
              "'KIA RIO ,KIA VENGA ,KIA SOUL ,KIA OPTIMA ,KIA CARENS'"
            ]
          },
          "metadata": {
            "tags": []
          },
          "execution_count": 44
        }
      ]
    },
    {
      "cell_type": "code",
      "metadata": {
        "id": "TPbnHD4Tge6z"
      },
      "source": [
        "KIA_aj=['KIA Pro Cee’d GT Line','KIA Cee’d','KIA Stinger','KIA Niro','KIA Stonic' \n",
        ",'KIA Sportage 4x2','KIA Sportage GT Line 4x4']"
      ],
      "execution_count": null,
      "outputs": []
    },
    {
      "cell_type": "code",
      "metadata": {
        "colab": {
          "base_uri": "https://localhost:8080/",
          "height": 36
        },
        "id": "qfsQq8ouXSJ6",
        "outputId": "22a8cf3e-b31d-4eef-f562-1d513f55b109"
      },
      "source": [
        "LAND_ROVER_argus=['LAND ROVER Discovery Sport','LAND ROVER Discovery Luxury','LAND ROVER Discovery','LAND ROVER Evoque','LAND ROVER Range Rover Velar' \n",
        "'LAND ROVER Range Rover Sport']\n",
        "land_rover=['LAND ROVER DISCOVERY', 'LAND ROVER DISCOVERY SPORT', 'LAND ROVER FREELANDER', 'LAND ROVER RANGE ROVER', 'LAND ROVER RANGE ROVER EVOQUE',\n",
        "            'LAND ROVER RANGE ROVER SPORT']\n",
        "test_str1 = [each_string.upper() for each_string in LAND_ROVER_argus]\n",
        "test_str2 = [each_string.upper() for each_string in land_rover]  \n",
        "# using join() to\n",
        "# get string intersection\n",
        "res = ' ,'.join(sorted(set(test_str1) &\n",
        "         set(test_str2), key = test_str1.index))\n",
        "res"
      ],
      "execution_count": null,
      "outputs": [
        {
          "output_type": "execute_result",
          "data": {
            "application/vnd.google.colaboratory.intrinsic+json": {
              "type": "string"
            },
            "text/plain": [
              "'LAND ROVER DISCOVERY SPORT ,LAND ROVER DISCOVERY'"
            ]
          },
          "metadata": {
            "tags": []
          },
          "execution_count": 46
        }
      ]
    },
    {
      "cell_type": "code",
      "metadata": {
        "id": "H_InjB67gsPq"
      },
      "source": [
        "LAND_ROVER_aj=['LAND ROVER Discovery Luxury','LAND ROVER Evoque','LAND ROVER Range Rover Velar','LAND ROVER Range Rover Sport']"
      ],
      "execution_count": null,
      "outputs": []
    },
    {
      "cell_type": "code",
      "metadata": {
        "colab": {
          "base_uri": "https://localhost:8080/",
          "height": 36
        },
        "id": "rMXlkimIXd77",
        "outputId": "af090892-5b11-47b7-e96e-5513b67b808b"
      },
      "source": [
        "LEXUS_argus=['LEXUS CT Pack','LEXUS IS Luxe','LEXUS GS Executive','LEXUS RC F SPORT','LEXUS NX 2WD Pack','LEXUS NX 4WD Pack','LEXUS RX F SPORT']\n",
        "lexus=['LEXUS CT200H', 'LEXUS GS450', 'LEXUS GS300', 'LEXUS GS250', 'LEXUS IS F ', 'LEXUS IS220', 'LEXUS IS200', 'LEXUS IS300H', 'LEXUS IS250', \n",
        "       'LEXUS LEXUS LFA', 'LEXUS LS460', 'LEXUS LS600', 'LEXUS NX200T', 'LEXUS NX300H', 'LEXUS LEXUS RC F', 'LEXUS RX350', 'LEXUS RX450H']\n",
        "test_str1 = [each_string.upper() for each_string in LEXUS_argus]\n",
        "test_str2 = [each_string.upper() for each_string in lexus]  \n",
        "# using join() to\n",
        "# get string intersection\n",
        "res = ' ,'.join(sorted(set(test_str1) &\n",
        "         set(test_str2), key = test_str1.index))\n",
        "res"
      ],
      "execution_count": null,
      "outputs": [
        {
          "output_type": "execute_result",
          "data": {
            "application/vnd.google.colaboratory.intrinsic+json": {
              "type": "string"
            },
            "text/plain": [
              "''"
            ]
          },
          "metadata": {
            "tags": []
          },
          "execution_count": 50
        }
      ]
    },
    {
      "cell_type": "code",
      "metadata": {
        "id": "YqnYcHL5g_Jo"
      },
      "source": [
        "LEXUS_aj=['LEXUS CT Pack','LEXUS IS Luxe','LEXUS GS Executive','LEXUS RC F SPORT','LEXUS NX 2WD Pack','LEXUS NX 4WD Pack','LEXUS RX F SPORT']"
      ],
      "execution_count": null,
      "outputs": []
    },
    {
      "cell_type": "code",
      "metadata": {
        "colab": {
          "base_uri": "https://localhost:8080/",
          "height": 36
        },
        "id": "PEw-UzOvXeBv",
        "outputId": "b8275ef6-ead9-4897-a217-04e14eb287ef"
      },
      "source": [
        "MASERATI_argus=['MASERATI Levante Q4','MASERATI Levante V6']\n",
        "maserati=['MASERATI GHIBLI S', 'MASERATI GHIBLI S Q4', 'MASERATI GHIBLI', 'MASERATI GHIBLI DIESEL', 'MASERATI GRANCABRIO',\n",
        "          'MASERATI GRANCABRIO SPORT', 'MASERATI GRANCABRIO MC', 'MASERATI GRANTURISMO', 'MASERATI GRANTURISMO SPORT', 'MASERATI QUATTROPORTE GTS',\n",
        "          'MASERATI QUATTROPORTE', 'MASERATI QUATTROPORTE S', 'MASERATI QUATTROPORTE S Q4', 'MASERATI QUATTROPORTE DIESEL']\n",
        "test_str1 = [each_string.upper() for each_string in MASERATI_argus]\n",
        "test_str2 = [each_string.upper() for each_string in maserati]  \n",
        "# using join() to\n",
        "# get string intersection\n",
        "res = ' ,'.join(sorted(set(test_str1) &\n",
        "         set(test_str2), key = test_str1.index))\n",
        "res"
      ],
      "execution_count": null,
      "outputs": [
        {
          "output_type": "execute_result",
          "data": {
            "application/vnd.google.colaboratory.intrinsic+json": {
              "type": "string"
            },
            "text/plain": [
              "''"
            ]
          },
          "metadata": {
            "tags": []
          },
          "execution_count": 52
        }
      ]
    },
    {
      "cell_type": "code",
      "metadata": {
        "id": "MB6nbGluhuhz"
      },
      "source": [
        "MASERATI_aj=['MASERATI Levante Q4','MASERATI Levante V6']"
      ],
      "execution_count": null,
      "outputs": []
    },
    {
      "cell_type": "code",
      "metadata": {
        "colab": {
          "base_uri": "https://localhost:8080/",
          "height": 36
        },
        "id": "5ZTeQq56XSMv",
        "outputId": "c13790d0-e3c4-402c-adf7-37311424b7fd"
      },
      "source": [
        "MAZDA_argus=['Mazda','MAZDA MX-5','MAZDA MX-5','MAZDA CX-3','MAZDA CX-5 4x4','MAZDA CX-5']\n",
        "mazda=['MAZDA 2', 'MAZDA 3', 'MAZDA 5', 'MAZDA 6', 'MAZDA CX-5', 'MAZDA MX-5']\n",
        "test_str1 = [each_string.upper() for each_string in MAZDA_argus]\n",
        "test_str2 = [each_string.upper() for each_string in mazda]  \n",
        "# using join() to\n",
        "# get string intersection\n",
        "res = ' ,'.join(sorted(set(test_str1) &\n",
        "         set(test_str2), key = test_str1.index))\n",
        "res"
      ],
      "execution_count": null,
      "outputs": [
        {
          "output_type": "execute_result",
          "data": {
            "application/vnd.google.colaboratory.intrinsic+json": {
              "type": "string"
            },
            "text/plain": [
              "'MAZDA MX-5 ,MAZDA CX-5'"
            ]
          },
          "metadata": {
            "tags": []
          },
          "execution_count": 54
        }
      ]
    },
    {
      "cell_type": "code",
      "metadata": {
        "id": "XmLUTpJqhyVs"
      },
      "source": [
        "MAZDA_aj=['Mazda','MAZDA MX-5','MAZDA CX-3','MAZDA CX-5 4x4']"
      ],
      "execution_count": null,
      "outputs": []
    },
    {
      "cell_type": "code",
      "metadata": {
        "colab": {
          "base_uri": "https://localhost:8080/",
          "height": 36
        },
        "id": "U9X8Z72MYSff",
        "outputId": "77e430de-e414-4171-e927-199a6b807315"
      },
      "source": [
        "MERCEDES_argus=['MERCEDES Classe A' ,'MERCEDES CLA 180'  ,'MERCEDES Classe B' ,'MERCEDES Classe C' ,'MERCEDES Classe C Break','MERCEDES Classe C Coupé' \n",
        ",'MERCEDES Classe E','MERCEDES Classe E Break' ,'MERCEDES Classe E Cabriolet','MERCEDES SLC 200 Sportline','MERCEDES SLC 43 9G-Tronic'\n",
        ",'MERCEDES Citan Tourer','MERCEDES Classe V','MERCEDES Classe GLA','MERCEDES GLC AMG','MERCEDES GLC d','MERCEDES GLC 350','MERCEDES GLC Coupé' \n",
        ",'MERCEDES GLE 400','MERCEDES GLE 250','MERCEDES GLE 350','MERCEDES GLE Coupé 350'] \n",
        "mercedes=['MERCEDES CLASSE A', 'MERCEDES GT', 'MERCEDES CLASSE B', 'MERCEDES CLASSE C', 'MERCEDES CITAN', 'MERCEDES CLASSE CL',\n",
        "          'MERCEDES CLASSE CLA', 'MERCEDES CLASSE V', 'MERCEDES CLASSE CLS', 'MERCEDES CLASSE E', 'MERCEDES CLASSE G', \n",
        "          'MERCEDES CLASSE GL', 'MERCEDES CLASSE M', 'MERCEDES CLASSE GLA', 'MERCEDES CLASSE S', 'MERCEDES S63 AMG', 'MERCEDES S65 AMG',\n",
        "          'MERCEDES CLASSE SL', 'MERCEDES CLASSE SLK', 'MERCEDES SLS AMG', 'MERCEDES SPRINTER', 'MERCEDES VITO']\n",
        "test_str1 = [each_string.upper() for each_string in MERCEDES_argus]\n",
        "test_str2 = [each_string.upper() for each_string in mercedes]  \n",
        "# using join() to\n",
        "# get string intersection\n",
        "res = ' ,'.join(sorted(set(test_str1) &\n",
        "         set(test_str2), key = test_str1.index))\n",
        "res"
      ],
      "execution_count": null,
      "outputs": [
        {
          "output_type": "execute_result",
          "data": {
            "application/vnd.google.colaboratory.intrinsic+json": {
              "type": "string"
            },
            "text/plain": [
              "'MERCEDES CLASSE A ,MERCEDES CLASSE B ,MERCEDES CLASSE C ,MERCEDES CLASSE E ,MERCEDES CLASSE V ,MERCEDES CLASSE GLA'"
            ]
          },
          "metadata": {
            "tags": []
          },
          "execution_count": 56
        }
      ]
    },
    {
      "cell_type": "code",
      "metadata": {
        "id": "KSSWa35Vh6d4"
      },
      "source": [
        "MERCEDES_aj=['MERCEDES CLA 180'  ,'MERCEDES Classe C Break','MERCEDES Classe C Coupé','MERCEDES Classe E Break' ,'MERCEDES Classe E Cabriolet','MERCEDES SLC 200 Sportline','MERCEDES SLC 43 9G-Tronic'\n",
        ",'MERCEDES Citan Tourer','MERCEDES GLC AMG','MERCEDES GLC d','MERCEDES GLC 350','MERCEDES GLC Coupé','MERCEDES GLE 400','MERCEDES GLE 250','MERCEDES GLE 350','MERCEDES GLE Coupé 350'] "
      ],
      "execution_count": null,
      "outputs": []
    },
    {
      "cell_type": "code",
      "metadata": {
        "colab": {
          "base_uri": "https://localhost:8080/",
          "height": 36
        },
        "id": "n2PX0TmQZb41",
        "outputId": "cb38fb55-b7ae-4691-ccfb-e0b0907b8392"
      },
      "source": [
        "MINI_argus=['Mini One','Mini Cooper','Mini Cooper S','Mini John Cooper Works','Mini One D','Mini Cooper D','Mini Cooper SD','Mini Cabrio Cooper' \n",
        ",'Mini Cabrio Cooper S','Mini Clubman One','Mini Clubman Cooper','Mini Clubman Cooper S','Mini Clubman One D','Mini Clubman Cooper D','Mini Clubman Cooper SD' \n",
        ",'Mini Countryman One','Mini Countryman Cooper','Mini Countryman Cooper S','Mini Countryman John Cooper Works','Mini Countryman Cooper SE' \n",
        ",'Mini Countryman One D','Mini Countryman Cooper D','Mini Countryman Cooper SD']\n",
        "Mini=['MINI MINI']\n",
        "test_str1 = [each_string.upper() for each_string in MINI_argus]\n",
        "test_str2 = [each_string.upper() for each_string in Mini]  \n",
        "# using join() to\n",
        "# get string intersection\n",
        "res = ' ,'.join(sorted(set(test_str1) &\n",
        "         set(test_str2), key = test_str1.index))\n",
        "res"
      ],
      "execution_count": null,
      "outputs": [
        {
          "output_type": "execute_result",
          "data": {
            "application/vnd.google.colaboratory.intrinsic+json": {
              "type": "string"
            },
            "text/plain": [
              "''"
            ]
          },
          "metadata": {
            "tags": []
          },
          "execution_count": 108
        }
      ]
    },
    {
      "cell_type": "code",
      "metadata": {
        "id": "lasEakMncaLL"
      },
      "source": [
        "MINI_aj=['Mini One','Mini Cooper','Mini Cooper S','Mini John Cooper Works','Mini One D','Mini Cooper D','Mini Cooper SD','Mini Cabrio Cooper' \n",
        ",'Mini Cabrio Cooper S','Mini Clubman One','Mini Clubman Cooper','Mini Clubman Cooper S','Mini Clubman One D','Mini Clubman Cooper D','Mini Clubman Cooper SD' \n",
        ",'Mini Countryman One','Mini Countryman Cooper','Mini Countryman Cooper S','Mini Countryman John Cooper Works','Mini Countryman Cooper SE' \n",
        ",'Mini Countryman One D','Mini Countryman Cooper D','Mini Countryman Cooper SD']"
      ],
      "execution_count": null,
      "outputs": []
    },
    {
      "cell_type": "code",
      "metadata": {
        "colab": {
          "base_uri": "https://localhost:8080/",
          "height": 36
        },
        "id": "2NzAQAuaWP2R",
        "outputId": "2b3143b8-a059-4977-9897-ae34e59aef44"
      },
      "source": [
        "MITSUBISHI_argus=['MITSUBISHI Space Star','MITSUBISHI ASX WD','MITSUBISHI Eclipse cross','MITSUBISHI Outlander']\n",
        "mitsunishi=['MITSUBISHI ASX', 'MITSUBISHI I-MIEV', 'MITSUBISHI OUTLANDER', 'MITSUBISHI PAJERO', 'MITSUBISHI SPACE STAR']\n",
        "test_str1 = [each_string.upper() for each_string in MITSUBISHI_argus]\n",
        "test_str2 = [each_string.upper() for each_string in mitsunishi]  \n",
        "# using join() to\n",
        "# get string intersection\n",
        "res = ' ,'.join(sorted(set(test_str1) &\n",
        "         set(test_str2), key = test_str1.index))\n",
        "res"
      ],
      "execution_count": null,
      "outputs": [
        {
          "output_type": "execute_result",
          "data": {
            "application/vnd.google.colaboratory.intrinsic+json": {
              "type": "string"
            },
            "text/plain": [
              "'MITSUBISHI SPACE STAR ,MITSUBISHI OUTLANDER'"
            ]
          },
          "metadata": {
            "tags": []
          },
          "execution_count": 59
        }
      ]
    },
    {
      "cell_type": "code",
      "metadata": {
        "id": "YZ6tfJwyiOwA"
      },
      "source": [
        "MITSUBISHI_aj=['MITSUBISHI ASX WD','MITSUBISHI Eclipse cross']"
      ],
      "execution_count": null,
      "outputs": []
    },
    {
      "cell_type": "code",
      "metadata": {
        "colab": {
          "base_uri": "https://localhost:8080/",
          "height": 36
        },
        "id": "_i68vd-jV0PR",
        "outputId": "406e52bb-28f4-4dfb-d418-4425b8d81aea"
      },
      "source": [
        "NISSAN_Argus=['NISSAN Micra','NISSAN Note','NISSAN Pulsar','NISSAN 370Z','NISSAN Juke','NISSAN Qashqai','NISSAN X-Trail']\n",
        "nissan=['NISSAN 370Z', 'NISSAN 370Z ROADSTER', 'NISSAN GT-R', 'NISSAN JUKE', 'NISSAN LEAF', 'NISSAN MICRA', 'NISSAN MURANO',\n",
        "        'NISSAN NOTE', 'NISSAN NV200', 'NISSAN E-NV200', 'NISSAN NV300', 'NISSAN NV400', 'NISSAN PULSAR', 'NISSAN QASHQAI',\n",
        "        'NISSAN X-TRAIL']\n",
        "test_str1 = [each_string.upper() for each_string in NISSAN_Argus]\n",
        "test_str2 = [each_string.upper() for each_string in nissan]  \n",
        "# using join() to\n",
        "# get string intersection\n",
        "res = ' ,'.join(sorted(set(test_str1) &\n",
        "         set(test_str2), key = test_str1.index))\n",
        "res"
      ],
      "execution_count": null,
      "outputs": [
        {
          "output_type": "execute_result",
          "data": {
            "application/vnd.google.colaboratory.intrinsic+json": {
              "type": "string"
            },
            "text/plain": [
              "'NISSAN MICRA ,NISSAN NOTE ,NISSAN PULSAR ,NISSAN 370Z ,NISSAN JUKE ,NISSAN QASHQAI ,NISSAN X-TRAIL'"
            ]
          },
          "metadata": {
            "tags": []
          },
          "execution_count": 61
        }
      ]
    },
    {
      "cell_type": "code",
      "metadata": {
        "id": "ZQ4vLvFNiUZ3"
      },
      "source": [
        "#rien à ajouter pour les nissans"
      ],
      "execution_count": null,
      "outputs": []
    },
    {
      "cell_type": "code",
      "metadata": {
        "colab": {
          "base_uri": "https://localhost:8080/",
          "height": 36
        },
        "id": "0T0Qt81MVlb8",
        "outputId": "9a89b11d-0600-4d5e-b2b2-06ac24bce299"
      },
      "source": [
        "OPEL_argus=['OPEL Karl','OPEL Adam','OPEL Corsa','OPEL Astra','OPEL Astra Sports Tourer','OPEL Insignia Grand Sport','OPEL Insignia Tourer','OPEL Mokka X' \n",
        ",'OPEL Crossland X','OPEL Grandland X']\n",
        "opel=['OPEL ADAM', 'OPEL AGILA', 'OPEL AMPERA', 'OPEL ANTARA', 'OPEL ASTRA GTC', 'OPEL ASTRA SPORTS TOURER', 'OPEL ASTRA', 'OPEL CASCADA', 'OPEL COMBO',\n",
        "     'OPEL CORSA', 'OPEL INSIGNIA', 'OPEL MERIVA', 'OPEL MOKKA', 'OPEL MOVANO', 'OPEL VIVARO', 'OPEL ZAFIRA TOURER' ]\n",
        "test_str1 = [each_string.upper() for each_string in OPEL_argus]\n",
        "test_str2 = [each_string.upper() for each_string in opel]  \n",
        "# using join() to\n",
        "# get string intersection\n",
        "res = ' ,'.join(sorted(set(test_str1) &\n",
        "         set(test_str2), key = test_str1.index))\n",
        "res"
      ],
      "execution_count": null,
      "outputs": [
        {
          "output_type": "execute_result",
          "data": {
            "application/vnd.google.colaboratory.intrinsic+json": {
              "type": "string"
            },
            "text/plain": [
              "'OPEL ADAM ,OPEL CORSA ,OPEL ASTRA ,OPEL ASTRA SPORTS TOURER'"
            ]
          },
          "metadata": {
            "tags": []
          },
          "execution_count": 64
        }
      ]
    },
    {
      "cell_type": "code",
      "metadata": {
        "id": "Vx7LV9rcigVP"
      },
      "source": [
        "OPEL_aj=['OPEL Karl','OPEL Insignia Grand Sport','OPEL Insignia Tourer','OPEL Mokka X','OPEL Crossland X','OPEL Grandland X']"
      ],
      "execution_count": null,
      "outputs": []
    },
    {
      "cell_type": "code",
      "metadata": {
        "colab": {
          "base_uri": "https://localhost:8080/",
          "height": 36
        },
        "id": "IfYb2RscU6ru",
        "outputId": "8508a2db-11b5-4d7e-ebbc-988f63a07b3a"
      },
      "source": [
        "PEUGEOT_argus=['PEUGEOT 108' ,'PEUGEOT 208','PEUGEOT 2008','PEUGEOT 308','PEUGEOT 3008','PEUGEOT 508','PEUGEOT 5008','PEUGEOT Partner Tepee','PEUGEOT Traveller'] \n",
        "peugeaot=['PEUGEOT 108', 'PEUGEOT 2008', 'PEUGEOT 207', 'PEUGEOT 208', 'PEUGEOT 3008', 'PEUGEOT 308', 'PEUGEOT 4008', 'PEUGEOT 5008', 'PEUGEOT 508'\n",
        ", 'PEUGEOT BIPPER', 'PEUGEOT BIPPER TREK', 'PEUGEOT BOXER 4X4', 'PEUGEOT BOXER', 'PEUGEOT EXPERT 4x4', 'PEUGEOT EXPERT', 'PEUGEOT ION', \n",
        "'PEUGEOT PARTNER', 'PEUGEOT RCZ']\n",
        "test_str1 = [each_string.upper() for each_string in PEUGEOT_argus]\n",
        "test_str2 = [each_string.upper() for each_string in peugeaot]  \n",
        "# using join() to\n",
        "# get string intersection\n",
        "res = ' ,'.join(sorted(set(test_str1) &\n",
        "         set(test_str2), key = test_str1.index))\n",
        "res"
      ],
      "execution_count": null,
      "outputs": [
        {
          "output_type": "execute_result",
          "data": {
            "application/vnd.google.colaboratory.intrinsic+json": {
              "type": "string"
            },
            "text/plain": [
              "'PEUGEOT 108 ,PEUGEOT 208 ,PEUGEOT 2008 ,PEUGEOT 308 ,PEUGEOT 3008 ,PEUGEOT 508 ,PEUGEOT 5008'"
            ]
          },
          "metadata": {
            "tags": []
          },
          "execution_count": 70
        }
      ]
    },
    {
      "cell_type": "code",
      "metadata": {
        "id": "B63M832jiow4"
      },
      "source": [
        "PEUGEOT_aj=['PEUGEOT Partner Tepee','PEUGEOT Traveller'] "
      ],
      "execution_count": null,
      "outputs": []
    },
    {
      "cell_type": "code",
      "metadata": {
        "colab": {
          "base_uri": "https://localhost:8080/",
          "height": 36
        },
        "id": "0uP55SlBa4if",
        "outputId": "aff10e64-e522-4f61-d51f-fd932abb9356"
      },
      "source": [
        "PORSCHE_Argus=['PORSCHE 718 Boxster','PORSCHE 718 Cayman','PORSCHE Macan','PORSCHE Cayenne' ]\n",
        "porsche=['PORSCHE 911', 'PORSCHE 911 GT3 RS', 'PORSCHE 911 TURBO', 'PORSCHE 911 TURBO S','PORSCHE 918 SPYDER', 'PORSCHE BOXSTER', \n",
        "         'PORSCHE BOXSTER S', 'PORSCHE BOXSTER GTS', 'PORSCHE CAYENNE', 'PORSCHE CAYENNE DIESEL', 'PORSCHE CAYENNE S DIESEL',\n",
        "         'PORSCHE CAYENNE S', 'PORSCHE CAYENNE TURBO', 'PORSCHE CAYENNE GTS', 'PORSCHE CAYENNE S E-HYBRID', 'PORSCHE CAYMAN', \n",
        "         'PORSCHE CAYMAN S', 'PORSCHE CAYMAN GTS', 'PORSCHE MACAN S', 'PORSCHE MACAN TURBO', 'PORSCHE MACAN S DIESEL', 'PORSCHE PANAMERA',\n",
        "         'PORSCHE PANAMERA 4', 'PORSCHE PANAMERA S', 'PORSCHE PANAMERA 4S', 'PORSCHE PANAMERA TURBO', 'PORSCHE PANAMERA TURBO S', \n",
        "         'PORSCHE PANAMERA GTS', 'PORSCHE PANAMERA DIESEL', 'PORSCHE PANAMERA S E-HYBRID']\n",
        "test_str1 = [each_string.upper() for each_string in PORSCHE_Argus]\n",
        "test_str2 = [each_string.upper() for each_string in porsche]  \n",
        "# using join() to\n",
        "# get string intersection\n",
        "res = ' ,'.join(sorted(set(test_str1) &\n",
        "         set(test_str2), key = test_str1.index))\n",
        "res"
      ],
      "execution_count": null,
      "outputs": [
        {
          "output_type": "execute_result",
          "data": {
            "application/vnd.google.colaboratory.intrinsic+json": {
              "type": "string"
            },
            "text/plain": [
              "'PORSCHE CAYENNE'"
            ]
          },
          "metadata": {
            "tags": []
          },
          "execution_count": 72
        }
      ]
    },
    {
      "cell_type": "code",
      "metadata": {
        "id": "X5C09jxDjKnG"
      },
      "source": [
        "PORSCHE_aj=['PORSCHE 718 Boxster','PORSCHE 718 Cayman','PORSCHE Macan']"
      ],
      "execution_count": null,
      "outputs": []
    },
    {
      "cell_type": "code",
      "metadata": {
        "colab": {
          "base_uri": "https://localhost:8080/",
          "height": 36
        },
        "id": "AfS5gSQOb1T1",
        "outputId": "5888b984-b24b-4422-bbfd-88130624842b"
      },
      "source": [
        "RENAULT_argus=['RENAULT Twingo','RENAULT Clio','RENAULT Clio Estate' ,'RENAULT Captur' ,'RENAULT Megane' ,'RENAULT Megane Estate','RENAULT Scenic' ,'RENAULT Grand Scenic' \n",
        ",'RENAULT Koleos','RENAULT Koleos 4x4','RENAULT Kadjar','RENAULT Talisman','RENAULT Espace' ,'RENAULT Kangoo'] \n",
        "renault=['RENAULT CAPTUR', 'RENAULT CLIO', 'RENAULT ESPACE', 'RENAULT KANGOO', 'RENAULT KOLEOS', 'RENAULT LAGUNA', 'RENAULT LATITUDE', \n",
        "         'RENAULT MASTER','RENAULT MEGANE', 'RENAULT MEGANE SCENIC', 'RENAULT TRAFIC', 'RENAULT TWINGO', 'RENAULT ZOE']\n",
        "test_str1 = [each_string.upper() for each_string in RENAULT_argus]\n",
        "test_str2 = [each_string.upper() for each_string in renault]  \n",
        "# using join() to\n",
        "# get string intersection\n",
        "res = ' ,'.join(sorted(set(test_str1) &\n",
        "         set(test_str2), key = test_str1.index))\n",
        "res\n"
      ],
      "execution_count": null,
      "outputs": [
        {
          "output_type": "execute_result",
          "data": {
            "application/vnd.google.colaboratory.intrinsic+json": {
              "type": "string"
            },
            "text/plain": [
              "'RENAULT TWINGO ,RENAULT CLIO ,RENAULT CAPTUR ,RENAULT MEGANE ,RENAULT KOLEOS ,RENAULT ESPACE ,RENAULT KANGOO'"
            ]
          },
          "metadata": {
            "tags": []
          },
          "execution_count": 74
        }
      ]
    },
    {
      "cell_type": "code",
      "metadata": {
        "id": "y8mGQeeVjSXr"
      },
      "source": [
        "RENAULT_aj=['RENAULT Clio Estate' ,'RENAULT Megane Estate','RENAULT Scenic' ,'RENAULT Grand Scenic','RENAULT Koleos 4x4','RENAULT Kadjar','RENAULT Talisman']"
      ],
      "execution_count": null,
      "outputs": []
    },
    {
      "cell_type": "code",
      "metadata": {
        "colab": {
          "base_uri": "https://localhost:8080/",
          "height": 36
        },
        "id": "6vFX616Ra4lZ",
        "outputId": "94c4bd08-7a65-4ec4-922b-c9bd9ba62b61"
      },
      "source": [
        "SEAT_argus=['SEAT Mii','SEAT Ibiza','SEAT Arona','SEAT Leon SC','SEAT Leon ST','SEAT Ateca','SEAT Alhambra']\n",
        "seat=['SEAT ALHAMBRA', 'SEAT ALTEA XL', 'SEAT ALTEA', 'SEAT IBIZA', 'SEAT IBIZA ST', 'SEAT LEON', \n",
        "      'SEAT LEON SC', 'SEAT LEON ST', 'SEAT LEON X-PERIENCE', 'SEAT MII', 'SEAT TOLEDO']\n",
        "test_str1 = [each_string.upper() for each_string in SEAT_argus]\n",
        "test_str2 = [each_string.upper() for each_string in seat]  \n",
        "# using join() to\n",
        "# get string intersection\n",
        "res = ' ,'.join(sorted(set(test_str1) &\n",
        "         set(test_str2), key = test_str1.index))\n",
        "res\n"
      ],
      "execution_count": null,
      "outputs": [
        {
          "output_type": "execute_result",
          "data": {
            "application/vnd.google.colaboratory.intrinsic+json": {
              "type": "string"
            },
            "text/plain": [
              "'SEAT MII ,SEAT IBIZA ,SEAT LEON SC ,SEAT LEON ST ,SEAT ALHAMBRA'"
            ]
          },
          "metadata": {
            "tags": []
          },
          "execution_count": 76
        }
      ]
    },
    {
      "cell_type": "code",
      "metadata": {
        "id": "tt2-EPlejnpy"
      },
      "source": [
        "SEAT_aj=['SEAT Arona','SEAT Ateca']"
      ],
      "execution_count": null,
      "outputs": []
    },
    {
      "cell_type": "code",
      "metadata": {
        "colab": {
          "base_uri": "https://localhost:8080/",
          "height": 36
        },
        "id": "x_oN0UAHcfoS",
        "outputId": "91de1e9d-594c-4810-cbe3-5282e4ea9e61"
      },
      "source": [
        "SKODA_argus=['SKODA Citigo','SKODA Fabia','SKODA Fabia Break','SKODA Rapid Spaceback','SKODA Karoq','SKODA Karoq 4x4','SKODA Octavia' \n",
        ",'SKODA Octavia Break','SKODA Superb','SKODA Superb Combi','SKODA Kodiaq']\n",
        "skoda=['SKODA CITIGO', 'SKODA FABIA', 'SKODA OCTAVIA', 'SKODA RAPID', 'SKODA ROOMSTER', 'SKODA SUPERB', 'SKODA YETI']\n",
        "test_str1 = [each_string.upper() for each_string in SKODA_argus]\n",
        "test_str2 = [each_string.upper() for each_string in skoda]  \n",
        "# using join() to\n",
        "# get string intersection\n",
        "res = ' ,'.join(sorted(set(test_str1) &\n",
        "         set(test_str2), key = test_str1.index))\n",
        "res\n"
      ],
      "execution_count": null,
      "outputs": [
        {
          "output_type": "execute_result",
          "data": {
            "application/vnd.google.colaboratory.intrinsic+json": {
              "type": "string"
            },
            "text/plain": [
              "'SKODA CITIGO ,SKODA FABIA ,SKODA OCTAVIA ,SKODA SUPERB'"
            ]
          },
          "metadata": {
            "tags": []
          },
          "execution_count": 78
        }
      ]
    },
    {
      "cell_type": "code",
      "metadata": {
        "id": "pvTBrlRAj-zO"
      },
      "source": [
        "SKODA_aj=['SKODA Fabia Break','SKODA Rapid Spaceback','SKODA Karoq','SKODA Karoq 4x4','SKODA Octavia Break','SKODA Superb Combi','SKODA Kodiaq']"
      ],
      "execution_count": null,
      "outputs": []
    },
    {
      "cell_type": "code",
      "metadata": {
        "colab": {
          "base_uri": "https://localhost:8080/",
          "height": 36
        },
        "id": "UppvhPXvcwDX",
        "outputId": "5ff683cc-a6c5-4049-bbf0-b023958835c0"
      },
      "source": [
        "SMART_argus=['smart Fortwo Coupe','smart Forfour passion','smart Forfour Brabus twinamic']\n",
        "smart=['SMART FORFOUR', 'SMART FORTWO']\n",
        "test_str1 = [each_string.upper() for each_string in SMART_argus]\n",
        "test_str2 = [each_string.upper() for each_string in smart]  \n",
        "res = ' ,'.join(sorted(set(test_str1) &\n",
        "         set(test_str2), key = test_str1.index))\n",
        "res"
      ],
      "execution_count": null,
      "outputs": [
        {
          "output_type": "execute_result",
          "data": {
            "application/vnd.google.colaboratory.intrinsic+json": {
              "type": "string"
            },
            "text/plain": [
              "''"
            ]
          },
          "metadata": {
            "tags": []
          },
          "execution_count": 80
        }
      ]
    },
    {
      "cell_type": "code",
      "metadata": {
        "id": "ROvpd7SBkJw2"
      },
      "source": [
        "SMART_aj=['smart Fortwo Coupe','smart Forfour passion','smart Forfour Brabus twinamic']"
      ],
      "execution_count": null,
      "outputs": []
    },
    {
      "cell_type": "code",
      "metadata": {
        "colab": {
          "base_uri": "https://localhost:8080/",
          "height": 36
        },
        "id": "p8rq7sXka4pA",
        "outputId": "00544045-3ef7-4a23-9340-4e01653047a0"
      },
      "source": [
        "SSANGYONG_argus=['SSANGYONG Tivoli'] \n",
        "SSANGYONG=['SSANGYONG KORANDO', 'SSANGYONG REXTON', 'SSANGYONG RODIUS']\n",
        "test_str1 = [each_string.upper() for each_string in SSANGYONG_argus]\n",
        "test_str2 = [each_string.upper() for each_string in SSANGYONG]  \n",
        "res = ' ,'.join(sorted(set(test_str1) &\n",
        "         set(test_str2), key = test_str1.index))\n",
        "res"
      ],
      "execution_count": null,
      "outputs": [
        {
          "output_type": "execute_result",
          "data": {
            "application/vnd.google.colaboratory.intrinsic+json": {
              "type": "string"
            },
            "text/plain": [
              "''"
            ]
          },
          "metadata": {
            "tags": []
          },
          "execution_count": 82
        }
      ]
    },
    {
      "cell_type": "code",
      "metadata": {
        "id": "DH1spgt8kMeF"
      },
      "source": [
        "SSANGYONG_aj=['SSANGYONG Tivoli'] "
      ],
      "execution_count": null,
      "outputs": []
    },
    {
      "cell_type": "code",
      "metadata": {
        "colab": {
          "base_uri": "https://localhost:8080/",
          "height": 36
        },
        "id": "EANVXVSZdDXc",
        "outputId": "c44a689a-cca8-4f69-8b55-2761f261e3dd"
      },
      "source": [
        "SUBARU_Argus=['SUBARU XV','SUBARU Levorg' ,'SUBARU Outback' ,'SUBARU Forester']\n",
        "subaru=['SUBARU BRZ ', 'SUBARU FORESTER ', 'SUBARU WRX ', 'SUBARU SUBARU XV ']\n",
        "test_str1 = [each_string.upper() for each_string in SUBARU_Argus]\n",
        "test_str2 = [each_string.upper() for each_string in subaru]  \n",
        "res = ' ,'.join(sorted(set(test_str1) &\n",
        "         set(test_str2), key = test_str1.index))\n",
        "res"
      ],
      "execution_count": null,
      "outputs": [
        {
          "output_type": "execute_result",
          "data": {
            "application/vnd.google.colaboratory.intrinsic+json": {
              "type": "string"
            },
            "text/plain": [
              "''"
            ]
          },
          "metadata": {
            "tags": []
          },
          "execution_count": 84
        }
      ]
    },
    {
      "cell_type": "code",
      "metadata": {
        "id": "upxJbKQAkPjq"
      },
      "source": [
        "SUBARU_aj=['SUBARU XV','SUBARU Levorg' ,'SUBARU Outback' ,'SUBARU Forester']"
      ],
      "execution_count": null,
      "outputs": []
    },
    {
      "cell_type": "code",
      "metadata": {
        "colab": {
          "base_uri": "https://localhost:8080/",
          "height": 36
        },
        "id": "x82WayRGdDaF",
        "outputId": "fe940bed-6dc1-4d5d-dcc0-5c3a902a023d"
      },
      "source": [
        "SUZUKI_argus=['SUZUKI Celerio' ,'SUZUKI Swift' ,'SUZUKI Ignis' ,'SUZUKI SX4 S-Cross' ,'SUZUKI Baleno' ,'SUZUKI Jimny' ,'SUZUKI Vitara']\n",
        "suzuki=['SUZUKI CELERIO', 'SUZUKI JIMNY', 'SUZUKI SWIFT', 'SUZUKI SWIFT SPORT', 'SUZUKI SX4', 'SUZUKI VITARA']\n",
        "test_str1 = [each_string.upper() for each_string in SUZUKI_argus]\n",
        "test_str2 = [each_string.upper() for each_string in suzuki]  \n",
        "res = ' ,'.join(sorted(set(test_str1) &\n",
        "         set(test_str2), key = test_str1.index))\n",
        "res"
      ],
      "execution_count": null,
      "outputs": [
        {
          "output_type": "execute_result",
          "data": {
            "application/vnd.google.colaboratory.intrinsic+json": {
              "type": "string"
            },
            "text/plain": [
              "'SUZUKI CELERIO ,SUZUKI SWIFT ,SUZUKI JIMNY ,SUZUKI VITARA'"
            ]
          },
          "metadata": {
            "tags": []
          },
          "execution_count": 86
        }
      ]
    },
    {
      "cell_type": "code",
      "metadata": {
        "id": "A3VIvGnKkSgM"
      },
      "source": [
        "SUZUKI_aj=['SUZUKI Ignis' ,'SUZUKI SX4 S-Cross' ,'SUZUKI Baleno']"
      ],
      "execution_count": null,
      "outputs": []
    },
    {
      "cell_type": "code",
      "metadata": {
        "colab": {
          "base_uri": "https://localhost:8080/",
          "height": 36
        },
        "id": "oqgSRsgKdWuO",
        "outputId": "52903f70-51c2-4550-a1c3-80594628a22d"
      },
      "source": [
        "TOYOTA_argus=['TOYOTA Aygo' ,'TOYOTA Yaris','TOYOTA Auris','TOYOTA Verso','TOYOTA Prius','TOYOTA Prius+','TOYOTA Avensis','TOYOTA GT86','TOYOTA ProAce Verso',\n",
        "        'TOYOTA C-HR','TOYOTA RAV4','TOYOTA Land Cruiser']\n",
        "toyata=['TOYOTA AURIS', 'TOYOTA AVENSIS', 'TOYOTA AYGO', 'TOYOTA 86', 'TOYOTA IQ', 'TOYOTA LAND CRUISER 150', 'TOYOTA LAND CRUISER', 'TOYOTA PRIUS', 'TOYOTA PRIUS PLUS', 'TOYOTA RAV4', 'TOYOTA VERSO', 'TOYOTA VERSO S', 'TOYOTA YARIS', 'TOYOTA YARIS HYBRID']\n",
        "test_str1 = [each_string.upper() for each_string in TOYOTA_argus]\n",
        "test_str2 = [each_string.upper() for each_string in toyata]  \n",
        "res = ' ,'.join(sorted(set(test_str1) &\n",
        "         set(test_str2), key = test_str1.index))\n",
        "res"
      ],
      "execution_count": null,
      "outputs": [
        {
          "output_type": "execute_result",
          "data": {
            "application/vnd.google.colaboratory.intrinsic+json": {
              "type": "string"
            },
            "text/plain": [
              "'TOYOTA AYGO ,TOYOTA YARIS ,TOYOTA AURIS ,TOYOTA VERSO ,TOYOTA PRIUS ,TOYOTA AVENSIS ,TOYOTA RAV4 ,TOYOTA LAND CRUISER'"
            ]
          },
          "metadata": {
            "tags": []
          },
          "execution_count": 88
        }
      ]
    },
    {
      "cell_type": "code",
      "metadata": {
        "id": "2NxKn1wUkgxH"
      },
      "source": [
        "TOYOTA_aj=['TOYOTA Prius+','TOYOTA GT86','TOYOTA ProAce Verso','TOYOTA C-HR']"
      ],
      "execution_count": null,
      "outputs": []
    },
    {
      "cell_type": "code",
      "metadata": {
        "colab": {
          "base_uri": "https://localhost:8080/"
        },
        "id": "fWbE3OQwdWw3",
        "outputId": "b07023e4-306a-48b2-dac7-1b493f592790"
      },
      "source": [
        "VOLKSWAGEN_argus=['VOLKSWAGEN up!','VOLKSWAGEN Polo' ,'VOLKSWAGEN Golf' ,'VOLKSWAGEN Golf SW' ,'VOLKSWAGEN Coccinelle' ,'VOLKSWAGEN Touran' ,'VOLKSWAGEN Passat' \n",
        ",'VOLKSWAGEN Arteon','VOLKSWAGEN Sharan','VOLKSWAGEN T-Roc','VOLKSWAGEN Tiguan','VOLKSWAGEN Tiguan Allspace','VOLKSWAGEN Touareg','VOLKSWAGEN Caddy']\n",
        "volsk=['VOLKSWAGEN CC', 'VOLKSWAGEN BEETLE', 'VOLKSWAGEN CRAFTER', 'VOLKSWAGEN EOS', 'VOLKSWAGEN GOLF', 'VOLKSWAGEN GOLF SPORTSVAN',\n",
        "       'VOLKSWAGEN JETTA', 'VOLKSWAGEN PASSAT', 'VOLKSWAGEN PHAETON', 'VOLKSWAGEN POLO', 'VOLKSWAGEN SCIROCCO',\n",
        "       'VOLKSWAGEN SHARAN', 'VOLKSWAGEN TIGUAN', 'VOLKSWAGEN TOUAREG', 'VOLKSWAGEN TOURAN','VOLKSWAGEN UP!']\n",
        "test_str1 = [each_string.upper() for each_string in VOLKSWAGEN_argus]\n",
        "test_str2 = [each_string.upper() for each_string in volsk]  \n",
        "res = ' ,'.join(sorted(set(test_str1) &\n",
        "         set(test_str2), key = test_str1.index))\n",
        "print(res)"
      ],
      "execution_count": null,
      "outputs": [
        {
          "output_type": "stream",
          "text": [
            "VOLKSWAGEN UP! ,VOLKSWAGEN POLO ,VOLKSWAGEN GOLF ,VOLKSWAGEN TOURAN ,VOLKSWAGEN PASSAT ,VOLKSWAGEN SHARAN ,VOLKSWAGEN TIGUAN ,VOLKSWAGEN TOUAREG\n"
          ],
          "name": "stdout"
        }
      ]
    },
    {
      "cell_type": "code",
      "metadata": {
        "id": "GQiCRZnJkuB-"
      },
      "source": [
        "VOLKSWAGEN_aj=['VOLKSWAGEN Golf SW' ,'VOLKSWAGEN Coccinelle','VOLKSWAGEN Arteon','VOLKSWAGEN T-Roc','VOLKSWAGEN Tiguan Allspace','VOLKSWAGEN Caddy']"
      ],
      "execution_count": null,
      "outputs": []
    },
    {
      "cell_type": "code",
      "metadata": {
        "colab": {
          "base_uri": "https://localhost:8080/"
        },
        "id": "hsymQDjUdDc6",
        "outputId": "636c22d7-fad8-4308-f95f-d2d8614fc5cb"
      },
      "source": [
        "VOLVO_argus=['VOLVO V40','VOLVO S60','VOLVO V60','VOLVO S90','VOLVO V90','VOLVO XC40','VOLVO XC60','VOLVO XC70','VOLVO XC90']\n",
        "volvo=['VOLVO S60', 'VOLVO S80', 'VOLVO V40', 'VOLVO V40 CROSS COUNTRY', 'VOLVO V60', 'VOLVO V60 HYBRID', 'VOLVO V70', \n",
        "       'VOLVO XC60', 'VOLVO XC70', 'VOLVO XC90']\n",
        "\n",
        "test_str1 = [each_string.upper() for each_string in VOLVO_argus]\n",
        "test_str2 = [each_string.upper() for each_string in volvo]  \n",
        "res = ' ,'.join(sorted(set(test_str1) &\n",
        "         set(test_str2), key = test_str1.index))\n",
        "print(res)"
      ],
      "execution_count": null,
      "outputs": [
        {
          "output_type": "stream",
          "text": [
            "VOLVO V40 ,VOLVO S60 ,VOLVO V60 ,VOLVO XC60 ,VOLVO XC70 ,VOLVO XC90\n"
          ],
          "name": "stdout"
        }
      ]
    },
    {
      "cell_type": "code",
      "metadata": {
        "id": "zjH4q0DLk8C3"
      },
      "source": [
        "VOLVO_aj=['VOLVO S90','VOLVO V90','VOLVO XC40']"
      ],
      "execution_count": null,
      "outputs": []
    },
    {
      "cell_type": "code",
      "metadata": {
        "id": "HeHwhLpKthEG"
      },
      "source": [
        "# Création de la liste"
      ],
      "execution_count": null,
      "outputs": []
    },
    {
      "cell_type": "code",
      "metadata": {
        "id": "5o2ryyb6pmfH"
      },
      "source": [
        "ABARTH=['ABARTH Spider']"
      ],
      "execution_count": null,
      "outputs": []
    },
    {
      "cell_type": "code",
      "metadata": {
        "id": "6DUn_TQkpmiJ"
      },
      "source": [
        "ALFA_ROMEO_aj=['ALFA ROMEO Giulietta' ,'ALFA ROMEO Giulia' ,'ALFA ROMEO Stelvio']"
      ],
      "execution_count": null,
      "outputs": []
    },
    {
      "cell_type": "code",
      "metadata": {
        "id": "q5lR9WfGpmlr"
      },
      "source": [
        "AUDI_aj=[ 'AUDI RS3 Sportback' ,'AUDI A4','AUDI A4 Avant ','AUDI A4 Allroad','AUDI S4', 'AUDI A5','AUDI A6' ,'AUDI A6 Avant'\n",
        "     'AUDI A6 Allroad','AUDI Q2','AUDI Q3','AUDI RS Q3','AUDI Q5','AUDI SQ5','AUDI Q7','AUDI TT','AUDI TT Roadster','AUDI TT RS' ]"
      ],
      "execution_count": null,
      "outputs": []
    },
    {
      "cell_type": "code",
      "metadata": {
        "id": "FYLNQPxgpmph"
      },
      "source": [
        "BMW_aj=['BMW Serie 2 Coupe' ,'BMW Serie 2 Cabriolet','BMW Serie 2 ActiveTourer' ,'BMW Serie 2 Gran Tourer' ,'BMW M2 Coupe',\n",
        "'BMW Serie 3 Touring','BMW Serie 3 Gran Turismo','BMW Serie 4 Coupe','BMW Serie 4 Cabriolet','BMW Serie 4 Gran Coupe','BMW Serie 5 Touring' \n",
        ",'BMW Serie 6 Gran Turismo','BMW X1','BMW X3','BMW X4','BMW X5 Sport','BMW X5 Lounge Plus','BMW X6 xDrive' ]"
      ],
      "execution_count": null,
      "outputs": []
    },
    {
      "cell_type": "code",
      "metadata": {
        "id": "MlF7eF9Upmvg"
      },
      "source": [
        "CITROEN_aj=[ 'CITROEN C3 Aircross' ,'CITROEN C-Elysee','CITROEN Grand C4 Picasso','CITROEN SpaceTourer XS' ,'CITROEN SpaceTourer M' ]"
      ],
      "execution_count": null,
      "outputs": []
    },
    {
      "cell_type": "code",
      "metadata": {
        "id": "Bk18VPzbp__e"
      },
      "source": [
        "DACIA_aj=['DACIA Logan MCV','DACIA Lodgy 5 places','DACIA Lodgy 7 places', 'DACIA Lodgy 7 places', 'DACIA Duster 4X2',\n",
        "'DACIA Duster 4X4']"
      ],
      "execution_count": null,
      "outputs": []
    },
    {
      "cell_type": "code",
      "metadata": {
        "id": "21ulTU78qACB"
      },
      "source": [
        "DS_aj=['DS 3','DS 3 Cabrio','DS 4','DS 4','DS 4' ,'DS 4 Crossback' ,'DS 5 ','DS 5','DS 7 Crossback']"
      ],
      "execution_count": null,
      "outputs": []
    },
    {
      "cell_type": "code",
      "metadata": {
        "id": "b5krTEibqAE4"
      },
      "source": [
        "FIAT_aj=['FIAT Panda ','FIAT 500X E-torQ' ,'FIAT 500X MultiAir','FIAT Tipo','FIAT 124 Spider' ,'FIAT Doblo Multijet' ]"
      ],
      "execution_count": null,
      "outputs": []
    },
    {
      "cell_type": "code",
      "metadata": {
        "id": "rTP8a0dHqAHF"
      },
      "source": [
        "FORD_aj=['FORD Ka+','FORD Mustang Fastback','FORD Galaxy','FORD Kuga 4x2','FORD Kuga 4x4','FORD Edge']"
      ],
      "execution_count": null,
      "outputs": []
    },
    {
      "cell_type": "code",
      "metadata": {
        "id": "43Ribt2rqAKv"
      },
      "source": [
        "HONDA_aj=['HONDA Civic Sport','HONDA HR-V']"
      ],
      "execution_count": null,
      "outputs": []
    },
    {
      "cell_type": "code",
      "metadata": {
        "id": "JTHciwzXqAMx"
      },
      "source": [
        "HYUNDAI_aj=['HYUNDAI Kona','HYUNDAI Ioniq','HYUNDAI Tucson','HYUNDAI Santa']"
      ],
      "execution_count": null,
      "outputs": []
    },
    {
      "cell_type": "code",
      "metadata": {
        "id": "xUW_5nPsqAi-"
      },
      "source": [
        "INFINITI_aj=['INFINITI Q30','INFINITI Q50 Sport','INFINITI Q60 Coupé','INFINITI QX30']"
      ],
      "execution_count": null,
      "outputs": []
    },
    {
      "cell_type": "code",
      "metadata": {
        "id": "En9qmMjSq0fM"
      },
      "source": [
        "JAGUAR_aj=['JAGUAR XE Prestige','JAGUAR XE R-Sport','JAGUAR F-Type Coupe','JAGUAR E-Pace','JAGUAR F-Pace 4x4','JAGUAR F-Pace 4x2','JAGUAR F-Pace 4x4','JAGUAR F-Pace V6']"
      ],
      "execution_count": null,
      "outputs": []
    },
    {
      "cell_type": "code",
      "metadata": {
        "id": "XHjW2AEyq0ou"
      },
      "source": [
        "JEEP_aj=['JEEP Renegade','JEEP Renegade 4x4','JEEP Compass 4x4']"
      ],
      "execution_count": null,
      "outputs": []
    },
    {
      "cell_type": "code",
      "metadata": {
        "id": "sYUGb3_Eq0xi"
      },
      "source": [
        "KIA_aj=['KIA Pro Cee’d GT Line','KIA Cee’d','KIA Stinger','KIA Niro','KIA Stonic','KIA Sportage 4x2','KIA Sportage GT Line 4x4']"
      ],
      "execution_count": null,
      "outputs": []
    },
    {
      "cell_type": "code",
      "metadata": {
        "id": "sgn3oW3IrH6g"
      },
      "source": [
        "LAND_ROVER_aj=['LAND ROVER Discovery Luxury','LAND ROVER Evoque','LAND ROVER Range Rover Velar','LAND ROVER Range Rover Sport']"
      ],
      "execution_count": null,
      "outputs": []
    },
    {
      "cell_type": "code",
      "metadata": {
        "id": "O7_I9kOmrH94"
      },
      "source": [
        "LEXUS_aj=['LEXUS CT Pack','LEXUS IS Luxe','LEXUS GS Executive','LEXUS RC F SPORT','LEXUS NX 2WD Pack','LEXUS NX 4WD Pack','LEXUS RX F SPORT']"
      ],
      "execution_count": null,
      "outputs": []
    },
    {
      "cell_type": "code",
      "metadata": {
        "id": "cjVpi3ZprIF_"
      },
      "source": [
        "MASERATI_aj=['MASERATI Levante Q4','MASERATI Levante V6']"
      ],
      "execution_count": null,
      "outputs": []
    },
    {
      "cell_type": "code",
      "metadata": {
        "id": "8Q1NlTfdrIJ_"
      },
      "source": [
        "MAZDA_aj=['Mazda','MAZDA MX-5','MAZDA CX-3','MAZDA CX-5 4x4']"
      ],
      "execution_count": null,
      "outputs": []
    },
    {
      "cell_type": "code",
      "metadata": {
        "id": "k6-kiXjrrIOP"
      },
      "source": [
        "MERCEDES_aj=['MERCEDES CLA 180'  ,'MERCEDES Classe C Break','MERCEDES Classe C Coupé','MERCEDES Classe E Break' ,'MERCEDES Classe E Cabriolet','MERCEDES SLC 200 Sportline','MERCEDES SLC 43 9G-Tronic'\n",
        ",'MERCEDES Citan Tourer','MERCEDES GLC AMG','MERCEDES GLC d','MERCEDES GLC 350','MERCEDES GLC Coupé','MERCEDES GLE 400','MERCEDES GLE 250','MERCEDES GLE 350','MERCEDES GLE Coupé 350']"
      ],
      "execution_count": null,
      "outputs": []
    },
    {
      "cell_type": "code",
      "metadata": {
        "id": "p5V5JRRUrmRz"
      },
      "source": [
        "MINI_aj=['Mini One','Mini Cooper','Mini Cooper S','Mini John Cooper Works','Mini One D','Mini Cooper D','Mini Cooper SD','Mini Cabrio Cooper' \n",
        ",'Mini Cabrio Cooper S','Mini Clubman One','Mini Clubman Cooper','Mini Clubman Cooper S','Mini Clubman One D','Mini Clubman Cooper D','Mini Clubman Cooper SD' \n",
        ",'Mini Countryman One','Mini Countryman Cooper','Mini Countryman Cooper S','Mini Countryman John Cooper Works','Mini Countryman Cooper SE' \n",
        ",'Mini Countryman One D','Mini Countryman Cooper D','Mini Countryman Cooper SD']"
      ],
      "execution_count": null,
      "outputs": []
    },
    {
      "cell_type": "code",
      "metadata": {
        "id": "GKmfbIXXrmVm"
      },
      "source": [
        "MITSUBISHI_aj=['MITSUBISHI ASX WD','MITSUBISHI Eclipse cross']"
      ],
      "execution_count": null,
      "outputs": []
    },
    {
      "cell_type": "code",
      "metadata": {
        "id": "7C0-42wrrmiG"
      },
      "source": [
        "NISSAN_Aj=['NISSAN Micra','NISSAN Note','NISSAN Pulsar','NISSAN 370Z','NISSAN Juke','NISSAN Qashqai','NISSAN X-Trail']"
      ],
      "execution_count": null,
      "outputs": []
    },
    {
      "cell_type": "code",
      "metadata": {
        "id": "vVB43tJtsMF6"
      },
      "source": [
        "OPEL_aj=['OPEL Karl','OPEL Insignia Grand Sport','OPEL Insignia Tourer','OPEL Mokka X','OPEL Crossland X','OPEL Grandland X']"
      ],
      "execution_count": null,
      "outputs": []
    },
    {
      "cell_type": "code",
      "metadata": {
        "id": "bp6WX9H_sNB5"
      },
      "source": [
        "PEUGEOT_aj=['PEUGEOT Partner Tepee','PEUGEOT Traveller'] "
      ],
      "execution_count": null,
      "outputs": []
    },
    {
      "cell_type": "code",
      "metadata": {
        "id": "mBODizu1sNKV"
      },
      "source": [
        "PORSCHE_aj=['PORSCHE 718 Boxster','PORSCHE 718 Cayman','PORSCHE Macan']"
      ],
      "execution_count": null,
      "outputs": []
    },
    {
      "cell_type": "code",
      "metadata": {
        "id": "CMRkM-_msMP5"
      },
      "source": [
        "RENAULT_aj=['RENAULT Clio Estate' ,'RENAULT Megane Estate','RENAULT Scenic' ,'RENAULT Grand Scenic','RENAULT Koleos 4x4','RENAULT Kadjar','RENAULT Talisman']"
      ],
      "execution_count": null,
      "outputs": []
    },
    {
      "cell_type": "code",
      "metadata": {
        "id": "kgKIuWLtsMaI"
      },
      "source": [
        "SEAT_aj=['SEAT Arona','SEAT Ateca']"
      ],
      "execution_count": null,
      "outputs": []
    },
    {
      "cell_type": "code",
      "metadata": {
        "id": "E5O3SVw7snVK"
      },
      "source": [
        "SKODA_aj=['SKODA Fabia Break','SKODA Rapid Spaceback','SKODA Karoq','SKODA Karoq 4x4','SKODA Octavia Break','SKODA Superb Combi','SKODA Kodiaq']"
      ],
      "execution_count": null,
      "outputs": []
    },
    {
      "cell_type": "code",
      "metadata": {
        "id": "rRCnLr-Bsnd0"
      },
      "source": [
        "SMART_aj=['smart Fortwo Coupe','smart Forfour passion','smart Forfour Brabus twinamic']"
      ],
      "execution_count": null,
      "outputs": []
    },
    {
      "cell_type": "code",
      "metadata": {
        "id": "A0lYO_LssniD"
      },
      "source": [
        "SSANGYONG_aj=['SSANGYONG Tivoli'] "
      ],
      "execution_count": null,
      "outputs": []
    },
    {
      "cell_type": "code",
      "metadata": {
        "id": "5Ko19xrNsnkl"
      },
      "source": [
        "SUBARU_aj=['SUBARU XV','SUBARU Levorg' ,'SUBARU Outback' ,'SUBARU Forester']"
      ],
      "execution_count": null,
      "outputs": []
    },
    {
      "cell_type": "code",
      "metadata": {
        "id": "saNo5rhitJJ9"
      },
      "source": [
        "SUZUKI_aj=['SUZUKI Ignis' ,'SUZUKI SX4 S-Cross' ,'SUZUKI Baleno']"
      ],
      "execution_count": null,
      "outputs": []
    },
    {
      "cell_type": "code",
      "metadata": {
        "id": "6JnYm8uUtJTm"
      },
      "source": [
        "TOYOTA_aj=['TOYOTA Prius+','TOYOTA GT86','TOYOTA ProAce Verso','TOYOTA C-HR']"
      ],
      "execution_count": null,
      "outputs": []
    },
    {
      "cell_type": "code",
      "metadata": {
        "id": "x7HzenH2tJW0"
      },
      "source": [
        "VOLKSWAGEN_aj=['VOLKSWAGEN Golf SW' ,'VOLKSWAGEN Coccinelle','VOLKSWAGEN Arteon','VOLKSWAGEN T-Roc','VOLKSWAGEN Tiguan Allspace','VOLKSWAGEN Caddy']"
      ],
      "execution_count": null,
      "outputs": []
    },
    {
      "cell_type": "code",
      "metadata": {
        "id": "MFi7LcnDtJa2"
      },
      "source": [
        "VOLVO_aj=['VOLVO S90','VOLVO V90','VOLVO XC40']"
      ],
      "execution_count": null,
      "outputs": []
    },
    {
      "cell_type": "code",
      "metadata": {
        "id": "HIVG1BKj5hAX"
      },
      "source": [
        "liste=['ALFA_ROMEO_aj','AUDI_aj','BMW_aj','CITROEN_aj','DACIA_aj','DS_aj','FIAT_aj','FORD_aj','HONDA_aj','HYUNDAI_aj','INFINITI_aj','JAGUAR_aj','JEEP_aj','KIA_aj','LAND_ROVER_aj','LEXUS_aj','MASERATI_aj','MAZDA_aj','MERCEDES_aj','MINI_aj','MITSUBISHI_aj','NISSAN_Aj','OPEL_aj','PEUGEOT_aj','PORSCHE_aj','RENAULT_aj','SEAT_aj','SKODA_aj','SMART_aj','SSANGYONG_aj','SUBARU_aj','SUZUKI_aj','TOYOTA_aj','VOLKSWAGEN_aj','VOLVO_aj']"
      ],
      "execution_count": null,
      "outputs": []
    },
    {
      "cell_type": "code",
      "metadata": {
        "id": "SyUItsz1-vRq"
      },
      "source": [
        "liste=['ALFA_ROMEO_aj','AUDI_aj','BMW_aj','CITROEN_aj','DACIA_aj','DS_aj','FIAT_aj','FORD_aj','HONDA_aj','HYUNDAI_aj','INFINITI_aj','JAGUAR_aj','JEEP_aj','KIA_aj','LAND_ROVER_aj','LEXUS_aj','MASERATI_aj','MAZDA_aj','MERCEDES_aj','MINI_aj','MITSUBISHI_aj','NISSAN_Aj','OPEL_aj','PEUGEOT_aj','PORSCHE_aj','RENAULT_aj','SEAT_aj','SKODA_aj','SMART_aj','SSANGYONG_aj','SUBARU_aj','SUZUKI_aj','TOYOTA_aj','VOLKSWAGEN_aj','VOLVO_aj']"
      ],
      "execution_count": null,
      "outputs": []
    },
    {
      "cell_type": "code",
      "metadata": {
        "id": "DRWQh2Ak9KzX"
      },
      "source": [
        "ABARTH.extend(ALFA_ROMEO_aj)"
      ],
      "execution_count": null,
      "outputs": []
    },
    {
      "cell_type": "code",
      "metadata": {
        "id": "XtCarimaAp10"
      },
      "source": [
        "ABARTH.extend(AUDI_aj)"
      ],
      "execution_count": null,
      "outputs": []
    },
    {
      "cell_type": "code",
      "metadata": {
        "id": "O2pUQng8AvcI"
      },
      "source": [
        "ABARTH.extend(BMW_aj)"
      ],
      "execution_count": null,
      "outputs": []
    },
    {
      "cell_type": "code",
      "metadata": {
        "id": "OUgIJHgiAySi"
      },
      "source": [
        "ABARTH.extend(CITROEN_aj)"
      ],
      "execution_count": null,
      "outputs": []
    },
    {
      "cell_type": "code",
      "metadata": {
        "id": "nxszUeYtA3_a"
      },
      "source": [
        "ABARTH.extend(DACIA_aj)"
      ],
      "execution_count": null,
      "outputs": []
    },
    {
      "cell_type": "code",
      "metadata": {
        "id": "ipquKNUoA_vf"
      },
      "source": [
        "ABARTH.extend(DS_aj)"
      ],
      "execution_count": null,
      "outputs": []
    },
    {
      "cell_type": "code",
      "metadata": {
        "id": "FMdVkyF4BEAJ"
      },
      "source": [
        "ABARTH.extend(FIAT_aj)"
      ],
      "execution_count": null,
      "outputs": []
    },
    {
      "cell_type": "code",
      "metadata": {
        "id": "4A5RpNvlBJyg"
      },
      "source": [
        "ABARTH.extend(FORD_aj)"
      ],
      "execution_count": null,
      "outputs": []
    },
    {
      "cell_type": "code",
      "metadata": {
        "id": "u-Y0c178BMrY"
      },
      "source": [
        "ABARTH.extend(HONDA_aj)"
      ],
      "execution_count": null,
      "outputs": []
    },
    {
      "cell_type": "code",
      "metadata": {
        "id": "L_1UYugjBMvU"
      },
      "source": [
        "ABARTH.extend(HYUNDAI_aj)"
      ],
      "execution_count": null,
      "outputs": []
    },
    {
      "cell_type": "code",
      "metadata": {
        "id": "h5l56wnJBMyJ"
      },
      "source": [
        "ABARTH.extend(INFINITI_aj)"
      ],
      "execution_count": null,
      "outputs": []
    },
    {
      "cell_type": "code",
      "metadata": {
        "id": "rMEeLWX7BZFc"
      },
      "source": [
        "ABARTH.extend(JAGUAR_aj)"
      ],
      "execution_count": null,
      "outputs": []
    },
    {
      "cell_type": "code",
      "metadata": {
        "id": "-OchEzj_BZPs"
      },
      "source": [
        "ABARTH.extend(JEEP_aj)"
      ],
      "execution_count": null,
      "outputs": []
    },
    {
      "cell_type": "code",
      "metadata": {
        "id": "5HjOYmFxBZSi"
      },
      "source": [
        "ABARTH.extend(KIA_aj)"
      ],
      "execution_count": null,
      "outputs": []
    },
    {
      "cell_type": "code",
      "metadata": {
        "id": "qIPp4ZDvBM05"
      },
      "source": [
        "ABARTH.extend(LAND_ROVER_aj)"
      ],
      "execution_count": null,
      "outputs": []
    },
    {
      "cell_type": "code",
      "metadata": {
        "id": "hdHzoq4yBM35"
      },
      "source": [
        "ABARTH.extend(LEXUS_aj)"
      ],
      "execution_count": null,
      "outputs": []
    },
    {
      "cell_type": "code",
      "metadata": {
        "id": "R6Tocwi5B9WE"
      },
      "source": [
        "ABARTH.extend(MASERATI_aj)"
      ],
      "execution_count": null,
      "outputs": []
    },
    {
      "cell_type": "code",
      "metadata": {
        "id": "WT8wduaVB9ZD"
      },
      "source": [
        "ABARTH.extend(MAZDA_aj)"
      ],
      "execution_count": null,
      "outputs": []
    },
    {
      "cell_type": "code",
      "metadata": {
        "id": "PB2XOcsMB9mP"
      },
      "source": [
        "ABARTH.extend(MERCEDES_aj)"
      ],
      "execution_count": null,
      "outputs": []
    },
    {
      "cell_type": "code",
      "metadata": {
        "id": "exAdfzs9B9v_"
      },
      "source": [
        "ABARTH.extend(MINI_aj)"
      ],
      "execution_count": null,
      "outputs": []
    },
    {
      "cell_type": "code",
      "metadata": {
        "id": "zjAWLp7mCJSF"
      },
      "source": [
        "ABARTH.extend(MITSUBISHI_aj)"
      ],
      "execution_count": null,
      "outputs": []
    },
    {
      "cell_type": "code",
      "metadata": {
        "id": "NmjmyLIQCJev"
      },
      "source": [
        "ABARTH.extend(OPEL_aj)"
      ],
      "execution_count": null,
      "outputs": []
    },
    {
      "cell_type": "code",
      "metadata": {
        "id": "aO3I11cJCJnY"
      },
      "source": [
        "ABARTH.extend(PEUGEOT_aj)"
      ],
      "execution_count": null,
      "outputs": []
    },
    {
      "cell_type": "code",
      "metadata": {
        "id": "lCxGmAHGCUwP"
      },
      "source": [
        "ABARTH.extend(PORSCHE_aj)"
      ],
      "execution_count": null,
      "outputs": []
    },
    {
      "cell_type": "code",
      "metadata": {
        "id": "kf8SXDJWCesJ"
      },
      "source": [
        "ABARTH.extend(RENAULT_aj)"
      ],
      "execution_count": null,
      "outputs": []
    },
    {
      "cell_type": "code",
      "metadata": {
        "id": "Rpv5XC9hCeyn"
      },
      "source": [
        "ABARTH.extend(SEAT_aj)"
      ],
      "execution_count": null,
      "outputs": []
    },
    {
      "cell_type": "code",
      "metadata": {
        "id": "3kaTlUZ-Ce1T"
      },
      "source": [
        "ABARTH.extend(SKODA_aj)"
      ],
      "execution_count": null,
      "outputs": []
    },
    {
      "cell_type": "code",
      "metadata": {
        "id": "pT_GogG_Ce4g"
      },
      "source": [
        "ABARTH.extend(SMART_aj)"
      ],
      "execution_count": null,
      "outputs": []
    },
    {
      "cell_type": "code",
      "metadata": {
        "id": "Uo-8GIJ5Ce8Z"
      },
      "source": [
        "ABARTH.extend(SSANGYONG_aj)"
      ],
      "execution_count": null,
      "outputs": []
    },
    {
      "cell_type": "code",
      "metadata": {
        "id": "EQ36_gG1CpIm"
      },
      "source": [
        "ABARTH.extend(SUBARU_aj)"
      ],
      "execution_count": null,
      "outputs": []
    },
    {
      "cell_type": "code",
      "metadata": {
        "id": "-WxEx52dCpM5"
      },
      "source": [
        "ABARTH.extend(SUZUKI_aj)"
      ],
      "execution_count": null,
      "outputs": []
    },
    {
      "cell_type": "code",
      "metadata": {
        "id": "Uh3QG7XECuUP"
      },
      "source": [
        "ABARTH.extend(TOYOTA_aj)"
      ],
      "execution_count": null,
      "outputs": []
    },
    {
      "cell_type": "code",
      "metadata": {
        "id": "5nt9gS_kCuXB"
      },
      "source": [
        "ABARTH.extend(VOLKSWAGEN_aj)"
      ],
      "execution_count": null,
      "outputs": []
    },
    {
      "cell_type": "code",
      "metadata": {
        "id": "Qg8iZh_tCuZ7"
      },
      "source": [
        "ABARTH.extend(VOLVO_aj)"
      ],
      "execution_count": null,
      "outputs": []
    },
    {
      "cell_type": "code",
      "metadata": {
        "colab": {
          "base_uri": "https://localhost:8080/"
        },
        "id": "DNjoRxOHC1O0",
        "outputId": "cd2f6c11-f4f2-4a3d-efe7-5664b9679643"
      },
      "source": [
        "print(ABARTH)"
      ],
      "execution_count": null,
      "outputs": [
        {
          "output_type": "stream",
          "text": [
            "['ABARTH Spider', 'ALFA ROMEO Giulietta', 'ALFA ROMEO Giulia', 'ALFA ROMEO Stelvio', 'AUDI RS3 Sportback', 'AUDI A4', 'AUDI A4 Avant ', 'AUDI A4 Allroad', 'AUDI S4', 'AUDI A5', 'AUDI A6', 'AUDI A6 Avant', 'AUDI A6 Allroad', 'AUDI Q2', 'AUDI Q3', 'AUDI RS Q3', 'AUDI Q5', 'AUDI SQ5', 'AUDI Q7', 'AUDI TT', 'AUDI TT Roadster', 'AUDI TT RS', 'BMW Serie 2 Coupe', 'BMW Serie 2 Cabriolet', 'BMW Serie 2 ActiveTourer', 'BMW Serie 2 Gran Tourer', 'BMW M2 Coupe', 'BMW Serie 3 Touring', 'BMW Serie 3 Gran Turismo', 'BMW Serie 4 Coupe', 'BMW Serie 4 Cabriolet', 'BMW Serie 4 Gran Coupe', 'BMW Serie 5 Touring', 'BMW Serie 6 Gran Turismo', 'BMW X1', 'BMW X3', 'BMW X4', 'BMW X5 Sport', 'BMW X5 Lounge Plus', 'BMW X6 xDrive', 'CITROEN C3 Aircross', 'CITROEN C-Elysee', 'CITROEN Grand C4 Picasso', 'CITROEN SpaceTourer XS', 'CITROEN SpaceTourer M', 'DACIA Logan MCV', 'DACIA Lodgy 5 places', 'DACIA Lodgy 7 places', 'DACIA Lodgy 7 places', 'DACIA Duster 4X2', 'DACIA Duster 4X4', 'DS 3', 'DS 3 Cabrio', 'DS 4', 'DS 4', 'DS 4', 'DS 4 Crossback', 'DS 5 ', 'DS 5', 'DS 7 Crossback', 'FIAT Panda ', 'FIAT 500X E-torQ', 'FIAT 500X MultiAir', 'FIAT Tipo', 'FIAT 124 Spider', 'FIAT Doblo Multijet', 'FORD Ka+', 'FORD Mustang Fastback', 'FORD Galaxy', 'FORD Kuga 4x2', 'FORD Kuga 4x4', 'FORD Edge', 'HONDA Civic Sport', 'HONDA HR-V', 'HYUNDAI Kona', 'HYUNDAI Ioniq', 'HYUNDAI Tucson', 'HYUNDAI Santa', 'INFINITI Q30', 'INFINITI Q50 Sport', 'INFINITI Q60 Coupé', 'INFINITI QX30', 'JAGUAR XE Prestige', 'JAGUAR XE R-Sport', 'JAGUAR F-Type Coupe', 'JAGUAR E-Pace', 'JAGUAR F-Pace 4x4', 'JAGUAR F-Pace 4x2', 'JAGUAR F-Pace 4x4', 'JAGUAR F-Pace V6', 'JEEP Renegade', 'JEEP Renegade 4x4', 'JEEP Compass 4x4', 'KIA Pro Cee’d GT Line', 'KIA Cee’d', 'KIA Stinger', 'KIA Niro', 'KIA Stonic', 'KIA Sportage 4x2', 'KIA Sportage GT Line 4x4', 'LAND ROVER Discovery Luxury', 'LAND ROVER Evoque', 'LAND ROVER Range Rover Velar', 'LAND ROVER Range Rover Sport', 'LEXUS CT Pack', 'LEXUS IS Luxe', 'LEXUS GS Executive', 'LEXUS RC F SPORT', 'LEXUS NX 2WD Pack', 'LEXUS NX 4WD Pack', 'LEXUS RX F SPORT', 'MASERATI Levante Q4', 'MASERATI Levante V6', 'Mazda', 'MAZDA MX-5', 'MAZDA CX-3', 'MAZDA CX-5 4x4', 'MERCEDES CLA 180', 'MERCEDES Classe C Break', 'MERCEDES Classe C Coupé', 'MERCEDES Classe E Break', 'MERCEDES Classe E Cabriolet', 'MERCEDES SLC 200 Sportline', 'MERCEDES SLC 43 9G-Tronic', 'MERCEDES Citan Tourer', 'MERCEDES GLC AMG', 'MERCEDES GLC d', 'MERCEDES GLC 350', 'MERCEDES GLC Coupé', 'MERCEDES GLE 400', 'MERCEDES GLE 250', 'MERCEDES GLE 350', 'MERCEDES GLE Coupé 350', 'Mini One', 'Mini Cooper', 'Mini Cooper S', 'Mini John Cooper Works', 'Mini One D', 'Mini Cooper D', 'Mini Cooper SD', 'Mini Cabrio Cooper', 'Mini Cabrio Cooper S', 'Mini Clubman One', 'Mini Clubman Cooper', 'Mini Clubman Cooper S', 'Mini Clubman One D', 'Mini Clubman Cooper D', 'Mini Clubman Cooper SD', 'Mini Countryman One', 'Mini Countryman Cooper', 'Mini Countryman Cooper S', 'Mini Countryman John Cooper Works', 'Mini Countryman Cooper SE', 'Mini Countryman One D', 'Mini Countryman Cooper D', 'Mini Countryman Cooper SD', 'MITSUBISHI ASX WD', 'MITSUBISHI Eclipse cross', 'OPEL Karl', 'OPEL Insignia Grand Sport', 'OPEL Insignia Tourer', 'OPEL Mokka X', 'OPEL Crossland X', 'OPEL Grandland X', 'PEUGEOT Partner Tepee', 'PEUGEOT Traveller', 'PORSCHE 718 Boxster', 'PORSCHE 718 Cayman', 'PORSCHE Macan', 'RENAULT Clio Estate', 'RENAULT Megane Estate', 'RENAULT Scenic', 'RENAULT Grand Scenic', 'RENAULT Koleos 4x4', 'RENAULT Kadjar', 'RENAULT Talisman', 'SEAT Arona', 'SEAT Ateca', 'SKODA Fabia Break', 'SKODA Rapid Spaceback', 'SKODA Karoq', 'SKODA Karoq 4x4', 'SKODA Octavia Break', 'SKODA Superb Combi', 'SKODA Kodiaq', 'smart Fortwo Coupe', 'smart Forfour passion', 'smart Forfour Brabus twinamic', 'SSANGYONG Tivoli', 'SUBARU XV', 'SUBARU Levorg', 'SUBARU Outback', 'SUBARU Forester', 'SUZUKI Ignis', 'SUZUKI SX4 S-Cross', 'SUZUKI Baleno', 'TOYOTA Prius+', 'TOYOTA GT86', 'TOYOTA ProAce Verso', 'TOYOTA C-HR', 'VOLKSWAGEN Golf SW', 'VOLKSWAGEN Coccinelle', 'VOLKSWAGEN Arteon', 'VOLKSWAGEN T-Roc', 'VOLKSWAGEN Tiguan Allspace', 'VOLKSWAGEN Caddy', 'VOLVO S90', 'VOLVO V90', 'VOLVO XC40']\n"
          ],
          "name": "stdout"
        }
      ]
    },
    {
      "cell_type": "code",
      "metadata": {
        "id": "1tg8IYL5zieD"
      },
      "source": [
        "abarth_ford=['ABARTH Spider', 'ALFA ROMEO Giulietta', 'ALFA ROMEO Giulia', 'ALFA ROMEO Stelvio', 'AUDI RS3 Sportback', 'AUDI A4', 'AUDI A4 Avant ', 'AUDI A4 Allroad', 'AUDI S4', 'AUDI A5', 'AUDI A6', 'AUDI A6 Avant', 'AUDI A6 Allroad', 'AUDI Q2', 'AUDI Q3', 'AUDI RS Q3', 'AUDI Q5', 'AUDI SQ5', 'AUDI Q7', 'AUDI TT', 'AUDI TT Roadster', 'AUDI TT RS', 'BMW Serie 2 Coupe', 'BMW Serie 2 Cabriolet', 'BMW Serie 2 ActiveTourer', 'BMW Serie 2 Gran Tourer', 'BMW M2 Coupe', 'BMW Serie 3 Touring', 'BMW Serie 3 Gran Turismo', 'BMW Serie 4 Coupe', 'BMW Serie 4 Cabriolet', 'BMW Serie 4 Gran Coupe', 'BMW Serie 5 Touring', 'BMW Serie 6 Gran Turismo', 'BMW X1', 'BMW X3', 'BMW X4', 'BMW X5 Sport', 'BMW X5 Lounge Plus', 'BMW X6 xDrive', 'CITROEN C3 Aircross', 'CITROEN C-Elysee', 'CITROEN Grand C4 Picasso', 'CITROEN SpaceTourer XS', 'CITROEN SpaceTourer M', 'DACIA Logan MCV', 'DACIA Lodgy 5 places', 'DACIA Lodgy 7 places', 'DACIA Lodgy 7 places', 'DACIA Duster 4X2', 'DACIA Duster 4X4', 'DS 3', 'DS 3 Cabrio', 'DS 4', 'DS 4 Crossback', 'DS 5 ', 'DS 7 Crossback', 'FIAT Panda ', 'FIAT 500X E-torQ', 'FIAT 500X MultiAir', 'FIAT Tipo', 'FIAT 124 Spider', 'FIAT Doblo Multijet', 'FORD Ka+', 'FORD Mustang Fastback', 'FORD Galaxy', 'FORD Kuga 4x2', 'FORD Kuga 4x4', 'FORD Edge']"
      ],
      "execution_count": null,
      "outputs": []
    },
    {
      "cell_type": "code",
      "metadata": {
        "colab": {
          "base_uri": "https://localhost:8080/"
        },
        "id": "TTE8mJES0eMD",
        "outputId": "f120749a-2543-4294-cc1b-a186cc59d293"
      },
      "source": [
        "len(abarth_ford)"
      ],
      "execution_count": null,
      "outputs": [
        {
          "output_type": "execute_result",
          "data": {
            "text/plain": [
              "72"
            ]
          },
          "metadata": {
            "tags": []
          },
          "execution_count": 77
        }
      ]
    },
    {
      "cell_type": "code",
      "metadata": {
        "id": "Q34FlWegz7da"
      },
      "source": [
        "honda_mercedes=['HONDA Civic Sport', 'HONDA HR-V', 'HYUNDAI Kona', 'HYUNDAI Ioniq', 'HYUNDAI Tucson', 'HYUNDAI Santa', 'INFINITI Q30', 'INFINITI Q50 Sport', 'INFINITI Q60 Coupé', 'INFINITI QX30', 'JAGUAR XE Prestige', 'JAGUAR XE R-Sport', 'JAGUAR F-Type Coupe', 'JAGUAR E-Pace', 'JAGUAR F-Pace 4x4', 'JAGUAR F-Pace 4x2', 'JAGUAR F-Pace 4x4', 'JAGUAR F-Pace V6', 'JEEP Renegade', 'JEEP Renegade 4x4', 'JEEP Compass 4x4', 'KIA Pro Cee’d GT Line', 'KIA Cee’d', 'KIA Stinger', 'KIA Niro', 'KIA Stonic', 'KIA Sportage 4x2', 'KIA Sportage GT Line 4x4', 'LAND ROVER Discovery Luxury', 'LAND ROVER Evoque', 'LAND ROVER Range Rover Velar', 'LAND ROVER Range Rover Sport', 'LEXUS CT Pack', 'LEXUS IS Luxe', 'LEXUS GS Executive', 'LEXUS RC F SPORT', 'LEXUS NX 2WD Pack', 'LEXUS NX 4WD Pack', 'LEXUS RX F SPORT', 'MASERATI Levante Q4', 'MASERATI Levante V6', 'Mazda', 'MAZDA MX-5', 'MAZDA CX-3', 'MAZDA CX-5 4x4', 'MERCEDES CLA 180', 'MERCEDES Classe C Break', 'MERCEDES Classe C Coupé', 'MERCEDES Classe E Break', 'MERCEDES Classe E Cabriolet', 'MERCEDES SLC 200 Sportline', 'MERCEDES SLC 43 9G-Tronic', 'MERCEDES Citan Tourer', 'MERCEDES GLC AMG', 'MERCEDES GLC d', 'MERCEDES GLC 350', 'MERCEDES GLC Coupé', 'MERCEDES GLE 400', 'MERCEDES GLE 250', 'MERCEDES GLE 350', 'MERCEDES GLE Coupé 350']"
      ],
      "execution_count": null,
      "outputs": []
    },
    {
      "cell_type": "code",
      "metadata": {
        "colab": {
          "base_uri": "https://localhost:8080/"
        },
        "id": "82VQKPL-0hgF",
        "outputId": "afdb5146-a966-4799-8dcb-c2661a7bcb13"
      },
      "source": [
        "len(honda_mercedes)"
      ],
      "execution_count": null,
      "outputs": [
        {
          "output_type": "execute_result",
          "data": {
            "text/plain": [
              "61"
            ]
          },
          "metadata": {
            "tags": []
          },
          "execution_count": 78
        }
      ]
    },
    {
      "cell_type": "code",
      "metadata": {
        "id": "nkM520rGz7zJ"
      },
      "source": [
        "mini_volvo=['Mini One', 'Mini Cooper', 'Mini Cooper S', 'Mini John Cooper Works', 'Mini One D', 'Mini Cooper D', 'Mini Cooper SD', 'Mini Cabrio Cooper', 'Mini Cabrio Cooper S', 'Mini Clubman One', 'Mini Clubman Cooper', 'Mini Clubman Cooper S', 'Mini Clubman One D', 'Mini Clubman Cooper D', 'Mini Clubman Cooper SD', 'Mini Countryman One', 'Mini Countryman Cooper', 'Mini Countryman Cooper S', 'Mini Countryman John Cooper Works', 'Mini Countryman Cooper SE', 'Mini Countryman One D', 'Mini Countryman Cooper D', 'Mini Countryman Cooper SD', 'MITSUBISHI ASX WD', 'MITSUBISHI Eclipse cross', 'OPEL Karl', 'OPEL Insignia Grand Sport', 'OPEL Insignia Tourer', 'OPEL Mokka X', 'OPEL Crossland X', 'OPEL Grandland X', 'PEUGEOT Partner Tepee', 'PEUGEOT Traveller', 'PORSCHE 718 Boxster', 'PORSCHE 718 Cayman', 'PORSCHE Macan', 'RENAULT Clio Estate', 'RENAULT Megane Estate', 'RENAULT Scenic', 'RENAULT Grand Scenic', 'RENAULT Koleos 4x4', 'RENAULT Kadjar', 'RENAULT Talisman', 'SEAT Arona', 'SEAT Ateca', 'SKODA Fabia Break', 'SKODA Rapid Spaceback', 'SKODA Karoq', 'SKODA Karoq 4x4', 'SKODA Octavia Break', 'SKODA Superb Combi', 'SKODA Kodiaq', 'smart Fortwo Coupe', 'smart Forfour passion', 'smart Forfour Brabus twinamic', 'SSANGYONG Tivoli', 'SUBARU XV', 'SUBARU Levorg', 'SUBARU Outback', 'SUBARU Forester', 'SUZUKI Ignis', 'SUZUKI SX4 S-Cross', 'SUZUKI Baleno', 'TOYOTA Prius+', 'TOYOTA GT86', 'TOYOTA ProAce Verso', 'TOYOTA C-HR', 'VOLKSWAGEN Golf SW', 'VOLKSWAGEN Coccinelle', 'VOLKSWAGEN Arteon', 'VOLKSWAGEN T-Roc', 'VOLKSWAGEN Tiguan Allspace', 'VOLKSWAGEN Caddy', 'VOLVO S90', 'VOLVO V90', 'VOLVO XC40']"
      ],
      "execution_count": null,
      "outputs": []
    },
    {
      "cell_type": "code",
      "metadata": {
        "colab": {
          "base_uri": "https://localhost:8080/"
        },
        "id": "kn_iFssK0kNg",
        "outputId": "fdd13e06-cd5f-4201-efa8-c9ec31248f27"
      },
      "source": [
        "len(mini_volvo)"
      ],
      "execution_count": null,
      "outputs": [
        {
          "output_type": "execute_result",
          "data": {
            "text/plain": [
              "76"
            ]
          },
          "metadata": {
            "tags": []
          },
          "execution_count": 80
        }
      ]
    }
  ]
}