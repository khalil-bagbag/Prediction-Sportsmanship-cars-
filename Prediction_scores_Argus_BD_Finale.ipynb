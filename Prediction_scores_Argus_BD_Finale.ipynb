{
  "nbformat": 4,
  "nbformat_minor": 0,
  "metadata": {
    "colab": {
      "name": "Prediction_scores_Argus_BD_Finale.ipynb",
      "provenance": [],
      "collapsed_sections": [],
      "authorship_tag": "ABX9TyO6S3ilqUCs/QXTef4uQxYu",
      "include_colab_link": true
    },
    "kernelspec": {
      "name": "python3",
      "display_name": "Python 3"
    },
    "language_info": {
      "name": "python"
    }
  },
  "cells": [
    {
      "cell_type": "markdown",
      "metadata": {
        "id": "view-in-github",
        "colab_type": "text"
      },
      "source": [
        "<a href=\"https://colab.research.google.com/github/khalil-bagbag/Prediction-Sportsmanship-cars-/blob/main/Prediction_scores_Argus_BD_Finale.ipynb\" target=\"_parent\"><img src=\"https://colab.research.google.com/assets/colab-badge.svg\" alt=\"Open In Colab\"/></a>"
      ]
    },
    {
      "cell_type": "code",
      "metadata": {
        "colab": {
          "base_uri": "https://localhost:8080/"
        },
        "id": "Pu7Hv1iVsm1t",
        "outputId": "b026a7a1-cef1-44fb-a567-c57a8973d62e"
      },
      "source": [
        "from google.colab import drive\n",
        "drive.mount('/content/gdrive')"
      ],
      "execution_count": 1,
      "outputs": [
        {
          "output_type": "stream",
          "text": [
            "Mounted at /content/gdrive\n"
          ],
          "name": "stdout"
        }
      ]
    },
    {
      "cell_type": "code",
      "metadata": {
        "id": "0YhwInHus5jv"
      },
      "source": [
        "from tensorflow.keras.preprocessing import image as image_utils\n",
        "from tensorflow.keras.applications.vgg16 import preprocess_input\n",
        "import matplotlib.pyplot as plt\n",
        "import matplotlib.image as mpimg\n",
        "from tensorflow.keras.applications import VGG16\n",
        "from tensorflow.keras.applications.vgg16 import decode_predictions\n",
        "import pandas as pd"
      ],
      "execution_count": 20,
      "outputs": []
    },
    {
      "cell_type": "code",
      "metadata": {
        "colab": {
          "base_uri": "https://localhost:8080/"
        },
        "id": "oNZt8291s5m5",
        "outputId": "c0a1c8a5-077a-47bd-e26f-b5608375c36b"
      },
      "source": [
        "# load the VGG16 network *pre-trained* on the ImageNet dataset\n",
        "model = VGG16(weights=\"imagenet\",classifier_activation=None)"
      ],
      "execution_count": 3,
      "outputs": [
        {
          "output_type": "stream",
          "text": [
            "Downloading data from https://storage.googleapis.com/tensorflow/keras-applications/vgg16/vgg16_weights_tf_dim_ordering_tf_kernels.h5\n",
            "553467904/553467096 [==============================] - 4s 0us/step\n",
            "553476096/553467096 [==============================] - 4s 0us/step\n"
          ],
          "name": "stdout"
        }
      ]
    },
    {
      "cell_type": "code",
      "metadata": {
        "id": "UMQOc9kUs5qR"
      },
      "source": [
        "def load_and_process_image(image_path):\n",
        "    # Load in the image with a target size of 224,224\n",
        "    image = image_utils.load_img(image_path, target_size=(224, 224))\n",
        "    # Convert the image from a PIL format to a numpy array\n",
        "    image = image_utils.img_to_array(image)\n",
        "    # Add a dimension for number of images, in our case 1\n",
        "    image = image.reshape(1,224,224,3)\n",
        "    # Preprocess image to align with original ImageNet dataset\n",
        "    image = preprocess_input(image)\n",
        "    \n",
        "    return image"
      ],
      "execution_count": 4,
      "outputs": []
    },
    {
      "cell_type": "code",
      "metadata": {
        "id": "sFDMs4hTs5s3"
      },
      "source": [
        "def readable_prediction(image_path):\n",
        "    # Load and pre-process image\n",
        "    image = load_and_process_image(image_path)\n",
        "    # Make predictions\n",
        "    predictions = model.predict_on_batch(image)\n",
        "    # Print predictions in readable form\n",
        "    #print(predictions)\n",
        "    print('Predicted:', decode_predictions(predictions,top=10))\n",
        "    #print(predictions.sum())"
      ],
      "execution_count": 5,
      "outputs": []
    },
    {
      "cell_type": "code",
      "metadata": {
        "colab": {
          "base_uri": "https://localhost:8080/"
        },
        "id": "q7KVBiC1tB6A",
        "outputId": "ddcdc405-45f6-4066-f3d7-c9cfef178386"
      },
      "source": [
        "readable_prediction(\"/content/gdrive/My Drive/mobmod/Argus/mini_volvo/TOYOTA GT86/001_25dabf8e.jpg\")"
      ],
      "execution_count": 6,
      "outputs": [
        {
          "output_type": "stream",
          "text": [
            "Downloading data from https://storage.googleapis.com/download.tensorflow.org/data/imagenet_class_index.json\n",
            "40960/35363 [==================================] - 0s 0us/step\n",
            "49152/35363 [=========================================] - 0s 0us/step\n",
            "Predicted: [[('n04285008', 'sports_car', 14.596611), ('n03100240', 'convertible', 13.506048), ('n03459775', 'grille', 11.501602), ('n02974003', 'car_wheel', 11.295988), ('n04037443', 'racer', 11.093529), ('n02814533', 'beach_wagon', 10.324761), ('n03930630', 'pickup', 9.567873), ('n03670208', 'limousine', 8.528524), ('n02930766', 'cab', 8.524589), ('n03770679', 'minivan', 7.720551)]]\n"
          ],
          "name": "stdout"
        }
      ]
    },
    {
      "cell_type": "code",
      "metadata": {
        "id": "TJYx6F3StB8h"
      },
      "source": [
        "def sportivity(image_path):\n",
        "    image = load_and_process_image(image_path)\n",
        "    preds = model.predict(image)\n",
        "    pourcentage_sport_Car=0\n",
        "    pourcentage_convertible=0\n",
        "    for i in range(9):\n",
        "        if (decode_predictions(preds,top=10)[0][i][1]) =='sports_car':\n",
        "            pourcentage_sport_Car=(decode_predictions(preds,top=10)[0][i][2])\n",
        "        elif (decode_predictions(preds,top=10)[0][i][1]) =='convertible':\n",
        "            pourcentage_convertible=(decode_predictions(preds,top=10)[0][i][2])\n",
        "    if pourcentage_sport_Car > pourcentage_convertible :\n",
        "      val=pourcentage_sport_Car\n",
        "    else:\n",
        "      val=pourcentage_convertible\n",
        "\n",
        "    return val"
      ],
      "execution_count": 8,
      "outputs": []
    },
    {
      "cell_type": "code",
      "metadata": {
        "colab": {
          "base_uri": "https://localhost:8080/"
        },
        "id": "Aa84PKZgtB_R",
        "outputId": "3a1f8e95-08db-402e-d7a4-0db39b0525e4"
      },
      "source": [
        "sportivity(\"/content/gdrive/My Drive/mobmod/Argus/mini_volvo/TOYOTA GT86/001_25dabf8e.jpg\")"
      ],
      "execution_count": 9,
      "outputs": [
        {
          "output_type": "execute_result",
          "data": {
            "text/plain": [
              "14.596611"
            ]
          },
          "metadata": {
            "tags": []
          },
          "execution_count": 9
        }
      ]
    },
    {
      "cell_type": "code",
      "metadata": {
        "id": "sELdleyctCBn"
      },
      "source": [
        "abarth_ford=['ABARTH Spider','ALFA ROMEO Giulietta','ALFA ROMEO Giulia','ALFA ROMEO Stelvio','AUDI RS3 Sportback','AUDI A4','AUDI A4 Avant ','AUDI A4 Allroad', 'AUDI S4', 'AUDI A5', 'AUDI A6', 'AUDI A6 Avant', 'AUDI A6 Allroad', 'AUDI Q2', 'AUDI Q3', 'AUDI RS Q3', 'AUDI Q5', 'AUDI SQ5', 'AUDI Q7', 'AUDI TT', 'AUDI TT Roadster', 'AUDI TT RS', 'BMW Serie 2 Coupe', 'BMW Serie 2 Cabriolet', 'BMW Serie 2 ActiveTourer', 'BMW Serie 2 Gran Tourer', 'BMW M2 Coupe', 'BMW Serie 3 Touring', 'BMW Serie 3 Gran Turismo', 'BMW Serie 4 Coupe', 'BMW Serie 4 Cabriolet', 'BMW Serie 4 Gran Coupe', 'BMW Serie 5 Touring', 'BMW Serie 6 Gran Turismo', 'BMW X1', 'BMW X3', 'BMW X4', 'BMW X5 Sport', 'BMW X5 Lounge Plus', 'BMW X6 xDrive', 'CITROEN C3 Aircross', 'CITROEN C-Elysee', 'CITROEN Grand C4 Picasso', 'CITROEN SpaceTourer XS', 'CITROEN SpaceTourer M', 'DACIA Logan MCV', 'DACIA Lodgy 5 places', 'DACIA Lodgy 7 places', 'DACIA Lodgy 7 places', 'DACIA Duster 4X2', 'DACIA Duster 4X4', 'DS 3', 'DS 3 Cabrio', 'DS 4', 'DS 4 Crossback', 'DS 5', 'DS 7 Crossback', 'FIAT Panda ', 'FIAT 500X E-torQ', 'FIAT 500X MultiAir', 'FIAT Tipo', 'FIAT 124 Spider', 'FIAT Doblo Multijet', 'FORD Ka+', 'FORD Mustang Fastback', 'FORD Galaxy', 'FORD Kuga 4x2','FORD Kuga 4x4','FORD Edge']"
      ],
      "execution_count": 10,
      "outputs": []
    },
    {
      "cell_type": "code",
      "metadata": {
        "id": "aSblAoWqtCEU"
      },
      "source": [
        "import re\n",
        "import os\n",
        "from os import listdir\n",
        "from os.path import isfile, join\n",
        "resultat_abarth_ford = {}\n",
        "for i in range(len(abarth_ford)):\n",
        "  dossier=re.sub(r' ', r' ',abarth_ford[i])\n",
        "  pathe='/content/gdrive/My Drive/mobmod/Argus/abarth_ford/'+dossier\n",
        "  nom_voiture = [f for f in listdir(pathe) if isfile(join(pathe, f))]\n",
        "  path_finale=pathe+'/'+str(nom_voiture[0])\n",
        "  res=(sportivity(path_finale))\n",
        "  resultat_abarth_ford[abarth_ford[i]] = res"
      ],
      "execution_count": 11,
      "outputs": []
    },
    {
      "cell_type": "code",
      "metadata": {
        "colab": {
          "base_uri": "https://localhost:8080/"
        },
        "id": "e6GPRgIsvesT",
        "outputId": "a53048d2-09bc-4698-e8b8-1ef399bd024d"
      },
      "source": [
        "print(resultat_abarth_ford)"
      ],
      "execution_count": 12,
      "outputs": [
        {
          "output_type": "stream",
          "text": [
            "{'ABARTH Spider': 13.897646, 'ALFA ROMEO Giulietta': 13.797576, 'ALFA ROMEO Giulia': 11.900084, 'ALFA ROMEO Stelvio': 14.015047, 'AUDI RS3 Sportback': 14.148176, 'AUDI A4': 16.952076, 'AUDI A4 Avant ': 9.303464, 'AUDI A4 Allroad': 9.143331, 'AUDI S4': 19.192326, 'AUDI A5': 14.581393, 'AUDI A6': 11.996399, 'AUDI A6 Avant': 14.185847, 'AUDI A6 Allroad': 13.490466, 'AUDI Q2': 10.944461, 'AUDI Q3': 10.177515, 'AUDI RS Q3': 17.03689, 'AUDI Q5': 21.468693, 'AUDI SQ5': 13.934729, 'AUDI Q7': 10.907915, 'AUDI TT': 14.297665, 'AUDI TT Roadster': 15.721936, 'AUDI TT RS': 14.297665, 'BMW Serie 2 Coupe': 11.385975, 'BMW Serie 2 Cabriolet': 13.34193, 'BMW Serie 2 ActiveTourer': 14.112088, 'BMW Serie 2 Gran Tourer': 10.757151, 'BMW M2 Coupe': 16.098392, 'BMW Serie 3 Touring': 9.706884, 'BMW Serie 3 Gran Turismo': 14.529589, 'BMW Serie 4 Coupe': 14.552478, 'BMW Serie 4 Cabriolet': 18.513044, 'BMW Serie 4 Gran Coupe': 13.578601, 'BMW Serie 5 Touring': 15.1512985, 'BMW Serie 6 Gran Turismo': 16.069101, 'BMW X1': 8.860619, 'BMW X3': 10.511052, 'BMW X4': 12.45583, 'BMW X5 Sport': 12.656358, 'BMW X5 Lounge Plus': 17.47242, 'BMW X6 xDrive': 10.220314, 'CITROEN C3 Aircross': 9.93425, 'CITROEN C-Elysee': 9.268878, 'CITROEN Grand C4 Picasso': 0, 'CITROEN SpaceTourer XS': 0, 'CITROEN SpaceTourer M': 0, 'DACIA Logan MCV': 8.86528, 'DACIA Lodgy 5 places': 0, 'DACIA Lodgy 7 places': 9.275582, 'DACIA Duster 4X2': 10.640944, 'DACIA Duster 4X4': 8.269831, 'DS 3': 14.070211, 'DS 3 Cabrio': 11.960819, 'DS 4': 11.211728, 'DS 4 Crossback': 15.851502, 'DS 5': 10.088304, 'DS 7 Crossback': 10.152912, 'FIAT Panda ': 0, 'FIAT 500X E-torQ': 11.401049, 'FIAT 500X MultiAir': 10.047171, 'FIAT Tipo': 11.200232, 'FIAT 124 Spider': 17.46723, 'FIAT Doblo Multijet': 0, 'FORD Ka+': 11.609439, 'FORD Mustang Fastback': 16.734293, 'FORD Galaxy': 0, 'FORD Kuga 4x2': 9.385924, 'FORD Kuga 4x4': 9.64239, 'FORD Edge': 6.546139}\n"
          ],
          "name": "stdout"
        }
      ]
    },
    {
      "cell_type": "code",
      "metadata": {
        "id": "M5rnkgiZvp1T"
      },
      "source": [
        "honda_mercedes=['HONDA Civic Sport', 'HONDA HR-V', 'HYUNDAI Kona', 'HYUNDAI Ioniq', 'HYUNDAI Tucson', 'HYUNDAI Santa', 'INFINITI Q30', 'INFINITI Q50 Sport', 'INFINITI Q60 Coupé', 'INFINITI QX30', 'JAGUAR XE Prestige', 'JAGUAR XE R-Sport', 'JAGUAR F-Type Coupe', 'JAGUAR E-Pace', 'JAGUAR F-Pace 4x4', 'JAGUAR F-Pace 4x2', 'JAGUAR F-Pace 4x4', 'JAGUAR F-Pace V6', 'JEEP Renegade', 'JEEP Renegade 4x4', 'JEEP Compass 4x4', 'KIA Pro Cee’d GT Line', 'KIA Cee’d', 'KIA Stinger', 'KIA Niro', 'KIA Stonic', 'KIA Sportage 4x2', 'KIA Sportage GT Line 4x4', 'LAND ROVER Discovery Luxury', 'LAND ROVER Evoque', 'LAND ROVER Range Rover Velar', 'LAND ROVER Range Rover Sport', 'LEXUS CT Pack', 'LEXUS IS Luxe', 'LEXUS GS Executive', 'LEXUS RC F SPORT', 'LEXUS NX 2WD Pack', 'LEXUS NX 4WD Pack', 'LEXUS RX F SPORT', 'MASERATI Levante Q4', 'MASERATI Levante V6', 'MAZDA MX-5', 'MAZDA CX-3', 'MAZDA CX-5 4x4', 'MERCEDES CLA 180', 'MERCEDES Classe C Break', 'MERCEDES Classe C Coupé', 'MERCEDES Classe E Break', 'MERCEDES Classe E Cabriolet', 'MERCEDES SLC 200 Sportline', 'MERCEDES SLC 43 9G-Tronic', 'MERCEDES Citan Tourer', 'MERCEDES GLC AMG', 'MERCEDES GLC d', 'MERCEDES GLC 350', 'MERCEDES GLC Coupé', 'MERCEDES GLE 400', 'MERCEDES GLE 250', 'MERCEDES GLE 350', 'MERCEDES GLE Coupé 350']"
      ],
      "execution_count": 13,
      "outputs": []
    },
    {
      "cell_type": "code",
      "metadata": {
        "id": "LzrJy-AIvp4S"
      },
      "source": [
        "import re\n",
        "import os\n",
        "from os import listdir\n",
        "from os.path import isfile, join\n",
        "resultat_honda_mercedes = {}\n",
        "for i in range(len(honda_mercedes)):\n",
        "  dossier=re.sub(r' ', r' ',honda_mercedes[i])\n",
        "  pathe='/content/gdrive/My Drive/mobmod/Argus/honda_mercedes/'+dossier\n",
        "  nom_voiture = [f for f in listdir(pathe) if isfile(join(pathe, f))]\n",
        "  path_finale=pathe+'/'+str(nom_voiture[0])\n",
        "  res=(sportivity(path_finale))\n",
        "  resultat_honda_mercedes[honda_mercedes[i]] = res"
      ],
      "execution_count": 14,
      "outputs": []
    },
    {
      "cell_type": "code",
      "metadata": {
        "colab": {
          "base_uri": "https://localhost:8080/"
        },
        "id": "knyF6KrAvp7V",
        "outputId": "e3ee358a-084d-4275-c63f-ce838ee64386"
      },
      "source": [
        "print(resultat_honda_mercedes)"
      ],
      "execution_count": null,
      "outputs": [
        {
          "output_type": "stream",
          "text": [
            "{'HONDA Civic Sport': 12.980966, 'HONDA HR-V': 9.690616, 'HYUNDAI Kona': 10.420006, 'HYUNDAI Ioniq': 12.050654, 'HYUNDAI Tucson': 8.555336, 'HYUNDAI Santa': 10.03354, 'INFINITI Q30': 15.596912, 'INFINITI Q50 Sport': 13.874536, 'INFINITI Q60 Coupé': 12.970658, 'INFINITI QX30': 15.639176, 'JAGUAR XE Prestige': 11.854554, 'JAGUAR XE R-Sport': 14.907646, 'JAGUAR F-Type Coupe': 11.569477, 'JAGUAR E-Pace': 8.024842, 'JAGUAR F-Pace 4x4': 13.939207, 'JAGUAR F-Pace 4x2': 17.891365, 'JAGUAR F-Pace V6': 13.232293, 'JEEP Renegade': 11.98739, 'JEEP Renegade 4x4': 0, 'JEEP Compass 4x4': 11.396908, 'KIA Pro Cee’d GT Line': 16.364662, 'KIA Cee’d': 9.746482, 'KIA Stinger': 17.18917, 'KIA Niro': 9.909425, 'KIA Stonic': 13.512333, 'KIA Sportage 4x2': 16.710989, 'KIA Sportage GT Line 4x4': 14.275651, 'LAND ROVER Discovery Luxury': 13.727408, 'LAND ROVER Evoque': 18.814426, 'LAND ROVER Range Rover Velar': 15.871128, 'LAND ROVER Range Rover Sport': 13.944658, 'LEXUS CT Pack': 0, 'LEXUS IS Luxe': 15.318369, 'LEXUS GS Executive': 11.909086, 'LEXUS RC F SPORT': 17.92912, 'LEXUS NX 2WD Pack': 12.685411, 'LEXUS NX 4WD Pack': 15.76176, 'LEXUS RX F SPORT': 11.737362, 'MASERATI Levante Q4': 13.1221695, 'MASERATI Levante V6': 11.2766905, 'MAZDA MX-5': 15.007713, 'MAZDA CX-3': 13.753514, 'MAZDA CX-5 4x4': 14.830585, 'MERCEDES CLA 180': 9.828532, 'MERCEDES Classe C Break': 14.658896, 'MERCEDES Classe C Coupé': 11.490068, 'MERCEDES Classe E Break': 13.834008, 'MERCEDES Classe E Cabriolet': 15.121686, 'MERCEDES SLC 200 Sportline': 17.097805, 'MERCEDES SLC 43 9G-Tronic': 9.988987, 'MERCEDES Citan Tourer': 0, 'MERCEDES GLC AMG': 12.657557, 'MERCEDES GLC d': 11.211723, 'MERCEDES GLC 350': 11.766466, 'MERCEDES GLC Coupé': 13.737478, 'MERCEDES GLE 400': 11.318147, 'MERCEDES GLE 250': 8.549485, 'MERCEDES GLE 350': 15.386264, 'MERCEDES GLE Coupé 350': 14.1286125}\n"
          ],
          "name": "stdout"
        }
      ]
    },
    {
      "cell_type": "code",
      "metadata": {
        "id": "l2j6a2qSvp9q"
      },
      "source": [
        "mini_volvo=['Mini One', 'Mini Cooper', 'Mini Cooper S', 'Mini John Cooper Works', 'Mini One D', 'Mini Cooper D', 'Mini Cooper SD', 'Mini Cabrio Cooper', 'Mini Cabrio Cooper S', 'Mini Clubman One', 'Mini Clubman Cooper', 'Mini Clubman Cooper S', 'Mini Clubman One D', 'Mini Clubman Cooper D', 'Mini Clubman Cooper SD', 'Mini Countryman One', 'Mini Countryman Cooper', 'Mini Countryman Cooper S', 'Mini Countryman John Cooper Works', 'Mini Countryman Cooper SE', 'Mini Countryman One D', 'Mini Countryman Cooper D', 'Mini Countryman Cooper SD', 'MITSUBISHI ASX WD', 'MITSUBISHI Eclipse cross', 'OPEL Karl', 'OPEL Insignia Grand Sport', 'OPEL Insignia Tourer', 'OPEL Mokka X', 'OPEL Crossland X', 'OPEL Grandland X', 'PEUGEOT Partner Tepee', 'PEUGEOT Traveller', 'PORSCHE 718 Boxster', 'PORSCHE 718 Cayman', 'PORSCHE Macan', 'RENAULT Clio Estate', 'RENAULT Megane Estate', 'RENAULT Scenic', 'RENAULT Grand Scenic', 'RENAULT Koleos 4x4', 'RENAULT Kadjar', 'RENAULT Talisman', 'SEAT Arona', 'SEAT Ateca', 'SKODA Fabia Break', 'SKODA Rapid Spaceback', 'SKODA Karoq', 'SKODA Karoq 4x4', 'SKODA Octavia Break', 'SKODA Superb Combi', 'SKODA Kodiaq', 'smart Fortwo Coupe', 'smart Forfour passion', 'smart Forfour Brabus twinamic', 'SSANGYONG Tivoli', 'SUBARU XV', 'SUBARU Levorg', 'SUBARU Outback', 'SUBARU Forester', 'SUZUKI Ignis', 'SUZUKI SX4 S-Cross', 'SUZUKI Baleno', 'TOYOTA Prius+', 'TOYOTA GT86', 'TOYOTA ProAce Verso', 'TOYOTA C-HR', 'VOLKSWAGEN Golf SW', 'VOLKSWAGEN Coccinelle', 'VOLKSWAGEN Arteon', 'VOLKSWAGEN T-Roc', 'VOLKSWAGEN Tiguan Allspace', 'VOLKSWAGEN Caddy', 'VOLVO S90', 'VOLVO V90', 'VOLVO XC40']"
      ],
      "execution_count": 15,
      "outputs": []
    },
    {
      "cell_type": "code",
      "metadata": {
        "id": "alkHf-9ew4iT"
      },
      "source": [
        "import re\n",
        "import os\n",
        "from os import listdir\n",
        "from os.path import isfile, join\n",
        "resultat_mini_volvo = {}\n",
        "for i in range(len(mini_volvo)):\n",
        "  dossier=re.sub(r' ', r' ',mini_volvo[i])\n",
        "  pathe='/content/gdrive/My Drive/mobmod/Argus/mini_volvo/'+dossier\n",
        "  nom_voiture = [f for f in listdir(pathe) if isfile(join(pathe, f))]\n",
        "  path_finale=pathe+'/'+str(nom_voiture[0])\n",
        "  res=(sportivity(path_finale))\n",
        "  resultat_mini_volvo[mini_volvo[i]] = res"
      ],
      "execution_count": 16,
      "outputs": []
    },
    {
      "cell_type": "code",
      "metadata": {
        "colab": {
          "base_uri": "https://localhost:8080/"
        },
        "id": "aYkrxCVQw4k1",
        "outputId": "b1447abf-4aaf-4b1f-eec4-c1d64fe74664"
      },
      "source": [
        "print(resultat_mini_volvo)"
      ],
      "execution_count": null,
      "outputs": [
        {
          "output_type": "stream",
          "text": [
            "{'Mini One': 9.306473, 'Mini Cooper': 17.94014, 'Mini Cooper S': 16.827541, 'Mini John Cooper Works': 15.159538, 'Mini One D': 13.206822, 'Mini Cooper D': 12.312879, 'Mini Cooper SD': 10.130191, 'Mini Cabrio Cooper': 13.733335, 'Mini Cabrio Cooper S': 17.386654, 'Mini Clubman One': 12.150164, 'Mini Clubman Cooper': 13.941272, 'Mini Clubman Cooper S': 13.513698, 'Mini Clubman One D': 13.33171, 'Mini Clubman Cooper D': 16.612087, 'Mini Clubman Cooper SD': 8.162024, 'Mini Countryman One': 12.105664, 'Mini Countryman Cooper': 9.212103, 'Mini Countryman Cooper S': 12.829064, 'Mini Countryman John Cooper Works': 17.94014, 'Mini Countryman Cooper SE': 9.9741125, 'Mini Countryman One D': 9.586818, 'Mini Countryman Cooper D': 9.377091, 'Mini Countryman Cooper SD': 10.130191, 'MITSUBISHI ASX WD': 3.8995254, 'MITSUBISHI Eclipse cross': 11.659855, 'OPEL Karl': 12.889941, 'OPEL Insignia Grand Sport': 11.316512, 'OPEL Insignia Tourer': 12.825972, 'OPEL Mokka X': 11.211452, 'OPEL Crossland X': 11.027467, 'OPEL Grandland X': 10.178414, 'PEUGEOT Partner Tepee': 0, 'PEUGEOT Traveller': 0, 'PORSCHE 718 Boxster': 18.169746, 'PORSCHE 718 Cayman': 17.339888, 'PORSCHE Macan': 10.090948, 'RENAULT Clio Estate': 11.414632, 'RENAULT Megane Estate': 11.2081175, 'RENAULT Scenic': 14.138702, 'RENAULT Grand Scenic': 8.876906, 'RENAULT Koleos 4x4': 12.444535, 'RENAULT Kadjar': 11.080701, 'RENAULT Talisman': 11.86936, 'SEAT Arona': 12.53059, 'SEAT Ateca': 14.138592, 'SKODA Fabia Break': 7.6386137, 'SKODA Rapid Spaceback': 9.700864, 'SKODA Karoq': 0, 'SKODA Karoq 4x4': 10.855585, 'SKODA Octavia Break': 8.349445, 'SKODA Superb Combi': 16.603617, 'SKODA Kodiaq': 0, 'smart Fortwo Coupe': 12.116642, 'smart Forfour passion': 11.58561, 'smart Forfour Brabus twinamic': 12.173927, 'SSANGYONG Tivoli': 11.391286, 'SUBARU XV': 8.100109, 'SUBARU Levorg': 6.974016, 'SUBARU Outback': 11.260615, 'SUBARU Forester': 10.8666115, 'SUZUKI Ignis': 10.589055, 'SUZUKI SX4 S-Cross': 11.133625, 'SUZUKI Baleno': 15.799341, 'TOYOTA Prius+': 11.4071, 'TOYOTA GT86': 14.596611, 'TOYOTA ProAce Verso': 0, 'TOYOTA C-HR': 11.702532, 'VOLKSWAGEN Golf SW': 10.759723, 'VOLKSWAGEN Coccinelle': 10.0098295, 'VOLKSWAGEN Arteon': 17.977165, 'VOLKSWAGEN T-Roc': 12.242647, 'VOLKSWAGEN Tiguan Allspace': 8.463652, 'VOLKSWAGEN Caddy': 0, 'VOLVO S90': 14.457269, 'VOLVO V90': 19.623755, 'VOLVO XC40': 11.172813}\n"
          ],
          "name": "stdout"
        }
      ]
    },
    {
      "cell_type": "code",
      "metadata": {
        "id": "k8x_2eEbw4ng"
      },
      "source": [
        "global_dictionnary = dict(resultat_abarth_ford)\n",
        "global_dictionnary.update(resultat_honda_mercedes)\n",
        "global_dictionnary.update(resultat_mini_volvo)\n"
      ],
      "execution_count": 17,
      "outputs": []
    },
    {
      "cell_type": "code",
      "metadata": {
        "colab": {
          "base_uri": "https://localhost:8080/"
        },
        "id": "BuEW17N7xy8o",
        "outputId": "1e6539ab-b0a4-46f9-aa9e-88c5eb766be9"
      },
      "source": [
        "print(global_dictionnary)"
      ],
      "execution_count": 18,
      "outputs": [
        {
          "output_type": "stream",
          "text": [
            "{'ABARTH Spider': 13.897646, 'ALFA ROMEO Giulietta': 13.797576, 'ALFA ROMEO Giulia': 11.900084, 'ALFA ROMEO Stelvio': 14.015047, 'AUDI RS3 Sportback': 14.148176, 'AUDI A4': 16.952076, 'AUDI A4 Avant ': 9.303464, 'AUDI A4 Allroad': 9.143331, 'AUDI S4': 19.192326, 'AUDI A5': 14.581393, 'AUDI A6': 11.996399, 'AUDI A6 Avant': 14.185847, 'AUDI A6 Allroad': 13.490466, 'AUDI Q2': 10.944461, 'AUDI Q3': 10.177515, 'AUDI RS Q3': 17.03689, 'AUDI Q5': 21.468693, 'AUDI SQ5': 13.934729, 'AUDI Q7': 10.907915, 'AUDI TT': 14.297665, 'AUDI TT Roadster': 15.721936, 'AUDI TT RS': 14.297665, 'BMW Serie 2 Coupe': 11.385975, 'BMW Serie 2 Cabriolet': 13.34193, 'BMW Serie 2 ActiveTourer': 14.112088, 'BMW Serie 2 Gran Tourer': 10.757151, 'BMW M2 Coupe': 16.098392, 'BMW Serie 3 Touring': 9.706884, 'BMW Serie 3 Gran Turismo': 14.529589, 'BMW Serie 4 Coupe': 14.552478, 'BMW Serie 4 Cabriolet': 18.513044, 'BMW Serie 4 Gran Coupe': 13.578601, 'BMW Serie 5 Touring': 15.1512985, 'BMW Serie 6 Gran Turismo': 16.069101, 'BMW X1': 8.860619, 'BMW X3': 10.511052, 'BMW X4': 12.45583, 'BMW X5 Sport': 12.656358, 'BMW X5 Lounge Plus': 17.47242, 'BMW X6 xDrive': 10.220314, 'CITROEN C3 Aircross': 9.93425, 'CITROEN C-Elysee': 9.268878, 'CITROEN Grand C4 Picasso': 0, 'CITROEN SpaceTourer XS': 0, 'CITROEN SpaceTourer M': 0, 'DACIA Logan MCV': 8.86528, 'DACIA Lodgy 5 places': 0, 'DACIA Lodgy 7 places': 9.275582, 'DACIA Duster 4X2': 10.640944, 'DACIA Duster 4X4': 8.269831, 'DS 3': 14.070211, 'DS 3 Cabrio': 11.960819, 'DS 4': 11.211728, 'DS 4 Crossback': 15.851502, 'DS 5': 10.088304, 'DS 7 Crossback': 10.152912, 'FIAT Panda ': 0, 'FIAT 500X E-torQ': 11.401049, 'FIAT 500X MultiAir': 10.047171, 'FIAT Tipo': 11.200232, 'FIAT 124 Spider': 17.46723, 'FIAT Doblo Multijet': 0, 'FORD Ka+': 11.609439, 'FORD Mustang Fastback': 16.734293, 'FORD Galaxy': 0, 'FORD Kuga 4x2': 9.385924, 'FORD Kuga 4x4': 9.64239, 'FORD Edge': 6.546139, 'HONDA Civic Sport': 12.980966, 'HONDA HR-V': 9.690616, 'HYUNDAI Kona': 10.420006, 'HYUNDAI Ioniq': 12.050654, 'HYUNDAI Tucson': 8.555336, 'HYUNDAI Santa': 10.03354, 'INFINITI Q30': 15.596912, 'INFINITI Q50 Sport': 13.874536, 'INFINITI Q60 Coupé': 12.970658, 'INFINITI QX30': 15.639176, 'JAGUAR XE Prestige': 11.854554, 'JAGUAR XE R-Sport': 14.907646, 'JAGUAR F-Type Coupe': 11.569477, 'JAGUAR E-Pace': 8.024842, 'JAGUAR F-Pace 4x4': 13.939207, 'JAGUAR F-Pace 4x2': 17.891365, 'JAGUAR F-Pace V6': 13.232293, 'JEEP Renegade': 11.98739, 'JEEP Renegade 4x4': 0, 'JEEP Compass 4x4': 11.396908, 'KIA Pro Cee’d GT Line': 16.364662, 'KIA Cee’d': 9.746482, 'KIA Stinger': 17.18917, 'KIA Niro': 9.909425, 'KIA Stonic': 13.512333, 'KIA Sportage 4x2': 16.710989, 'KIA Sportage GT Line 4x4': 14.275651, 'LAND ROVER Discovery Luxury': 13.727408, 'LAND ROVER Evoque': 18.814426, 'LAND ROVER Range Rover Velar': 15.871128, 'LAND ROVER Range Rover Sport': 13.944658, 'LEXUS CT Pack': 0, 'LEXUS IS Luxe': 15.318369, 'LEXUS GS Executive': 11.909086, 'LEXUS RC F SPORT': 17.92912, 'LEXUS NX 2WD Pack': 12.685411, 'LEXUS NX 4WD Pack': 15.76176, 'LEXUS RX F SPORT': 11.737362, 'MASERATI Levante Q4': 13.1221695, 'MASERATI Levante V6': 11.2766905, 'MAZDA MX-5': 15.007713, 'MAZDA CX-3': 13.753514, 'MAZDA CX-5 4x4': 14.830585, 'MERCEDES CLA 180': 9.828532, 'MERCEDES Classe C Break': 14.658896, 'MERCEDES Classe C Coupé': 11.490068, 'MERCEDES Classe E Break': 13.834008, 'MERCEDES Classe E Cabriolet': 15.121686, 'MERCEDES SLC 200 Sportline': 17.097805, 'MERCEDES SLC 43 9G-Tronic': 9.988987, 'MERCEDES Citan Tourer': 0, 'MERCEDES GLC AMG': 12.657557, 'MERCEDES GLC d': 11.211723, 'MERCEDES GLC 350': 11.766466, 'MERCEDES GLC Coupé': 13.737478, 'MERCEDES GLE 400': 11.318147, 'MERCEDES GLE 250': 8.549485, 'MERCEDES GLE 350': 15.386264, 'MERCEDES GLE Coupé 350': 14.1286125, 'Mini One': 9.306473, 'Mini Cooper': 17.94014, 'Mini Cooper S': 16.827541, 'Mini John Cooper Works': 15.159538, 'Mini One D': 13.206822, 'Mini Cooper D': 12.312879, 'Mini Cooper SD': 10.130191, 'Mini Cabrio Cooper': 13.733335, 'Mini Cabrio Cooper S': 17.386654, 'Mini Clubman One': 12.150164, 'Mini Clubman Cooper': 13.941272, 'Mini Clubman Cooper S': 13.513698, 'Mini Clubman One D': 13.33171, 'Mini Clubman Cooper D': 16.612087, 'Mini Clubman Cooper SD': 8.162024, 'Mini Countryman One': 12.105664, 'Mini Countryman Cooper': 9.212103, 'Mini Countryman Cooper S': 12.829064, 'Mini Countryman John Cooper Works': 17.94014, 'Mini Countryman Cooper SE': 9.9741125, 'Mini Countryman One D': 9.586818, 'Mini Countryman Cooper D': 9.377091, 'Mini Countryman Cooper SD': 10.130191, 'MITSUBISHI ASX WD': 3.8995254, 'MITSUBISHI Eclipse cross': 11.659855, 'OPEL Karl': 12.889941, 'OPEL Insignia Grand Sport': 11.316512, 'OPEL Insignia Tourer': 12.825972, 'OPEL Mokka X': 11.211452, 'OPEL Crossland X': 11.027467, 'OPEL Grandland X': 10.178414, 'PEUGEOT Partner Tepee': 0, 'PEUGEOT Traveller': 0, 'PORSCHE 718 Boxster': 18.169746, 'PORSCHE 718 Cayman': 17.339888, 'PORSCHE Macan': 10.090948, 'RENAULT Clio Estate': 11.414632, 'RENAULT Megane Estate': 11.2081175, 'RENAULT Scenic': 14.138702, 'RENAULT Grand Scenic': 8.876906, 'RENAULT Koleos 4x4': 12.444535, 'RENAULT Kadjar': 11.080701, 'RENAULT Talisman': 11.86936, 'SEAT Arona': 12.53059, 'SEAT Ateca': 14.138592, 'SKODA Fabia Break': 7.6386137, 'SKODA Rapid Spaceback': 9.700864, 'SKODA Karoq': 0, 'SKODA Karoq 4x4': 10.855585, 'SKODA Octavia Break': 8.349445, 'SKODA Superb Combi': 16.603617, 'SKODA Kodiaq': 0, 'smart Fortwo Coupe': 12.116642, 'smart Forfour passion': 11.58561, 'smart Forfour Brabus twinamic': 12.173927, 'SSANGYONG Tivoli': 11.391286, 'SUBARU XV': 8.100109, 'SUBARU Levorg': 6.974016, 'SUBARU Outback': 11.260615, 'SUBARU Forester': 10.8666115, 'SUZUKI Ignis': 10.589055, 'SUZUKI SX4 S-Cross': 11.133625, 'SUZUKI Baleno': 15.799341, 'TOYOTA Prius+': 11.4071, 'TOYOTA GT86': 14.596611, 'TOYOTA ProAce Verso': 0, 'TOYOTA C-HR': 11.702532, 'VOLKSWAGEN Golf SW': 10.759723, 'VOLKSWAGEN Coccinelle': 10.0098295, 'VOLKSWAGEN Arteon': 17.977165, 'VOLKSWAGEN T-Roc': 12.242647, 'VOLKSWAGEN Tiguan Allspace': 8.463652, 'VOLKSWAGEN Caddy': 0, 'VOLVO S90': 14.457269, 'VOLVO V90': 19.623755, 'VOLVO XC40': 11.172813}\n"
          ],
          "name": "stdout"
        }
      ]
    },
    {
      "cell_type": "code",
      "metadata": {
        "id": "bQjOxEogw4pz"
      },
      "source": [
        "Data_frame_argus=pd.DataFrame(global_dictionnary.items(), columns=['Modele', 'Scores'])"
      ],
      "execution_count": 21,
      "outputs": []
    },
    {
      "cell_type": "code",
      "metadata": {
        "colab": {
          "base_uri": "https://localhost:8080/",
          "height": 415
        },
        "id": "9Tql2DD03CeQ",
        "outputId": "e75144a2-1f18-4a4d-e789-5c76aca52c6a"
      },
      "source": [
        "Data_frame_argus"
      ],
      "execution_count": 22,
      "outputs": [
        {
          "output_type": "execute_result",
          "data": {
            "text/html": [
              "<div>\n",
              "<style scoped>\n",
              "    .dataframe tbody tr th:only-of-type {\n",
              "        vertical-align: middle;\n",
              "    }\n",
              "\n",
              "    .dataframe tbody tr th {\n",
              "        vertical-align: top;\n",
              "    }\n",
              "\n",
              "    .dataframe thead th {\n",
              "        text-align: right;\n",
              "    }\n",
              "</style>\n",
              "<table border=\"1\" class=\"dataframe\">\n",
              "  <thead>\n",
              "    <tr style=\"text-align: right;\">\n",
              "      <th></th>\n",
              "      <th>Modele</th>\n",
              "      <th>Scores</th>\n",
              "    </tr>\n",
              "  </thead>\n",
              "  <tbody>\n",
              "    <tr>\n",
              "      <th>0</th>\n",
              "      <td>ABARTH Spider</td>\n",
              "      <td>13.897646</td>\n",
              "    </tr>\n",
              "    <tr>\n",
              "      <th>1</th>\n",
              "      <td>ALFA ROMEO Giulietta</td>\n",
              "      <td>13.797576</td>\n",
              "    </tr>\n",
              "    <tr>\n",
              "      <th>2</th>\n",
              "      <td>ALFA ROMEO Giulia</td>\n",
              "      <td>11.900084</td>\n",
              "    </tr>\n",
              "    <tr>\n",
              "      <th>3</th>\n",
              "      <td>ALFA ROMEO Stelvio</td>\n",
              "      <td>14.015047</td>\n",
              "    </tr>\n",
              "    <tr>\n",
              "      <th>4</th>\n",
              "      <td>AUDI RS3 Sportback</td>\n",
              "      <td>14.148176</td>\n",
              "    </tr>\n",
              "    <tr>\n",
              "      <th>...</th>\n",
              "      <td>...</td>\n",
              "      <td>...</td>\n",
              "    </tr>\n",
              "    <tr>\n",
              "      <th>198</th>\n",
              "      <td>VOLKSWAGEN Tiguan Allspace</td>\n",
              "      <td>8.463652</td>\n",
              "    </tr>\n",
              "    <tr>\n",
              "      <th>199</th>\n",
              "      <td>VOLKSWAGEN Caddy</td>\n",
              "      <td>0.000000</td>\n",
              "    </tr>\n",
              "    <tr>\n",
              "      <th>200</th>\n",
              "      <td>VOLVO S90</td>\n",
              "      <td>14.457269</td>\n",
              "    </tr>\n",
              "    <tr>\n",
              "      <th>201</th>\n",
              "      <td>VOLVO V90</td>\n",
              "      <td>19.623755</td>\n",
              "    </tr>\n",
              "    <tr>\n",
              "      <th>202</th>\n",
              "      <td>VOLVO XC40</td>\n",
              "      <td>11.172813</td>\n",
              "    </tr>\n",
              "  </tbody>\n",
              "</table>\n",
              "<p>203 rows × 2 columns</p>\n",
              "</div>"
            ],
            "text/plain": [
              "                         Modele     Scores\n",
              "0                 ABARTH Spider  13.897646\n",
              "1          ALFA ROMEO Giulietta  13.797576\n",
              "2             ALFA ROMEO Giulia  11.900084\n",
              "3            ALFA ROMEO Stelvio  14.015047\n",
              "4            AUDI RS3 Sportback  14.148176\n",
              "..                          ...        ...\n",
              "198  VOLKSWAGEN Tiguan Allspace   8.463652\n",
              "199            VOLKSWAGEN Caddy   0.000000\n",
              "200                   VOLVO S90  14.457269\n",
              "201                   VOLVO V90  19.623755\n",
              "202                  VOLVO XC40  11.172813\n",
              "\n",
              "[203 rows x 2 columns]"
            ]
          },
          "metadata": {
            "tags": []
          },
          "execution_count": 22
        }
      ]
    },
    {
      "cell_type": "code",
      "metadata": {
        "id": "9-FpVaIG3QoB"
      },
      "source": [
        "resulat_scores_ancienne_BD={'ALFA ROMEO 159': 10.376559, 'ALFA ROMEO 4C': 14.831973, 'ALFA ROMEO AR8C SPIDER': 16.997547, 'ALFA ROMEO BRERA ': 13.123381, 'ALFA ROMEO GIULIETTA ': 15.250566, 'ALFA ROMEO MITO ': 20.782114, 'ALFA ROMEO SPIDER ': 13.698536, 'AUDI A1': 13.070835, 'AUDI S1': 14.704817, 'AUDI A1 SPORTBACK': 11.494576, 'AUDI S1 SPORTBACK': 14.6290455, 'AUDI A3': 12.202611, 'AUDI S3': 13.899887, 'AUDI A3 CABRIOLET': 17.024063, 'AUDI S3 CABRIOLET': 11.427822, 'AUDI A3 LIMOUSINE': 17.592258, 'AUDI S3 LIMOUSINE': 13.663857, 'AUDI A3 SPORTBACK': 12.575362, 'AUDI S3 SPORTBACK': 15.34195, 'AUDI A3 SPORTBACK E-TRON': 13.0824, 'AUDI RS 3 SPORTBACK': 15.906243, 'AUDI A4 AVANT': 15.978995, 'AUDI S4 AVANT': 14.233163, 'AUDI A4 ALLROAD QUATTRO': 11.446545, 'AUDI A4 LIMOUSINE': 10.945161, 'AUDI S4 LIMOUSINE': 15.13072, 'AUDI A5 COUPE': 15.654849, 'AUDI S5 COUPE': 14.206305, 'AUDI A5 CABRIOLET': 13.671553, 'AUDI S5 CABRIOLET': 19.236305, 'AUDI A5 SPORTBACK': 15.691305, 'AUDI S5 SPORTBACK': 10.581042, 'AUDI A6 AVANT': 10.787785, 'AUDI S6 AVANT': 13.64428, 'AUDI RS 6 AVANT': 14.197757, 'AUDI A6 ALLROAD QUATTRO': 10.174195, 'AUDI A6 LIMOUSINE': 9.957563, 'AUDI S6 LIMOUSINE': 15.734896, 'AUDI A7 SPORTBACK': 13.237353, 'AUDI S7 SPORTBACK': 17.846588, 'AUDI RS 7 SPORTBACK': 13.237353, 'AUDI A8L': 10.373586, 'AUDI A8LW12': 12.118509, 'AUDI A8': 10.373586, 'AUDI S8': 10.643647, 'AUDI Q3': 8.377413, 'AUDI Q5': 12.246614, 'AUDI SQ5 TDI': 11.582212, 'AUDI Q7': 9.223952, 'AUDI R8 COUPE': 18.469847, 'AUDI R8 SPYDER': 17.733513, 'AUDI TT COUPE ': 12.733743, 'AUDI TT ROADSTER ': 12.991097, 'AUDI TTS ROADSTER ': 12.433792, 'BENTLEY CONTINENTAL GT SPEED ': 17.184042, 'BENTLEY CONTINENTAL GT ': 14.640736, 'BENTLEY CONTINENTAL GT V8': 15.022977, 'BENTLEY CONTINENTAL GT V8 S': 12.632848, 'BENTLEY CONTINENTAL GT3-R': 14.848703, 'BENTLEY CONTINENTAL GT SPEED CONV ': 18.810688, 'BENTLEY CONTINENTAL GT CONV ': 15.574291, 'BENTLEY CONTINENTAL GT V8 CONV': 12.87875, 'BENTLEY CONTINENTAL GT V8 S CONV': 15.980573, 'BENTLEY FLYING SPUR W12': 10.21747, 'BENTLEY FLYING SPUR V8': 19.52326, 'BENTLEY MULSANNE ': 10.453824, 'BENTLEY MULSANNE SPEED ': 11.911858, 'BMW SERIE 1': 10.340026, 'BMW SERIE 2': 13.912762, 'BMW SERIE 3': 14.4522295, 'BMW SERIE 4': 18.626026, 'BMW SERIE 5': 16.956501, 'BMW SERIE 6': 14.464093, 'BMW SERIE 7': 12.999398, 'BMW M3': 14.554123, 'BMW M4': 18.015924, 'BMW M5': 15.073245, 'BMW SERIE X ': 9.406727, 'BMW SERIE Z ': 16.449146, 'BMW I SERIE I ': 10.203457, 'CADILLAC ATS ': 13.483189, 'CADILLAC CTS ': 14.539122, 'CADILLAC ESCALADE ': 6.8295455, 'CADILLAC SRX ': 0, 'CHEVROLET CAMARO ': 18.064613, 'CHEVROLET CORVETTE ': 19.571651, 'CITROEN BERLINGO ': 11.200632, 'CITROEN C-ZERO ': 0, 'CITROEN C1': 11.790014, 'CITROEN C3': 8.219314, 'CITROEN C3 PICASSO': 10.472655, 'CITROEN C4': 8.379906, 'CITROEN C4 AIRCROSS': 11.887551, 'CITROEN C4 CACTUS': 7.907484, 'CITROEN C4 PICASSO': 9.037332, 'CITROEN C5': 9.434932, 'CITROEN C8': 0, 'CITROEN DS3': 14.6051445, 'CITROEN DS4': 9.28043, 'CITROEN DS5': 9.713765, 'CITROEN JUMPER ': 0, 'CITROEN JUMPY ': 8.555829, 'CITROEN NEMO ': 8.161078, 'DANGEL BERLINGO ': 0, 'DANGEL JUMPER 4X4': 0, 'DANGEL JUMPY 4x4': 0, 'DANGEL NEMO TREK ': 0, 'DANGEL DUCATO 4x4': 0, 'DANGEL SCUDO 4x4': 0, 'DANGEL BIPPER TREK ': 11.272973, 'DANGEL BOXER 4X4': 0, 'DANGEL EXPERT 4x4': 0, 'DANGEL PARTNER ': 13.142806, 'DACIA DOKKER ': 0, 'DACIA DUSTER ': 0, 'DACIA LODGY ': 0, 'DACIA LOGAN ': 8.86528, 'DACIA SANDERO ': 9.532442, 'FERRARI 458': 17.532059, 'FERRARI CALIFORNIA ': 18.099144, 'FERRARI 12': 20.947376, 'FERRARI FF ': 13.946455, 'FERRARI LAFERRARI ': 22.412098, 'FIAT 500': 13.037354, 'FIAT 500C': 15.950784, 'FIAT 500 ABARTH': 12.118115, 'FIAT 500C ABARTH': 8.715285, 'FIAT 500L': 10.549083, 'FIAT BRAVO ': 11.166266, 'FIAT DOBLO ': 0, 'FIAT DUCATO ': 0, 'FIAT FIORINO ': 8.153634, 'FIAT FREEMONT ': 14.115106, 'FIAT PANDA ': 12.701095, 'FIAT PUNTO ': 11.269648, 'FIAT SCUDO ': 0, 'FIAT SEDICI ': 0, 'FORD B-MAX ': 10.634874, 'FORD GRAND C-MAX ': 8.965445, 'FORD C-MAX ': 8.269832, 'FORD ECOSPORT ': 11.955466, 'FORD FIESTA ': 10.199815, 'FORD FOCUS ': 15.305152, 'FORD KA ': 12.24943, 'FORD KUGA ': 15.055075, 'FORD MONDEO ': 11.213454, 'FORD S-MAX ': 11.386514, 'FORD TOURNEO ': 0, 'FORD TOURNEO COURIER ': 11.205654, 'FORD TOURNEO CUSTOM ': 0, 'FORD TRANSIT ': 0, 'FORD TRANSIT CUSTOM ': 0, 'FORD-CNG-TECHNIK MONDEO HYBRID ': 17.451982, 'HONDA ACCORD ': 12.916486, 'HONDA CIVIC ': 12.785089, 'HONDA CR-V ': 11.140395, 'HONDA CR-Z ': 11.935406, 'HONDA INSIGHT ': 9.0046625, 'HONDA JAZZ ': 12.84994, 'HONDA JAZZ HYBRID ': 9.121473, 'HYUNDAI GENESIS ': 14.624572, 'HYUNDAI I 10': 14.154625, 'HYUNDAI I 20': 12.106484, 'HYUNDAI I 30': 12.721966, 'HYUNDAI I40': 13.83507, 'HYUNDAI IX20': 10.405546, 'HYUNDAI IX 35': 9.628035, 'HYUNDAI SANTA FE ': 11.691709, 'HYUNDAI VELOSTER ': 14.502788, 'INFINITI Q50': 14.993926, 'INFINITI Q60': 15.45472, 'INFINITI Q70': 15.480587, 'INFINITI QX50': 12.913082, 'INFINITI QX70': 11.018745, 'JAGUAR F-TYPE ': 17.910227, 'JAGUAR XF ': 11.475313, 'JAGUAR XF SPORTBRAKE ': 13.530283, 'JAGUAR XJ ': 13.10983, 'JEEP CHEROKEE ': 0, 'JEEP COMPASS ': 9.461135, 'JEEP GRAND CHEROKEE ': 14.845713, 'JEEP GRAND CHEROKEE SRT8': 12.397548, 'JEEP WRANGLER ': 0, 'JEEP WRANGLER UNLIMITED ': 0, 'KIA CARENS ': 11.747878, \"KIA CEE'D \": 9.746482, 'KIA OPTIMA ': 17.375856, 'KIA PICANTO ': 12.926582, 'KIA RIO ': 9.2249155, 'KIA SORENTO ': 11.384877, 'KIA SOUL ': 9.509423, 'KIA SPORTAGE ': 13.260007, 'KIA VENGA ': 11.353968, 'LADA 4X4': 8.191124, 'LAMBORGHINI AVENTADOR ': 16.398157, 'LAMBORGHINI GALLARDO ': 16.292963, 'LAMBORGHINI HURACAN ': 20.404951, 'LANCIA DELTA ': 12.737686, 'LANCIA FLAVIA ': 11.448386, 'LANCIA MUSA ': 8.930084, 'LANCIA THEMA ': 10.545906, 'LANCIA VOYAGER ': 11.853029, 'LANCIA YPSILON ': 11.0707855, 'LAND ROVER DISCOVERY ': 9.464237, 'LAND ROVER DISCOVERY SPORT ': 12.264362, 'LAND ROVER FREELANDER ': 9.235557, 'RANGE ROVER ': 11.816732, 'RANGE ROVER EVOQUE ': 18.814426, 'RANGE ROVER SPORT ': 10.528304, 'LEXUS CT200H': 10.912318, 'LEXUS GS450': 12.098097, 'LEXUS GS300': 9.572818, 'LEXUS GS250': 13.606593, 'LEXUS IS F ': 12.016998, 'LEXUS IS220': 12.923829, 'LEXUS IS200': 14.905552, 'LEXUS IS300H': 16.833502, 'LEXUS IS250': 17.464722, 'LEXUS LEXUS LFA ': 17.24971, 'LEXUS LS460': 14.577887, 'LEXUS LS600': 12.175249, 'LEXUS NX200T': 12.523384, 'LEXUS NX300H': 16.280209, 'LEXUS LEXUS RC F ': 19.68581, 'LEXUS RX350': 11.66918, 'LEXUS RX450H': 18.873453, 'MASERATI GHIBLI S ': 14.001314, 'MASERATI GHIBLI S Q4': 13.238889, 'MASERATI GHIBLI ': 19.983189, 'MASERATI GHIBLI DIESEL ': 16.052813, 'MASERATI GRANCABRIO ': 12.465559, 'MASERATI GRANCABRIO SPORT ': 13.646898, 'MASERATI GRANCABRIO MC ': 14.147495, 'MASERATI GRANTURISMO ': 20.471859, 'MASERATI GRANTURISMO SPORT ': 21.062035, 'MASERATI QUATTROPORTE GTS ': 13.887167, 'MASERATI QUATTROPORTE ': 13.876429, 'MASERATI QUATTROPORTE S ': 11.745634, 'MASERATI QUATTROPORTE S Q4': 7.9793625, 'MASERATI QUATTROPORTE DIESEL ': 14.599355, 'MAZDA MAZDA 2': 13.011833, 'MAZDA MAZDA 3': 13.753514, 'MAZDA MAZDA 5': 14.311469, 'MAZDA MAZDA 6': 14.399532, 'MAZDA MAZDA CX-5': 14.311469, 'MAZDA MX-5': 19.869251, 'MERCEDES CLASSE A ': 14.135773, 'MERCEDES GT ': 20.089434, 'MERCEDES CLASSE B ': 8.056934, 'MERCEDES CLASSE C ': 12.077814, 'MERCEDES CITAN ': 0, 'MERCEDES CLASSE CL ': 13.066196, 'MERCEDES CLASSE CLA ': 16.727411, 'MERCEDES CLASSE V ': 10.444625, 'MERCEDES CLASSE CLS ': 13.947634, 'MERCEDES CLASSE E ': 15.095927, 'MERCEDES CLASSE G ': 9.017655, 'MERCEDES CLASSE GL ': 11.327351, 'MERCEDES CLASSE M ': 10.114692, 'MERCEDES CLASSE GLA ': 11.527395, 'MERCEDES CLASSE S ': 10.238022, 'MERCEDES S63 AMG': 10.87719, 'MERCEDES S65 AMG': 19.309439, 'MERCEDES CLASSE SL ': 18.249819, 'MERCEDES CLASSE SLK ': 14.026109, 'MERCEDES SLS AMG ': 15.007809, 'MERCEDES SPRINTER ': 0, 'MERCEDES VITO ': 9.708964, 'MINI MINI ': 13.294758, 'MITSUBISHI ASX ': 16.47491, 'MITSUBISHI I-MIEV ': 8.568532, 'MITSUBISHI OUTLANDER ': 13.241561, 'MITSUBISHI PAJERO ': 18.387987, 'MITSUBISHI SPACE STAR ': 11.510229, 'NISSAN 370Z': 13.748858, 'NISSAN 370Z ROADSTER': 13.748858, 'NISSAN GT-R ': 15.198308, 'NISSAN JUKE ': 16.230776, 'NISSAN LEAF ': 10.627826, 'NISSAN MICRA ': 14.881414, 'NISSAN MURANO ': 14.12509, 'NISSAN NOTE ': 8.594523, 'NISSAN NV200': 0, 'NISSAN E-NV200': 0, 'NISSAN NV300': 9.111602, 'NISSAN NV400': 0, 'NISSAN PULSAR ': 10.265837, 'NISSAN QASHQAI ': 15.988812, 'NISSAN X-TRAIL ': 9.433926, 'OPEL ADAM ': 11.733893, 'OPEL AGILA ': 12.203449, 'OPEL AMPERA ': 13.5043745, 'OPEL ANTARA ': 0, 'OPEL ASTRA GTC ': 15.57448, 'OPEL ASTRA SPORTS TOURER ': 9.876941, 'OPEL ASTRA ': 10.228082, 'OPEL CASCADA ': 26.73579, 'OPEL COMBO ': 0, 'OPEL CORSA ': 15.095334, 'OPEL INSIGNIA ': 15.23494, 'OPEL MERIVA ': 12.419812, 'OPEL MOKKA ': 12.370312, 'OPEL MOVANO ': 0, 'OPEL VIVARO ': 7.2132297, 'OPEL ZAFIRA TOURER ': 10.792505, 'PEUGEOT 108': 10.855825, 'PEUGEOT 2008': 15.917138, 'PEUGEOT 207': 11.40547, 'PEUGEOT 208': 15.68458, 'PEUGEOT 3008': 13.606207, 'PEUGEOT 308': 13.036921, 'PEUGEOT 4008': 10.189456, 'PEUGEOT 5008': 15.472451, 'PEUGEOT 508': 14.689935, 'PEUGEOT BIPPER ': 0, 'PEUGEOT BIPPER TREK ': 11.272973, 'PEUGEOT BOXER 4X4': 0, 'PEUGEOT BOXER ': 0, 'PEUGEOT EXPERT 4x4': 0, 'PEUGEOT EXPERT ': 0, 'PEUGEOT ION ': 9.166283, 'PEUGEOT PARTNER ': 8.186521, 'PEUGEOT RCZ ': 17.685207, 'PORSCHE 911': 15.552532, 'PORSCHE 911 GT3 RS': 11.6944275, 'PORSCHE 911 TURBO': 17.907602, 'PORSCHE 911 TURBO S': 15.143225, 'PORSCHE 918 SPYDER': 17.817728, 'PORSCHE BOXSTER ': 20.11393, 'PORSCHE BOXSTER S ': 14.886269, 'PORSCHE BOXSTER GTS ': 14.848888, 'PORSCHE CAYENNE ': 12.048587, 'PORSCHE CAYENNE DIESEL ': 11.097528, 'PORSCHE CAYENNE S DIESEL ': 10.92107, 'PORSCHE CAYENNE S ': 13.459955, 'PORSCHE CAYENNE TURBO ': 11.913914, 'PORSCHE CAYENNE GTS ': 9.861058, 'PORSCHE CAYENNE S E-HYBRID ': 14.441405, 'PORSCHE CAYMAN ': 14.864591, 'PORSCHE CAYMAN S ': 15.306742, 'PORSCHE CAYMAN GTS ': 17.339888, 'PORSCHE MACAN S ': 7.5418077, 'PORSCHE MACAN TURBO ': 12.837037, 'PORSCHE MACAN S DIESEL ': 16.10678, 'PORSCHE PANAMERA ': 13.134773, 'PORSCHE PANAMERA 4': 13.621759, 'PORSCHE PANAMERA S ': 16.011396, 'PORSCHE PANAMERA 4S': 17.825016, 'PORSCHE PANAMERA TURBO ': 14.241129, 'PORSCHE PANAMERA TURBO S ': 13.730783, 'PORSCHE PANAMERA GTS ': 14.758581, 'PORSCHE PANAMERA DIESEL ': 10.842545, 'PORSCHE PANAMERA S E-HYBRID ': 13.26183, 'RENAULT CAPTUR ': 12.6281805, 'RENAULT CLIO ': 17.10837, 'RENAULT ESPACE ': 11.708909, 'RENAULT KANGOO ': 0, 'RENAULT KOLEOS ': 7.6188564, 'RENAULT LAGUNA ': 8.078411, 'RENAULT LATITUDE ': 9.121569, 'RENAULT MASTER ': 0, 'RENAULT MEGANE ': 10.583999, 'RENAULT MEGANE SCENIC ': 9.844272, 'RENAULT TRAFIC ': 6.594412, 'RENAULT TWINGO ': 9.3776455, 'RENAULT ZOE ': 13.326799, 'ROLLS ROYCE GHOST ': 11.68263, 'ROLLS ROYCE PHANTOM ': 12.751983, 'ROLLS ROYCE PHANTOM COUPE ': 12.938082, 'ROLLS ROYCE PHANTOM DROPHEAD COUPE ': 13.973478, 'ROLLS ROYCE WRAITH ': 10.272389, 'SEAT ALHAMBRA ': 10.898079, 'SEAT ALTEA XL ': 10.984633, 'SEAT ALTEA ': 7.549727, 'SEAT IBIZA ': 9.547657, 'SEAT IBIZA ST ': 10.566839, 'SEAT LEON ': 12.5296135, 'SEAT LEON SC ': 13.686207, 'SEAT LEON ST ': 8.3329935, 'SEAT LEON X-PERIENCE ': 0, 'SEAT MII ': 0, 'SEAT TOLEDO ': 7.5649137, 'SKODA CITIGO ': 0, 'SKODA FABIA ': 12.924513, 'SKODA OCTAVIA ': 11.535574, 'SKODA RAPID ': 15.159609, 'SKODA ROOMSTER ': 7.755013, 'SKODA SUPERB ': 14.494593, 'SKODA YETI ': 13.104462, 'SMART FORFOUR ': 16.755281, 'SMART FORTWO ': 15.614614, 'SSANGYONG KORANDO ': 12.471124, 'SSANGYONG REXTON ': 12.160463, 'SSANGYONG RODIUS ': 8.584515, 'SUBARU BRZ ': 12.272608, 'SUBARU FORESTER ': 10.8666115, 'SUBARU WRX ': 14.988398, 'SUBARU SUBARU XV ': 10.006526, 'SUZUKI CELERIO ': 11.421181, 'SUZUKI JIMNY ': 0, 'SUZUKI SWIFT ': 16.139866, 'SUZUKI SWIFT SPORT ': 17.015526, 'SUZUKI SX4': 12.937935, 'SUZUKI VITARA ': 8.194678, 'TESLA MODEL S ': 13.740893, 'TOYOTA AURIS ': 12.75496, 'TOYOTA AVENSIS ': 10.337845, 'TOYOTA AYGO ': 10.552433, 'TOYOTA 86': 19.474072, 'TOYOTA IQ ': 14.963542, 'TOYOTA LAND CRUISER 150': 0, 'TOYOTA LAND CRUISER ': 0, 'TOYOTA PRIUS ': 14.029686, 'TOYOTA PRIUS PLUS ': 11.76405, 'TOYOTA RAV4': 12.136996, 'TOYOTA VERSO ': 11.291167, 'TOYOTA VERSO S ': 11.264598, 'TOYOTA YARIS ': 11.249686, 'TOYOTA YARIS HYBRID ': 9.9763975, 'VOLKSWAGEN CC ': 14.142168, 'VOLKSWAGEN BEETLE ': 14.038847, 'VOLKSWAGEN CRAFTER ': 0, 'VOLKSWAGEN EOS ': 12.606484, 'VOLKSWAGEN GOLF ': 11.701199, 'VOLKSWAGEN GOLF SPORTSVAN ': 8.809007, 'VOLKSWAGEN JETTA ': 11.4616, 'VOLKSWAGEN PASSAT ': 15.506525, 'VOLKSWAGEN PHAETON ': 12.109754, 'VOLKSWAGEN POLO ': 10.302527, 'VOLKSWAGEN SCIROCCO ': 18.014091, 'VOLKSWAGEN SHARAN ': 0, 'VOLKSWAGEN TIGUAN ': 13.440063, 'VOLKSWAGEN TOUAREG ': 12.980075, 'VOLKSWAGEN TOURAN ': 10.22341, 'VOLKSWAGEN UP! ': 0, 'VOLVO S60': 13.6968355, 'VOLVO S80': 11.6312685, 'VOLVO V40': 12.6486435, 'VOLVO V40 CROSS COUNTRY': 12.92247, 'VOLVO V60': 13.201442, 'VOLVO V60 HYBRID': 13.822271, 'VOLVO V70': 12.0949745, 'VOLVO XC60': 15.348769, 'VOLVO XC70': 0, 'VOLVO XC90': 11.96579}"
      ],
      "execution_count": 23,
      "outputs": []
    },
    {
      "cell_type": "code",
      "metadata": {
        "id": "MF4WtN1o3g4J"
      },
      "source": [
        "Data_frame_ancienne_BD=pd.DataFrame(resulat_scores_ancienne_BD.items(), columns=['Modele', 'Scores'])"
      ],
      "execution_count": 24,
      "outputs": []
    },
    {
      "cell_type": "code",
      "metadata": {
        "colab": {
          "base_uri": "https://localhost:8080/",
          "height": 415
        },
        "id": "T-sq08k64U1t",
        "outputId": "03ab240b-10b8-45a2-f2d2-f5e0c5f0914a"
      },
      "source": [
        "Data_frame_ancienne_BD"
      ],
      "execution_count": 28,
      "outputs": [
        {
          "output_type": "execute_result",
          "data": {
            "text/html": [
              "<div>\n",
              "<style scoped>\n",
              "    .dataframe tbody tr th:only-of-type {\n",
              "        vertical-align: middle;\n",
              "    }\n",
              "\n",
              "    .dataframe tbody tr th {\n",
              "        vertical-align: top;\n",
              "    }\n",
              "\n",
              "    .dataframe thead th {\n",
              "        text-align: right;\n",
              "    }\n",
              "</style>\n",
              "<table border=\"1\" class=\"dataframe\">\n",
              "  <thead>\n",
              "    <tr style=\"text-align: right;\">\n",
              "      <th></th>\n",
              "      <th>Modele</th>\n",
              "      <th>Scores</th>\n",
              "    </tr>\n",
              "  </thead>\n",
              "  <tbody>\n",
              "    <tr>\n",
              "      <th>0</th>\n",
              "      <td>ALFA ROMEO 159</td>\n",
              "      <td>10.376559</td>\n",
              "    </tr>\n",
              "    <tr>\n",
              "      <th>1</th>\n",
              "      <td>ALFA ROMEO 4C</td>\n",
              "      <td>14.831973</td>\n",
              "    </tr>\n",
              "    <tr>\n",
              "      <th>2</th>\n",
              "      <td>ALFA ROMEO AR8C SPIDER</td>\n",
              "      <td>16.997547</td>\n",
              "    </tr>\n",
              "    <tr>\n",
              "      <th>3</th>\n",
              "      <td>ALFA ROMEO BRERA</td>\n",
              "      <td>13.123381</td>\n",
              "    </tr>\n",
              "    <tr>\n",
              "      <th>4</th>\n",
              "      <td>ALFA ROMEO GIULIETTA</td>\n",
              "      <td>15.250566</td>\n",
              "    </tr>\n",
              "    <tr>\n",
              "      <th>...</th>\n",
              "      <td>...</td>\n",
              "      <td>...</td>\n",
              "    </tr>\n",
              "    <tr>\n",
              "      <th>440</th>\n",
              "      <td>VOLVO V60 HYBRID</td>\n",
              "      <td>13.822271</td>\n",
              "    </tr>\n",
              "    <tr>\n",
              "      <th>441</th>\n",
              "      <td>VOLVO V70</td>\n",
              "      <td>12.094974</td>\n",
              "    </tr>\n",
              "    <tr>\n",
              "      <th>442</th>\n",
              "      <td>VOLVO XC60</td>\n",
              "      <td>15.348769</td>\n",
              "    </tr>\n",
              "    <tr>\n",
              "      <th>443</th>\n",
              "      <td>VOLVO XC70</td>\n",
              "      <td>0.000000</td>\n",
              "    </tr>\n",
              "    <tr>\n",
              "      <th>444</th>\n",
              "      <td>VOLVO XC90</td>\n",
              "      <td>11.965790</td>\n",
              "    </tr>\n",
              "  </tbody>\n",
              "</table>\n",
              "<p>445 rows × 2 columns</p>\n",
              "</div>"
            ],
            "text/plain": [
              "                     Modele     Scores\n",
              "0            ALFA ROMEO 159  10.376559\n",
              "1             ALFA ROMEO 4C  14.831973\n",
              "2    ALFA ROMEO AR8C SPIDER  16.997547\n",
              "3         ALFA ROMEO BRERA   13.123381\n",
              "4     ALFA ROMEO GIULIETTA   15.250566\n",
              "..                      ...        ...\n",
              "440        VOLVO V60 HYBRID  13.822271\n",
              "441               VOLVO V70  12.094974\n",
              "442              VOLVO XC60  15.348769\n",
              "443              VOLVO XC70   0.000000\n",
              "444              VOLVO XC90  11.965790\n",
              "\n",
              "[445 rows x 2 columns]"
            ]
          },
          "metadata": {
            "tags": []
          },
          "execution_count": 28
        }
      ]
    },
    {
      "cell_type": "code",
      "metadata": {
        "id": "1bKacS5p3m2x"
      },
      "source": [
        "frames = [Data_frame_argus, Data_frame_ancienne_BD]\n",
        "Base_donnee_finale = pd.concat(frames)"
      ],
      "execution_count": 26,
      "outputs": []
    },
    {
      "cell_type": "code",
      "metadata": {
        "id": "jQxJ6vD_4PgP"
      },
      "source": [
        "BD=Base_donnee_finale.sort_values('Modele')"
      ],
      "execution_count": 38,
      "outputs": []
    },
    {
      "cell_type": "code",
      "metadata": {
        "id": "bAjJqbri7pxs"
      },
      "source": [
        "BD_finale=BD.reset_index(drop=True)"
      ],
      "execution_count": 43,
      "outputs": []
    },
    {
      "cell_type": "code",
      "metadata": {
        "colab": {
          "base_uri": "https://localhost:8080/",
          "height": 415
        },
        "id": "Lev3slmT7x0A",
        "outputId": "ee508f42-7538-4c84-baaa-f17420184031"
      },
      "source": [
        "BD_finale"
      ],
      "execution_count": 44,
      "outputs": [
        {
          "output_type": "execute_result",
          "data": {
            "text/html": [
              "<div>\n",
              "<style scoped>\n",
              "    .dataframe tbody tr th:only-of-type {\n",
              "        vertical-align: middle;\n",
              "    }\n",
              "\n",
              "    .dataframe tbody tr th {\n",
              "        vertical-align: top;\n",
              "    }\n",
              "\n",
              "    .dataframe thead th {\n",
              "        text-align: right;\n",
              "    }\n",
              "</style>\n",
              "<table border=\"1\" class=\"dataframe\">\n",
              "  <thead>\n",
              "    <tr style=\"text-align: right;\">\n",
              "      <th></th>\n",
              "      <th>Modele</th>\n",
              "      <th>Scores</th>\n",
              "    </tr>\n",
              "  </thead>\n",
              "  <tbody>\n",
              "    <tr>\n",
              "      <th>0</th>\n",
              "      <td>ABARTH Spider</td>\n",
              "      <td>13.897646</td>\n",
              "    </tr>\n",
              "    <tr>\n",
              "      <th>1</th>\n",
              "      <td>ALFA ROMEO 159</td>\n",
              "      <td>10.376559</td>\n",
              "    </tr>\n",
              "    <tr>\n",
              "      <th>2</th>\n",
              "      <td>ALFA ROMEO 4C</td>\n",
              "      <td>14.831973</td>\n",
              "    </tr>\n",
              "    <tr>\n",
              "      <th>3</th>\n",
              "      <td>ALFA ROMEO AR8C SPIDER</td>\n",
              "      <td>16.997547</td>\n",
              "    </tr>\n",
              "    <tr>\n",
              "      <th>4</th>\n",
              "      <td>ALFA ROMEO BRERA</td>\n",
              "      <td>13.123381</td>\n",
              "    </tr>\n",
              "    <tr>\n",
              "      <th>...</th>\n",
              "      <td>...</td>\n",
              "      <td>...</td>\n",
              "    </tr>\n",
              "    <tr>\n",
              "      <th>643</th>\n",
              "      <td>VOLVO XC70</td>\n",
              "      <td>0.000000</td>\n",
              "    </tr>\n",
              "    <tr>\n",
              "      <th>644</th>\n",
              "      <td>VOLVO XC90</td>\n",
              "      <td>11.965790</td>\n",
              "    </tr>\n",
              "    <tr>\n",
              "      <th>645</th>\n",
              "      <td>smart Forfour Brabus twinamic</td>\n",
              "      <td>12.173927</td>\n",
              "    </tr>\n",
              "    <tr>\n",
              "      <th>646</th>\n",
              "      <td>smart Forfour passion</td>\n",
              "      <td>11.585610</td>\n",
              "    </tr>\n",
              "    <tr>\n",
              "      <th>647</th>\n",
              "      <td>smart Fortwo Coupe</td>\n",
              "      <td>12.116642</td>\n",
              "    </tr>\n",
              "  </tbody>\n",
              "</table>\n",
              "<p>648 rows × 2 columns</p>\n",
              "</div>"
            ],
            "text/plain": [
              "                            Modele     Scores\n",
              "0                    ABARTH Spider  13.897646\n",
              "1                   ALFA ROMEO 159  10.376559\n",
              "2                    ALFA ROMEO 4C  14.831973\n",
              "3           ALFA ROMEO AR8C SPIDER  16.997547\n",
              "4                ALFA ROMEO BRERA   13.123381\n",
              "..                             ...        ...\n",
              "643                     VOLVO XC70   0.000000\n",
              "644                     VOLVO XC90  11.965790\n",
              "645  smart Forfour Brabus twinamic  12.173927\n",
              "646          smart Forfour passion  11.585610\n",
              "647             smart Fortwo Coupe  12.116642\n",
              "\n",
              "[648 rows x 2 columns]"
            ]
          },
          "metadata": {
            "tags": []
          },
          "execution_count": 44
        }
      ]
    },
    {
      "cell_type": "code",
      "metadata": {
        "id": "iqQsAF6D79uh"
      },
      "source": [
        "writer = pd.ExcelWriter('BD_finale.xlsx')\n",
        "# write dataframe to excel\n",
        "BD_finale.to_excel(writer)\n",
        "# save the excel\n",
        "writer.save()"
      ],
      "execution_count": 46,
      "outputs": []
    }
  ]
}