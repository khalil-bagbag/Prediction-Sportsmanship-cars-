{
  "nbformat": 4,
  "nbformat_minor": 0,
  "metadata": {
    "colab": {
      "name": "Prediction_With_Scores.ipynb",
      "provenance": [],
      "collapsed_sections": [],
      "authorship_tag": "ABX9TyOJjkHP7D0nUwd2nlYBcgVe",
      "include_colab_link": true
    },
    "kernelspec": {
      "display_name": "Python 3",
      "name": "python3"
    },
    "language_info": {
      "name": "python"
    }
  },
  "cells": [
    {
      "cell_type": "markdown",
      "metadata": {
        "id": "view-in-github",
        "colab_type": "text"
      },
      "source": [
        "<a href=\"https://colab.research.google.com/github/khalil-bagbag/Prediction-Sportsmanship-cars-/blob/main/Prediction_With_Scores.ipynb\" target=\"_parent\"><img src=\"https://colab.research.google.com/assets/colab-badge.svg\" alt=\"Open In Colab\"/></a>"
      ]
    },
    {
      "cell_type": "code",
      "metadata": {
        "colab": {
          "base_uri": "https://localhost:8080/"
        },
        "id": "ha5O1aEzBLhK",
        "outputId": "535a72a5-6b92-4f5a-a38e-5097b7add5f6"
      },
      "source": [
        "from google.colab import drive\n",
        "drive.mount('/content/gdrive')"
      ],
      "execution_count": null,
      "outputs": [
        {
          "output_type": "stream",
          "text": [
            "Mounted at /content/gdrive\n"
          ],
          "name": "stdout"
        }
      ]
    },
    {
      "cell_type": "code",
      "metadata": {
        "id": "Qt5z_8a-D-Gt"
      },
      "source": [
        "from tensorflow.keras.preprocessing import image as image_utils\n",
        "from tensorflow.keras.applications.vgg16 import preprocess_input\n",
        "import matplotlib.pyplot as plt\n",
        "import matplotlib.image as mpimg\n",
        "from tensorflow.keras.applications import VGG16\n",
        "from tensorflow.keras.applications.vgg16 import decode_predictions"
      ],
      "execution_count": null,
      "outputs": []
    },
    {
      "cell_type": "code",
      "metadata": {
        "colab": {
          "base_uri": "https://localhost:8080/"
        },
        "id": "lWoYR9m8DzmS",
        "outputId": "089e4188-be51-4742-f474-b02c5ebc2c24"
      },
      "source": [
        "# load the VGG16 network *pre-trained* on the ImageNet dataset\n",
        "model = VGG16(weights=\"imagenet\",classifier_activation=None)"
      ],
      "execution_count": null,
      "outputs": [
        {
          "output_type": "stream",
          "text": [
            "Downloading data from https://storage.googleapis.com/tensorflow/keras-applications/vgg16/vgg16_weights_tf_dim_ordering_tf_kernels.h5\n",
            "553467904/553467096 [==============================] - 4s 0us/step\n"
          ],
          "name": "stdout"
        }
      ]
    },
    {
      "cell_type": "code",
      "metadata": {
        "id": "pZRDoSH8Dzo2"
      },
      "source": [
        "def load_and_process_image(image_path):\n",
        "    # Load in the image with a target size of 224,224\n",
        "    image = image_utils.load_img(image_path, target_size=(224, 224))\n",
        "    # Convert the image from a PIL format to a numpy array\n",
        "    image = image_utils.img_to_array(image)\n",
        "    # Add a dimension for number of images, in our case 1\n",
        "    image = image.reshape(1,224,224,3)\n",
        "    # Preprocess image to align with original ImageNet dataset\n",
        "    image = preprocess_input(image)\n",
        "    \n",
        "    return image"
      ],
      "execution_count": null,
      "outputs": []
    },
    {
      "cell_type": "code",
      "metadata": {
        "id": "odAnS85WEMU7"
      },
      "source": [
        "def readable_prediction(image_path):\n",
        "    # Load and pre-process image\n",
        "    image = load_and_process_image(image_path)\n",
        "    # Make predictions\n",
        "    predictions = model.predict_on_batch(image)\n",
        "    # Print predictions in readable form\n",
        "    #print(predictions)\n",
        "    print('Predicted:', decode_predictions(predictions,top=10))\n",
        "    #print(predictions.sum())"
      ],
      "execution_count": null,
      "outputs": []
    },
    {
      "cell_type": "code",
      "metadata": {
        "colab": {
          "base_uri": "https://localhost:8080/"
        },
        "id": "oQ02wFRvEQk-",
        "outputId": "9e8443d2-f79c-4bb4-a1d4-0d9fe4b5b53d"
      },
      "source": [
        "readable_prediction(\"/content/gdrive/My Drive/mobmod/Afla_Romeo_Audi/AUDI_A3/AUDI_A3.jpeg\")"
      ],
      "execution_count": null,
      "outputs": [
        {
          "output_type": "stream",
          "text": [
            "Downloading data from https://storage.googleapis.com/download.tensorflow.org/data/imagenet_class_index.json\n",
            "40960/35363 [==================================] - 0s 0us/step\n",
            "Predicted: [[('n02814533', 'beach_wagon', 12.340133), ('n04285008', 'sports_car', 12.202611), ('n04037443', 'racer', 12.092017), ('n03895866', 'passenger_car', 11.2339525), ('n03930630', 'pickup', 11.169044), ('n03459775', 'grille', 10.9615345), ('n02974003', 'car_wheel', 10.949751), ('n03100240', 'convertible', 10.6382675), ('n02930766', 'cab', 10.321535), ('n03670208', 'limousine', 9.518795)]]\n"
          ],
          "name": "stdout"
        }
      ]
    },
    {
      "cell_type": "code",
      "metadata": {
        "id": "3UjzWzs2EYN1"
      },
      "source": [
        "def sportivity(image_path):\n",
        "    image = load_and_process_image(image_path)\n",
        "    preds = model.predict(image)\n",
        "    pourcentage_sport_Car=0\n",
        "    pourcentage_convertible=0\n",
        "    for i in range(9):\n",
        "        if (decode_predictions(preds,top=10)[0][i][1]) =='sports_car':\n",
        "            pourcentage_sport_Car=(decode_predictions(preds,top=10)[0][i][2])\n",
        "        elif (decode_predictions(preds,top=10)[0][i][1]) =='convertible':\n",
        "            pourcentage_convertible=(decode_predictions(preds,top=10)[0][i][2])\n",
        "    if pourcentage_sport_Car > pourcentage_convertible :\n",
        "      val=pourcentage_sport_Car\n",
        "    else:\n",
        "      val=pourcentage_convertible\n",
        "\n",
        "    return val"
      ],
      "execution_count": null,
      "outputs": []
    },
    {
      "cell_type": "code",
      "metadata": {
        "colab": {
          "base_uri": "https://localhost:8080/"
        },
        "id": "AS5ruH3NEkcf",
        "outputId": "a4aa8e8b-ac38-46eb-dd05-04a59aef26f4"
      },
      "source": [
        "sportivity(\"/content/gdrive/My Drive/mobmod/Afla_Romeo_Audi/AUDI_A3/AUDI_A3.jpeg\")"
      ],
      "execution_count": null,
      "outputs": [
        {
          "output_type": "execute_result",
          "data": {
            "text/plain": [
              "12.202611"
            ]
          },
          "metadata": {
            "tags": []
          },
          "execution_count": 9
        }
      ]
    },
    {
      "cell_type": "code",
      "metadata": {
        "id": "ZWdP7_F1Ep7V"
      },
      "source": [
        "alpha_audi=['ALFA ROMEO 159', 'ALFA ROMEO 4C', 'ALFA ROMEO AR8C SPIDER', 'ALFA ROMEO BRERA ', 'ALFA ROMEO GIULIETTA ', 'ALFA ROMEO MITO ', 'ALFA ROMEO SPIDER ', 'AUDI A1', 'AUDI S1', 'AUDI A1 SPORTBACK', 'AUDI S1 SPORTBACK', 'AUDI A3', 'AUDI S3', 'AUDI A3 CABRIOLET', 'AUDI S3 CABRIOLET', 'AUDI A3 LIMOUSINE', 'AUDI S3 LIMOUSINE', 'AUDI A3 SPORTBACK', 'AUDI S3 SPORTBACK', 'AUDI A3 SPORTBACK E-TRON', 'AUDI RS 3 SPORTBACK', 'AUDI A4 AVANT', 'AUDI S4 AVANT', 'AUDI A4 ALLROAD QUATTRO', 'AUDI A4 LIMOUSINE', 'AUDI S4 LIMOUSINE', 'AUDI A5 COUPE', 'AUDI S5 COUPE', 'AUDI A5 CABRIOLET', 'AUDI S5 CABRIOLET', 'AUDI A5 SPORTBACK', 'AUDI S5 SPORTBACK', 'AUDI A6 AVANT', 'AUDI S6 AVANT', 'AUDI RS 6 AVANT', 'AUDI A6 ALLROAD QUATTRO', 'AUDI A6 LIMOUSINE', 'AUDI S6 LIMOUSINE', 'AUDI A7 SPORTBACK', 'AUDI S7 SPORTBACK', 'AUDI RS 7 SPORTBACK', 'AUDI A8L', 'AUDI A8LW12', 'AUDI A8', 'AUDI S8', 'AUDI Q3', 'AUDI Q5', 'AUDI SQ5 TDI', 'AUDI Q7', 'AUDI R8 COUPE', 'AUDI R8 SPYDER', 'AUDI TT COUPE ', 'AUDI TT ROADSTER ', 'AUDI TTS ROADSTER ']"
      ],
      "execution_count": null,
      "outputs": []
    },
    {
      "cell_type": "code",
      "metadata": {
        "id": "oBhf0BekE7Gv"
      },
      "source": [
        "import re\n",
        "import os\n",
        "from os import listdir\n",
        "from os.path import isfile, join\n",
        "resultat_alpha_audi = {}\n",
        "for i in range(len(alpha_audi)):\n",
        "  dossier=re.sub(r' ', r'_',alpha_audi[i])\n",
        "  pathe='/content/gdrive/My Drive/mobmod/Afla_Romeo_Audi/'+dossier\n",
        "  nom_voiture = [f for f in listdir(pathe) if isfile(join(pathe, f))]\n",
        "  path_finale=pathe+'/'+str(nom_voiture[0])\n",
        "  res=(sportivity(path_finale))\n",
        "  resultat_alpha_audi[alpha_audi[i]] = res"
      ],
      "execution_count": null,
      "outputs": []
    },
    {
      "cell_type": "code",
      "metadata": {
        "colab": {
          "base_uri": "https://localhost:8080/"
        },
        "id": "Y8-K213jFF2w",
        "outputId": "0d09cb93-2279-4c43-ebde-35d1accb7c8b"
      },
      "source": [
        "print(resultat_alpha_audi)"
      ],
      "execution_count": null,
      "outputs": [
        {
          "output_type": "stream",
          "text": [
            "{'ALFA ROMEO 159': 10.376559, 'ALFA ROMEO 4C': 14.831973, 'ALFA ROMEO AR8C SPIDER': 16.997547, 'ALFA ROMEO BRERA ': 13.123381, 'ALFA ROMEO GIULIETTA ': 15.250566, 'ALFA ROMEO MITO ': 20.782114, 'ALFA ROMEO SPIDER ': 13.698536, 'AUDI A1': 13.070835, 'AUDI S1': 14.704817, 'AUDI A1 SPORTBACK': 11.494576, 'AUDI S1 SPORTBACK': 14.6290455, 'AUDI A3': 12.202611, 'AUDI S3': 13.899887, 'AUDI A3 CABRIOLET': 17.024063, 'AUDI S3 CABRIOLET': 11.427822, 'AUDI A3 LIMOUSINE': 17.592258, 'AUDI S3 LIMOUSINE': 13.663857, 'AUDI A3 SPORTBACK': 12.575362, 'AUDI S3 SPORTBACK': 15.34195, 'AUDI A3 SPORTBACK E-TRON': 13.0824, 'AUDI RS 3 SPORTBACK': 15.906243, 'AUDI A4 AVANT': 15.978995, 'AUDI S4 AVANT': 14.233163, 'AUDI A4 ALLROAD QUATTRO': 11.446545, 'AUDI A4 LIMOUSINE': 10.945161, 'AUDI S4 LIMOUSINE': 15.13072, 'AUDI A5 COUPE': 15.654849, 'AUDI S5 COUPE': 14.206305, 'AUDI A5 CABRIOLET': 13.671553, 'AUDI S5 CABRIOLET': 19.236305, 'AUDI A5 SPORTBACK': 15.691305, 'AUDI S5 SPORTBACK': 10.581042, 'AUDI A6 AVANT': 10.787785, 'AUDI S6 AVANT': 13.64428, 'AUDI RS 6 AVANT': 14.197757, 'AUDI A6 ALLROAD QUATTRO': 10.174195, 'AUDI A6 LIMOUSINE': 9.957563, 'AUDI S6 LIMOUSINE': 15.734896, 'AUDI A7 SPORTBACK': 13.237353, 'AUDI S7 SPORTBACK': 17.846588, 'AUDI RS 7 SPORTBACK': 13.237353, 'AUDI A8L': 10.373586, 'AUDI A8LW12': 12.118509, 'AUDI A8': 10.373586, 'AUDI S8': 10.643647, 'AUDI Q3': 8.377413, 'AUDI Q5': 12.246614, 'AUDI SQ5 TDI': 11.582212, 'AUDI Q7': 9.223952, 'AUDI R8 COUPE': 18.469847, 'AUDI R8 SPYDER': 17.733513, 'AUDI TT COUPE ': 12.733743, 'AUDI TT ROADSTER ': 12.991097, 'AUDI TTS ROADSTER ': 12.433792}\n"
          ],
          "name": "stdout"
        }
      ]
    },
    {
      "cell_type": "code",
      "metadata": {
        "id": "8qBLs18zGUl7"
      },
      "source": [
        "Bently_Citroen=['BENTLEY CONTINENTAL GT SPEED ', 'BENTLEY CONTINENTAL GT ', 'BENTLEY CONTINENTAL GT V8', 'BENTLEY CONTINENTAL GT V8 S', 'BENTLEY CONTINENTAL GT3-R', 'BENTLEY CONTINENTAL GT SPEED CONV ', 'BENTLEY CONTINENTAL GT CONV ', 'BENTLEY CONTINENTAL GT V8 CONV', 'BENTLEY CONTINENTAL GT V8 S CONV', 'BENTLEY FLYING SPUR W12', 'BENTLEY FLYING SPUR V8', 'BENTLEY MULSANNE ', 'BENTLEY MULSANNE SPEED ', 'BMW SERIE 1', 'BMW SERIE 2', 'BMW SERIE 3', 'BMW SERIE 4', 'BMW SERIE 5', 'BMW SERIE 6', 'BMW SERIE 7', 'BMW M3', 'BMW M4', 'BMW M5', 'BMW SERIE X ', 'BMW SERIE Z ', 'BMW I SERIE I ', 'CADILLAC ATS ', 'CADILLAC CTS ', 'CADILLAC ESCALADE ', 'CADILLAC SRX ', 'CHEVROLET CAMARO ', 'CHEVROLET CORVETTE ', 'CITROEN BERLINGO ', 'CITROEN C-ZERO ', 'CITROEN C1', 'CITROEN C3', 'CITROEN C3 PICASSO', 'CITROEN C4', 'CITROEN C4 AIRCROSS', 'CITROEN C4 CACTUS', 'CITROEN C4 PICASSO', 'CITROEN C5', 'CITROEN C8', 'CITROEN DS3', 'CITROEN DS4', 'CITROEN DS5', 'CITROEN JUMPER ', 'CITROEN JUMPY ', 'CITROEN NEMO ']"
      ],
      "execution_count": null,
      "outputs": []
    },
    {
      "cell_type": "code",
      "metadata": {
        "id": "fjwFmND5Ggif"
      },
      "source": [
        "import re\n",
        "import os\n",
        "from os import listdir\n",
        "from os.path import isfile, join\n",
        "resultat_Bently_Citroen = {}\n",
        "for i in range(len(Bently_Citroen)):\n",
        "  dossier=Bently_Citroen[i]\n",
        "  pathe='/content/gdrive/My Drive/mobmod/Bently_Citroen/'+dossier\n",
        "  nom_voiture = [f for f in listdir(pathe) if isfile(join(pathe, f))]\n",
        "  path_finale=pathe+'/'+str(nom_voiture[0])\n",
        "  res=(sportivity(path_finale))\n",
        "  resultat_Bently_Citroen[Bently_Citroen[i]] = res"
      ],
      "execution_count": null,
      "outputs": []
    },
    {
      "cell_type": "code",
      "metadata": {
        "colab": {
          "base_uri": "https://localhost:8080/"
        },
        "id": "FYh4Iu8BG-n-",
        "outputId": "9ec55a1c-5d06-481f-985a-b0e5599ab645"
      },
      "source": [
        "print(resultat_Bently_Citroen)"
      ],
      "execution_count": null,
      "outputs": [
        {
          "output_type": "stream",
          "text": [
            "{'BENTLEY CONTINENTAL GT SPEED ': 17.184042, 'BENTLEY CONTINENTAL GT ': 14.640736, 'BENTLEY CONTINENTAL GT V8': 15.022977, 'BENTLEY CONTINENTAL GT V8 S': 12.632848, 'BENTLEY CONTINENTAL GT3-R': 14.848703, 'BENTLEY CONTINENTAL GT SPEED CONV ': 18.810688, 'BENTLEY CONTINENTAL GT CONV ': 15.574291, 'BENTLEY CONTINENTAL GT V8 CONV': 12.87875, 'BENTLEY CONTINENTAL GT V8 S CONV': 15.980573, 'BENTLEY FLYING SPUR W12': 10.21747, 'BENTLEY FLYING SPUR V8': 19.52326, 'BENTLEY MULSANNE ': 10.453824, 'BENTLEY MULSANNE SPEED ': 11.911858, 'BMW SERIE 1': 10.340026, 'BMW SERIE 2': 13.912762, 'BMW SERIE 3': 14.4522295, 'BMW SERIE 4': 18.626026, 'BMW SERIE 5': 16.956501, 'BMW SERIE 6': 14.464093, 'BMW SERIE 7': 12.999398, 'BMW M3': 14.554123, 'BMW M4': 18.015924, 'BMW M5': 15.073245, 'BMW SERIE X ': 9.406727, 'BMW SERIE Z ': 16.449146, 'BMW I SERIE I ': 10.203457, 'CADILLAC ATS ': 13.483189, 'CADILLAC CTS ': 14.539122, 'CADILLAC ESCALADE ': 6.8295455, 'CADILLAC SRX ': 0, 'CHEVROLET CAMARO ': 18.064613, 'CHEVROLET CORVETTE ': 19.571651, 'CITROEN BERLINGO ': 11.200632, 'CITROEN C-ZERO ': 0, 'CITROEN C1': 11.790014, 'CITROEN C3': 8.219314, 'CITROEN C3 PICASSO': 10.472655, 'CITROEN C4': 8.379906, 'CITROEN C4 AIRCROSS': 11.887551, 'CITROEN C4 CACTUS': 7.907484, 'CITROEN C4 PICASSO': 9.037332, 'CITROEN C5': 9.434932, 'CITROEN C8': 0, 'CITROEN DS3': 14.6051445, 'CITROEN DS4': 9.28043, 'CITROEN DS5': 9.713765, 'CITROEN JUMPER ': 0, 'CITROEN JUMPY ': 8.555829, 'CITROEN NEMO ': 8.161078}\n"
          ],
          "name": "stdout"
        }
      ]
    },
    {
      "cell_type": "code",
      "metadata": {
        "id": "uPu_h5izHcjb"
      },
      "source": [
        "Dacia_Hyndia=['DANGEL BERLINGO ', 'DANGEL JUMPER 4X4', 'DANGEL JUMPY 4x4', 'DANGEL NEMO TREK ', 'DANGEL DUCATO 4x4', 'DANGEL SCUDO 4x4', 'DANGEL BIPPER TREK ', 'DANGEL BOXER 4X4', 'DANGEL EXPERT 4x4', 'DANGEL PARTNER ', 'DACIA DOKKER ', 'DACIA DUSTER ', 'DACIA LODGY ', 'DACIA LOGAN ', 'DACIA SANDERO ', 'FERRARI 458', 'FERRARI CALIFORNIA ', 'FERRARI 12', 'FERRARI FF ', 'FERRARI LAFERRARI ', 'FIAT 500', 'FIAT 500C', 'FIAT 500 ABARTH', 'FIAT 500C ABARTH', 'FIAT 500L', 'FIAT BRAVO ', 'FIAT DOBLO ', 'FIAT DUCATO ', 'FIAT FIORINO ', 'FIAT FREEMONT ', 'FIAT PANDA ', 'FIAT PUNTO ', 'FIAT SCUDO ', 'FIAT SEDICI ', 'FORD B-MAX ', 'FORD GRAND C-MAX ', 'FORD C-MAX ', 'FORD ECOSPORT ', 'FORD FIESTA ', 'FORD FOCUS ', 'FORD KA ', 'FORD KUGA ', 'FORD MONDEO ', 'FORD S-MAX ', 'FORD TOURNEO ', 'FORD TOURNEO COURIER ', 'FORD TOURNEO CUSTOM ', 'FORD TRANSIT ', 'FORD TRANSIT CUSTOM ', 'FORD-CNG-TECHNIK MONDEO HYBRID ', 'HONDA ACCORD ', 'HONDA CIVIC ', 'HONDA CR-V ', 'HONDA CR-Z ', 'HONDA INSIGHT ', 'HONDA JAZZ ', 'HONDA JAZZ HYBRID ', 'HYUNDAI GENESIS ', 'HYUNDAI I 10', 'HYUNDAI I 20', 'HYUNDAI I 30', 'HYUNDAI I40', 'HYUNDAI IX20', 'HYUNDAI IX 35', 'HYUNDAI SANTA FE ', 'HYUNDAI VELOSTER ']"
      ],
      "execution_count": null,
      "outputs": []
    },
    {
      "cell_type": "code",
      "metadata": {
        "id": "HpbP6qvrHnIb"
      },
      "source": [
        "import re\n",
        "import os\n",
        "from os import listdir\n",
        "from os.path import isfile, join\n",
        "resultat_Dacia_Hyndia = {}\n",
        "for i in range(len(Dacia_Hyndia)):\n",
        "  dossier=Dacia_Hyndia[i]\n",
        "  pathe='/content/gdrive/My Drive/mobmod/Dacia_Hyndia/'+dossier\n",
        "  nom_voiture = [f for f in listdir(pathe) if isfile(join(pathe, f))]\n",
        "  path_finale=pathe+'/'+str(nom_voiture[0])\n",
        "  res=(sportivity(path_finale))\n",
        "  resultat_Dacia_Hyndia[Dacia_Hyndia[i]] = res"
      ],
      "execution_count": null,
      "outputs": []
    },
    {
      "cell_type": "code",
      "metadata": {
        "colab": {
          "base_uri": "https://localhost:8080/"
        },
        "id": "pS_f8LuoIDgh",
        "outputId": "c6b14d61-8a54-4e23-9bb4-965078d1c173"
      },
      "source": [
        "print(resultat_Dacia_Hyndia)"
      ],
      "execution_count": null,
      "outputs": [
        {
          "output_type": "stream",
          "text": [
            "{'DANGEL BERLINGO ': 0, 'DANGEL JUMPER 4X4': 0, 'DANGEL JUMPY 4x4': 0, 'DANGEL NEMO TREK ': 0, 'DANGEL DUCATO 4x4': 0, 'DANGEL SCUDO 4x4': 0, 'DANGEL BIPPER TREK ': 11.272973, 'DANGEL BOXER 4X4': 0, 'DANGEL EXPERT 4x4': 0, 'DANGEL PARTNER ': 13.142806, 'DACIA DOKKER ': 0, 'DACIA DUSTER ': 0, 'DACIA LODGY ': 0, 'DACIA LOGAN ': 8.86528, 'DACIA SANDERO ': 9.532442, 'FERRARI 458': 17.532059, 'FERRARI CALIFORNIA ': 18.099144, 'FERRARI 12': 20.947376, 'FERRARI FF ': 13.946455, 'FERRARI LAFERRARI ': 22.412098, 'FIAT 500': 13.037354, 'FIAT 500C': 15.950784, 'FIAT 500 ABARTH': 12.118115, 'FIAT 500C ABARTH': 8.715285, 'FIAT 500L': 10.549083, 'FIAT BRAVO ': 11.166266, 'FIAT DOBLO ': 0, 'FIAT DUCATO ': 0, 'FIAT FIORINO ': 8.153634, 'FIAT FREEMONT ': 14.115106, 'FIAT PANDA ': 12.701095, 'FIAT PUNTO ': 11.269648, 'FIAT SCUDO ': 0, 'FIAT SEDICI ': 0, 'FORD B-MAX ': 10.634874, 'FORD GRAND C-MAX ': 8.965445, 'FORD C-MAX ': 8.269832, 'FORD ECOSPORT ': 11.955466, 'FORD FIESTA ': 10.199815, 'FORD FOCUS ': 15.305152, 'FORD KA ': 12.24943, 'FORD KUGA ': 15.055075, 'FORD MONDEO ': 11.213454, 'FORD S-MAX ': 11.386514, 'FORD TOURNEO ': 0, 'FORD TOURNEO COURIER ': 11.205654, 'FORD TOURNEO CUSTOM ': 0, 'FORD TRANSIT ': 0, 'FORD TRANSIT CUSTOM ': 0, 'FORD-CNG-TECHNIK MONDEO HYBRID ': 17.451982, 'HONDA ACCORD ': 12.916486, 'HONDA CIVIC ': 12.785089, 'HONDA CR-V ': 11.140395, 'HONDA CR-Z ': 11.935406, 'HONDA INSIGHT ': 9.0046625, 'HONDA JAZZ ': 12.84994, 'HONDA JAZZ HYBRID ': 9.121473, 'HYUNDAI GENESIS ': 14.624572, 'HYUNDAI I 10': 14.154625, 'HYUNDAI I 20': 12.106484, 'HYUNDAI I 30': 12.721966, 'HYUNDAI I40': 13.83507, 'HYUNDAI IX20': 10.405546, 'HYUNDAI IX 35': 9.628035, 'HYUNDAI SANTA FE ': 11.691709, 'HYUNDAI VELOSTER ': 14.502788}\n"
          ],
          "name": "stdout"
        }
      ]
    },
    {
      "cell_type": "code",
      "metadata": {
        "id": "4iFAIfm3IzDg"
      },
      "source": [
        "Infifnity_LandRover=['INFINITI Q50', 'INFINITI Q60', 'INFINITI Q70', 'INFINITI QX50', 'INFINITI QX70', 'JAGUAR F-TYPE ', 'JAGUAR XF ', 'JAGUAR XF SPORTBRAKE ', 'JAGUAR XJ ', 'JEEP CHEROKEE ', 'JEEP COMPASS ', 'JEEP GRAND CHEROKEE ', 'JEEP GRAND CHEROKEE SRT8', 'JEEP WRANGLER ', 'JEEP WRANGLER UNLIMITED ', 'KIA CARENS ', \"KIA CEE'D \", 'KIA OPTIMA ', 'KIA PICANTO ', 'KIA RIO ', 'KIA SORENTO ', 'KIA SOUL ', 'KIA SPORTAGE ', 'KIA VENGA ', 'LADA 4X4', 'LAMBORGHINI AVENTADOR ', 'LAMBORGHINI GALLARDO ', 'LAMBORGHINI HURACAN ', 'LANCIA DELTA ', 'LANCIA FLAVIA ', 'LANCIA MUSA ', 'LANCIA THEMA ', 'LANCIA VOYAGER ', 'LANCIA YPSILON ', 'LAND ROVER DISCOVERY ', 'LAND ROVER DISCOVERY SPORT ', 'LAND ROVER FREELANDER ', 'RANGE ROVER ', 'RANGE ROVER EVOQUE ', 'RANGE ROVER SPORT ']"
      ],
      "execution_count": null,
      "outputs": []
    },
    {
      "cell_type": "code",
      "metadata": {
        "id": "PAMN8jF5IzNM"
      },
      "source": [
        "import re\n",
        "import os\n",
        "from os import listdir\n",
        "from os.path import isfile, join\n",
        "resultat_Infifnity_LandRover = {}\n",
        "for i in range(len(Infifnity_LandRover)):\n",
        "  dossier=Infifnity_LandRover[i]\n",
        "  pathe='/content/gdrive/My Drive/mobmod/Infifnity_LandRover/'+dossier\n",
        "  nom_voiture = [f for f in listdir(pathe) if isfile(join(pathe, f))]\n",
        "  path_finale=pathe+'/'+str(nom_voiture[0])\n",
        "  res=(sportivity(path_finale))\n",
        "  resultat_Infifnity_LandRover[Infifnity_LandRover[i]] = res"
      ],
      "execution_count": null,
      "outputs": []
    },
    {
      "cell_type": "code",
      "metadata": {
        "colab": {
          "base_uri": "https://localhost:8080/"
        },
        "id": "hP9fbWN3JS5F",
        "outputId": "f12009ee-af24-4a45-f42c-f6d93ef1ac91"
      },
      "source": [
        "print(resultat_Infifnity_LandRover)"
      ],
      "execution_count": null,
      "outputs": [
        {
          "output_type": "stream",
          "text": [
            "{'INFINITI Q50': 14.993926, 'INFINITI Q60': 15.45472, 'INFINITI Q70': 15.480587, 'INFINITI QX50': 12.913082, 'INFINITI QX70': 11.018745, 'JAGUAR F-TYPE ': 17.910227, 'JAGUAR XF ': 11.475313, 'JAGUAR XF SPORTBRAKE ': 13.530283, 'JAGUAR XJ ': 13.10983, 'JEEP CHEROKEE ': 0, 'JEEP COMPASS ': 9.461135, 'JEEP GRAND CHEROKEE ': 14.845713, 'JEEP GRAND CHEROKEE SRT8': 12.397548, 'JEEP WRANGLER ': 0, 'JEEP WRANGLER UNLIMITED ': 0, 'KIA CARENS ': 11.747878, \"KIA CEE'D \": 9.746482, 'KIA OPTIMA ': 17.375856, 'KIA PICANTO ': 12.926582, 'KIA RIO ': 9.2249155, 'KIA SORENTO ': 11.384877, 'KIA SOUL ': 9.509423, 'KIA SPORTAGE ': 13.260007, 'KIA VENGA ': 11.353968, 'LADA 4X4': 8.191124, 'LAMBORGHINI AVENTADOR ': 16.398157, 'LAMBORGHINI GALLARDO ': 16.292963, 'LAMBORGHINI HURACAN ': 20.404951, 'LANCIA DELTA ': 12.737686, 'LANCIA FLAVIA ': 11.448386, 'LANCIA MUSA ': 8.930084, 'LANCIA THEMA ': 10.545906, 'LANCIA VOYAGER ': 11.853029, 'LANCIA YPSILON ': 11.0707855, 'LAND ROVER DISCOVERY ': 9.464237, 'LAND ROVER DISCOVERY SPORT ': 12.264362, 'LAND ROVER FREELANDER ': 9.235557, 'RANGE ROVER ': 11.816732, 'RANGE ROVER EVOQUE ': 18.814426, 'RANGE ROVER SPORT ': 10.528304}\n"
          ],
          "name": "stdout"
        }
      ]
    },
    {
      "cell_type": "code",
      "metadata": {
        "id": "YII4q4ZnMS59"
      },
      "source": [
        "Lexus_Mercedes=['LEXUS CT200H','LEXUS GS450','LEXUS GS300', 'LEXUS GS250', 'LEXUS IS F ', 'LEXUS IS220', 'LEXUS IS200', 'LEXUS IS300H', 'LEXUS IS250', 'LEXUS LEXUS LFA ', 'LEXUS LS460', 'LEXUS LS600', 'LEXUS NX200T', 'LEXUS NX300H', 'LEXUS LEXUS RC F ', 'LEXUS RX350', 'LEXUS RX450H', 'MASERATI GHIBLI S ', 'MASERATI GHIBLI S Q4', 'MASERATI GHIBLI ', 'MASERATI GHIBLI DIESEL ', 'MASERATI GRANCABRIO ', 'MASERATI GRANCABRIO SPORT ', 'MASERATI GRANCABRIO MC ', 'MASERATI GRANTURISMO ', 'MASERATI GRANTURISMO SPORT ', 'MASERATI QUATTROPORTE GTS ', 'MASERATI QUATTROPORTE ', 'MASERATI QUATTROPORTE S ', 'MASERATI QUATTROPORTE S Q4', 'MASERATI QUATTROPORTE DIESEL ', 'MAZDA MAZDA 2', 'MAZDA MAZDA 3', 'MAZDA MAZDA 5', 'MAZDA MAZDA 6', 'MAZDA MAZDA CX-5', 'MAZDA MX-5', 'MERCEDES CLASSE A ', 'MERCEDES GT ', 'MERCEDES CLASSE B ', 'MERCEDES CLASSE C ', 'MERCEDES CITAN ', 'MERCEDES CLASSE CL ', 'MERCEDES CLASSE CLA ', 'MERCEDES CLASSE V ', 'MERCEDES CLASSE CLS ', 'MERCEDES CLASSE E ', 'MERCEDES CLASSE G ', 'MERCEDES CLASSE GL ', 'MERCEDES CLASSE M ', 'MERCEDES CLASSE GLA ', 'MERCEDES CLASSE S ', 'MERCEDES S63 AMG', 'MERCEDES S65 AMG', 'MERCEDES CLASSE SL ', 'MERCEDES CLASSE SLK ', 'MERCEDES SLS AMG ', 'MERCEDES SPRINTER ', 'MERCEDES VITO ']"
      ],
      "execution_count": null,
      "outputs": []
    },
    {
      "cell_type": "code",
      "metadata": {
        "id": "LgLf-TLTMWVk"
      },
      "source": [
        "import re\n",
        "import os\n",
        "from os import listdir\n",
        "from os.path import isfile, join\n",
        "resultat_Lexus_Mercedes = {}\n",
        "for i in range(len(Lexus_Mercedes)):\n",
        "  dossier=Lexus_Mercedes[i]\n",
        "  pathe='/content/gdrive/My Drive/mobmod/Lexus_Mercedes/'+dossier\n",
        "  nom_voiture = [f for f in listdir(pathe) if isfile(join(pathe, f))]\n",
        "  path_finale=pathe+'/'+str(nom_voiture[0])\n",
        "  res=(sportivity(path_finale))\n",
        "  resultat_Lexus_Mercedes[Lexus_Mercedes[i]] = res"
      ],
      "execution_count": null,
      "outputs": []
    },
    {
      "cell_type": "code",
      "metadata": {
        "colab": {
          "base_uri": "https://localhost:8080/"
        },
        "id": "qQN8Ze3lMTAU",
        "outputId": "a1682ebf-7441-42b6-9450-1fc30e2c7868"
      },
      "source": [
        "print(resultat_Lexus_Mercedes)"
      ],
      "execution_count": null,
      "outputs": [
        {
          "output_type": "stream",
          "text": [
            "{'LEXUS CT200H': 10.912318, 'LEXUS GS450': 12.098097, 'LEXUS GS300': 9.572818, 'LEXUS GS250': 13.606593, 'LEXUS IS F ': 12.016998, 'LEXUS IS220': 12.923829, 'LEXUS IS200': 14.905552, 'LEXUS IS300H': 16.833502, 'LEXUS IS250': 17.464722, 'LEXUS LEXUS LFA ': 17.24971, 'LEXUS LS460': 14.577887, 'LEXUS LS600': 12.175249, 'LEXUS NX200T': 12.523384, 'LEXUS NX300H': 16.280209, 'LEXUS LEXUS RC F ': 19.68581, 'LEXUS RX350': 11.66918, 'LEXUS RX450H': 18.873453, 'MASERATI GHIBLI S ': 14.001314, 'MASERATI GHIBLI S Q4': 13.238889, 'MASERATI GHIBLI ': 19.983189, 'MASERATI GHIBLI DIESEL ': 16.052813, 'MASERATI GRANCABRIO ': 12.465559, 'MASERATI GRANCABRIO SPORT ': 13.646898, 'MASERATI GRANCABRIO MC ': 14.147495, 'MASERATI GRANTURISMO ': 20.471859, 'MASERATI GRANTURISMO SPORT ': 21.062035, 'MASERATI QUATTROPORTE GTS ': 13.887167, 'MASERATI QUATTROPORTE ': 13.876429, 'MASERATI QUATTROPORTE S ': 11.745634, 'MASERATI QUATTROPORTE S Q4': 7.9793625, 'MASERATI QUATTROPORTE DIESEL ': 14.599355, 'MAZDA MAZDA 2': 13.011833, 'MAZDA MAZDA 3': 13.753514, 'MAZDA MAZDA 5': 14.311469, 'MAZDA MAZDA 6': 14.399532, 'MAZDA MAZDA CX-5': 14.311469, 'MAZDA MX-5': 19.869251, 'MERCEDES CLASSE A ': 14.135773, 'MERCEDES GT ': 20.089434, 'MERCEDES CLASSE B ': 8.056934, 'MERCEDES CLASSE C ': 12.077814, 'MERCEDES CITAN ': 0, 'MERCEDES CLASSE CL ': 13.066196, 'MERCEDES CLASSE CLA ': 16.727411, 'MERCEDES CLASSE V ': 10.444625, 'MERCEDES CLASSE CLS ': 13.947634, 'MERCEDES CLASSE E ': 15.095927, 'MERCEDES CLASSE G ': 9.017655, 'MERCEDES CLASSE GL ': 11.327351, 'MERCEDES CLASSE M ': 10.114692, 'MERCEDES CLASSE GLA ': 11.527395, 'MERCEDES CLASSE S ': 10.238022, 'MERCEDES S63 AMG': 10.87719, 'MERCEDES S65 AMG': 19.309439, 'MERCEDES CLASSE SL ': 18.249819, 'MERCEDES CLASSE SLK ': 14.026109, 'MERCEDES SLS AMG ': 15.007809, 'MERCEDES SPRINTER ': 0, 'MERCEDES VITO ': 9.708964}\n"
          ],
          "name": "stdout"
        }
      ]
    },
    {
      "cell_type": "code",
      "metadata": {
        "id": "__xCGCz3NLIp"
      },
      "source": [
        "Mini_Peugeot=['MINI MINI ', 'MITSUBISHI ASX ', 'MITSUBISHI I-MIEV ', 'MITSUBISHI OUTLANDER ', 'MITSUBISHI PAJERO ', 'MITSUBISHI SPACE STAR ', 'NISSAN 370Z', 'NISSAN 370Z ROADSTER', 'NISSAN GT-R ', 'NISSAN JUKE ', 'NISSAN LEAF ', 'NISSAN MICRA ', 'NISSAN MURANO ', 'NISSAN NOTE ', 'NISSAN NV200', 'NISSAN E-NV200', 'NISSAN NV300', 'NISSAN NV400', 'NISSAN PULSAR ', 'NISSAN QASHQAI ', 'NISSAN X-TRAIL ', 'OPEL ADAM ', 'OPEL AGILA ', 'OPEL AMPERA ', 'OPEL ANTARA ', 'OPEL ASTRA GTC ', 'OPEL ASTRA SPORTS TOURER ', 'OPEL ASTRA ', 'OPEL CASCADA ', 'OPEL COMBO ', 'OPEL CORSA ', 'OPEL INSIGNIA ', 'OPEL MERIVA ', 'OPEL MOKKA ', 'OPEL MOVANO ', 'OPEL VIVARO ', 'OPEL ZAFIRA TOURER ', 'PEUGEOT 108', 'PEUGEOT 2008', 'PEUGEOT 207', 'PEUGEOT 208', 'PEUGEOT 3008', 'PEUGEOT 308', 'PEUGEOT 4008', 'PEUGEOT 5008', 'PEUGEOT 508', 'PEUGEOT BIPPER ', 'PEUGEOT BIPPER TREK ', 'PEUGEOT BOXER 4X4', 'PEUGEOT BOXER ', 'PEUGEOT EXPERT 4x4', 'PEUGEOT EXPERT ', 'PEUGEOT ION ', 'PEUGEOT PARTNER ', 'PEUGEOT RCZ ']"
      ],
      "execution_count": null,
      "outputs": []
    },
    {
      "cell_type": "code",
      "metadata": {
        "colab": {
          "background_save": true
        },
        "id": "DMCv7oHSNW9_"
      },
      "source": [
        "import re\n",
        "import os\n",
        "from os import listdir\n",
        "from os.path import isfile, join\n",
        "resultat_Mini_Peugeot = {}\n",
        "for i in range(len(Mini_Peugeot)):\n",
        "  dossier=Mini_Peugeot[i]\n",
        "  pathe='/content/gdrive/My Drive/mobmod/Mini_Peugeot/'+dossier\n",
        "  nom_voiture = [f for f in listdir(pathe) if isfile(join(pathe, f))]\n",
        "  path_finale=pathe+'/'+str(nom_voiture[0])\n",
        "  res=(sportivity(path_finale))\n",
        "  resultat_Mini_Peugeot[Mini_Peugeot[i]] = res"
      ],
      "execution_count": null,
      "outputs": []
    },
    {
      "cell_type": "code",
      "metadata": {
        "colab": {
          "background_save": true
        },
        "id": "L3K3rUe2NXAp",
        "outputId": "648871cc-8a46-47d8-88ad-7784b1fb1e8c"
      },
      "source": [
        ""
      ],
      "execution_count": null,
      "outputs": [
        {
          "output_type": "stream",
          "text": [
            "{'MINI MINI ': 13.294758, 'MITSUBISHI ASX ': 16.47491, 'MITSUBISHI I-MIEV ': 8.568532, 'MITSUBISHI OUTLANDER ': 13.241561, 'MITSUBISHI PAJERO ': 18.387987, 'MITSUBISHI SPACE STAR ': 11.510229, 'NISSAN 370Z': 13.748858, 'NISSAN 370Z ROADSTER': 13.748858, 'NISSAN GT-R ': 15.198308, 'NISSAN JUKE ': 16.230776, 'NISSAN LEAF ': 10.627826, 'NISSAN MICRA ': 14.881414, 'NISSAN MURANO ': 14.12509, 'NISSAN NOTE ': 8.594523, 'NISSAN NV200': 0, 'NISSAN E-NV200': 0, 'NISSAN NV300': 9.111602, 'NISSAN NV400': 0, 'NISSAN PULSAR ': 10.265837, 'NISSAN QASHQAI ': 15.988812, 'NISSAN X-TRAIL ': 9.433926, 'OPEL ADAM ': 11.733893, 'OPEL AGILA ': 12.203449, 'OPEL AMPERA ': 13.5043745, 'OPEL ANTARA ': 0, 'OPEL ASTRA GTC ': 15.57448, 'OPEL ASTRA SPORTS TOURER ': 9.876941, 'OPEL ASTRA ': 10.228082, 'OPEL CASCADA ': 26.73579, 'OPEL COMBO ': 0, 'OPEL CORSA ': 15.095334, 'OPEL INSIGNIA ': 15.23494, 'OPEL MERIVA ': 12.419812, 'OPEL MOKKA ': 12.370312, 'OPEL MOVANO ': 0, 'OPEL VIVARO ': 7.2132297, 'OPEL ZAFIRA TOURER ': 10.792505, 'PEUGEOT 108': 10.855825, 'PEUGEOT 2008': 15.917138, 'PEUGEOT 207': 11.40547, 'PEUGEOT 208': 15.68458, 'PEUGEOT 3008': 13.606207, 'PEUGEOT 308': 13.036921, 'PEUGEOT 4008': 10.189456, 'PEUGEOT 5008': 15.472451, 'PEUGEOT 508': 14.689935, 'PEUGEOT BIPPER ': 0, 'PEUGEOT BIPPER TREK ': 11.272973, 'PEUGEOT BOXER 4X4': 0, 'PEUGEOT BOXER ': 0, 'PEUGEOT EXPERT 4x4': 0, 'PEUGEOT EXPERT ': 0, 'PEUGEOT ION ': 9.166283, 'PEUGEOT PARTNER ': 8.186521, 'PEUGEOT RCZ ': 17.685207}\n"
          ],
          "name": "stdout"
        }
      ]
    },
    {
      "cell_type": "code",
      "metadata": {
        "id": "pr_2ZdSaNXEO"
      },
      "source": [
        ""
      ],
      "execution_count": null,
      "outputs": []
    }
  ]
}